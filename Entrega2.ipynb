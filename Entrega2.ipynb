{
 "cells": [
  {
   "cell_type": "markdown",
   "metadata": {
    "raw_mimetype": "notebook",
    "slideshow": {
     "slide_type": "fragment"
    },
    "tags": []
   },
   "source": [
    "# Trabajo Práctico Final - Curso Data Science - Coder House"
   ]
  },
  {
   "cell_type": "markdown",
   "metadata": {},
   "source": [
    "#### Empresa / Organización / Problema Específico\n",
    "Predicción de retrasos en la aviación comercial en Estados Unidos."
   ]
  },
  {
   "cell_type": "markdown",
   "metadata": {},
   "source": [
    "#### Objetivo de la Investigación\n",
    "\n",
    "Mejorar los servicios prestados a los pasajeros mediante la predicción de retrasos; conociendo la aerolinea que opera el vuelo, el día de la semana en la que está programado, su aeropuerto de origen y aeropuerto destino."
   ]
  },
  {
   "cell_type": "markdown",
   "metadata": {},
   "source": [
    "#### Equipo\n",
    "El equipos se encuentra conformado por:\n",
    "* Iván Arango \n",
    "* Natalia Johansen \n",
    "* Ignacio Piana\n"
   ]
  },
  {
   "cell_type": "markdown",
   "metadata": {},
   "source": [
    "#### Fuente de datos\n",
    "El dataset a utilizar se obtuvo de Kaggle --> https://www.kaggle.com/datasets/jimschacko/airlines-dataset-to-predict-a-delay\n",
    "\n",
    "Se seleccionó este dataset en base a la cantidad de registros y variables disponibles, así como la posibilidad de trabajar con un problema de negocio que nos resultara pertinente en la actualidad y acorde a nuestros intereses particulares. En la actualidad, los principales aeropuertos de todo el mundo se encuentran experimentando una situación cercana al colapso principalmente debido a la falta de recursos y de personal calificado (como pilotos, controladores aéreos, personal de seguridad, personal de logística, etc.). A raíz de los confinamientos aplicados por el avance de la COVID-19, tanto aerolíneas como aeropuertos aplicaron fuertes recortes de personal por la falta de actividad dentro del sector. Tras el ocaso de la pandemia, la demanda se incrementó exponencialmente y la industria de la aviación comercial no logra ponerse al día y los cuellos de botella en la operación ya son moneda corriente. Las consecuencias de esta crisis impactarán de lleno en perjuicio de los usuarios porque este desequilibrio entre oferta y demanda conduce a la reducción de rutas y frecuencias, cancelaciones y un incremento en los precios de los pasajes.  "
   ]
  },
  {
   "cell_type": "markdown",
   "metadata": {},
   "source": [
    "#### Objetivo de los datos\n",
    "Aspiramos a que este conjunto de datos nos permita encontrar correlaciones entre las diferentes variables disponibles para predecir aquellas aerolíneas, rutas aéreas y/o aeropuertos dónde los pasajeros serán más propensos a sufrir retrasos en sus vuelos.\n",
    "\n",
    "El objetivo que establecimos es utilizar el 70% de los datos para entrenar el modelo, y el 30% restante para testearlo."
   ]
  },
  {
   "cell_type": "markdown",
   "metadata": {},
   "source": [
    "## Data acquisition - Airlines"
   ]
  },
  {
   "cell_type": "markdown",
   "metadata": {},
   "source": [
    "### 1. Carga de datos "
   ]
  },
  {
   "cell_type": "code",
   "execution_count": 1,
   "metadata": {},
   "outputs": [],
   "source": [
    "# Importamos librerias a utilizar\n",
    "import pandas as pd\n",
    "import numpy as np\n",
    "import matplotlib.pyplot as plt\n",
    "import matplotlib as mpl\n",
    "import seaborn as sns"
   ]
  },
  {
   "cell_type": "code",
   "execution_count": 2,
   "metadata": {},
   "outputs": [
    {
     "data": {
      "text/html": [
       "<div>\n",
       "<style scoped>\n",
       "    .dataframe tbody tr th:only-of-type {\n",
       "        vertical-align: middle;\n",
       "    }\n",
       "\n",
       "    .dataframe tbody tr th {\n",
       "        vertical-align: top;\n",
       "    }\n",
       "\n",
       "    .dataframe thead th {\n",
       "        text-align: right;\n",
       "    }\n",
       "</style>\n",
       "<table border=\"1\" class=\"dataframe\">\n",
       "  <thead>\n",
       "    <tr style=\"text-align: right;\">\n",
       "      <th></th>\n",
       "      <th>id</th>\n",
       "      <th>Airline</th>\n",
       "      <th>Flight</th>\n",
       "      <th>AirportFrom</th>\n",
       "      <th>AirportTo</th>\n",
       "      <th>DayOfWeek</th>\n",
       "      <th>Time</th>\n",
       "      <th>Length</th>\n",
       "      <th>Delay</th>\n",
       "    </tr>\n",
       "  </thead>\n",
       "  <tbody>\n",
       "    <tr>\n",
       "      <th>0</th>\n",
       "      <td>1</td>\n",
       "      <td>CO</td>\n",
       "      <td>269</td>\n",
       "      <td>SFO</td>\n",
       "      <td>IAH</td>\n",
       "      <td>3</td>\n",
       "      <td>15</td>\n",
       "      <td>205</td>\n",
       "      <td>1</td>\n",
       "    </tr>\n",
       "    <tr>\n",
       "      <th>1</th>\n",
       "      <td>2</td>\n",
       "      <td>US</td>\n",
       "      <td>1558</td>\n",
       "      <td>PHX</td>\n",
       "      <td>CLT</td>\n",
       "      <td>3</td>\n",
       "      <td>15</td>\n",
       "      <td>222</td>\n",
       "      <td>1</td>\n",
       "    </tr>\n",
       "    <tr>\n",
       "      <th>2</th>\n",
       "      <td>3</td>\n",
       "      <td>AA</td>\n",
       "      <td>2400</td>\n",
       "      <td>LAX</td>\n",
       "      <td>DFW</td>\n",
       "      <td>3</td>\n",
       "      <td>20</td>\n",
       "      <td>165</td>\n",
       "      <td>1</td>\n",
       "    </tr>\n",
       "    <tr>\n",
       "      <th>3</th>\n",
       "      <td>4</td>\n",
       "      <td>AA</td>\n",
       "      <td>2466</td>\n",
       "      <td>SFO</td>\n",
       "      <td>DFW</td>\n",
       "      <td>3</td>\n",
       "      <td>20</td>\n",
       "      <td>195</td>\n",
       "      <td>1</td>\n",
       "    </tr>\n",
       "    <tr>\n",
       "      <th>4</th>\n",
       "      <td>5</td>\n",
       "      <td>AS</td>\n",
       "      <td>108</td>\n",
       "      <td>ANC</td>\n",
       "      <td>SEA</td>\n",
       "      <td>3</td>\n",
       "      <td>30</td>\n",
       "      <td>202</td>\n",
       "      <td>0</td>\n",
       "    </tr>\n",
       "  </tbody>\n",
       "</table>\n",
       "</div>"
      ],
      "text/plain": [
       "   id Airline  Flight AirportFrom AirportTo  DayOfWeek  Time  Length  Delay\n",
       "0   1      CO     269         SFO       IAH          3    15     205      1\n",
       "1   2      US    1558         PHX       CLT          3    15     222      1\n",
       "2   3      AA    2400         LAX       DFW          3    20     165      1\n",
       "3   4      AA    2466         SFO       DFW          3    20     195      1\n",
       "4   5      AS     108         ANC       SEA          3    30     202      0"
      ]
     },
     "execution_count": 2,
     "metadata": {},
     "output_type": "execute_result"
    }
   ],
   "source": [
    "# Lectura del csv de Aerolineas y Vuelos\n",
    "df_air = pd.read_csv('Airlines.csv', sep=',')\n",
    "df_air.head()"
   ]
  },
  {
   "cell_type": "markdown",
   "metadata": {},
   "source": [
    "**Data Features - Airlines.csv**\n",
    "\n",
    "1. **Airline:** Diferentes tipos de aerolineas comerciales\n",
    "2. **Flight:** Número de Vuelo\n",
    "3. **Airport From:** Aeropuesto de salida\n",
    "4. **Airport To:** Aeropuerto de llegada\n",
    "5. **DayOfWeek:** Día de la semana en el que se realiza el vuelo\n",
    "6. **Time:** Horario de partida del vuelo (en minutos)\n",
    "7. **Length:** Duración del vuelvo (en minutos)\n",
    "8. **Delay:** booleano si el vuelo tuvo demoras o no"
   ]
  },
  {
   "cell_type": "code",
   "execution_count": 3,
   "metadata": {},
   "outputs": [
    {
     "data": {
      "text/html": [
       "<div>\n",
       "<style scoped>\n",
       "    .dataframe tbody tr th:only-of-type {\n",
       "        vertical-align: middle;\n",
       "    }\n",
       "\n",
       "    .dataframe tbody tr th {\n",
       "        vertical-align: top;\n",
       "    }\n",
       "\n",
       "    .dataframe thead th {\n",
       "        text-align: right;\n",
       "    }\n",
       "</style>\n",
       "<table border=\"1\" class=\"dataframe\">\n",
       "  <thead>\n",
       "    <tr style=\"text-align: right;\">\n",
       "      <th></th>\n",
       "      <th>Airport</th>\n",
       "      <th>Cod_Airport</th>\n",
       "      <th>Desc_Airport</th>\n",
       "      <th>Loc</th>\n",
       "    </tr>\n",
       "  </thead>\n",
       "  <tbody>\n",
       "    <tr>\n",
       "      <th>0</th>\n",
       "      <td>ATL - Hartsfield-Jackson Atlanta International...</td>\n",
       "      <td>ATL</td>\n",
       "      <td>Hartsfield-Jackson Atlanta International Airport</td>\n",
       "      <td>Georgia</td>\n",
       "    </tr>\n",
       "    <tr>\n",
       "      <th>1</th>\n",
       "      <td>AUS - Austin-Bergstrom International Airport -...</td>\n",
       "      <td>AUS</td>\n",
       "      <td>Austin-Bergstrom International Airport</td>\n",
       "      <td>Texas</td>\n",
       "    </tr>\n",
       "    <tr>\n",
       "      <th>2</th>\n",
       "      <td>BNA - Nashville International Airport - Tennessee</td>\n",
       "      <td>BNA</td>\n",
       "      <td>Nashville International Airport</td>\n",
       "      <td>Tennessee</td>\n",
       "    </tr>\n",
       "    <tr>\n",
       "      <th>3</th>\n",
       "      <td>BOS - Boston Logan International Airport - Mas...</td>\n",
       "      <td>BOS</td>\n",
       "      <td>Boston Logan International Airport</td>\n",
       "      <td>Massachusetts</td>\n",
       "    </tr>\n",
       "    <tr>\n",
       "      <th>4</th>\n",
       "      <td>BWI - Baltimore-Washington International Thurg...</td>\n",
       "      <td>BWI</td>\n",
       "      <td>Baltimore-Washington International Thurgood Ma...</td>\n",
       "      <td>Washington</td>\n",
       "    </tr>\n",
       "  </tbody>\n",
       "</table>\n",
       "</div>"
      ],
      "text/plain": [
       "                                             Airport Cod_Airport  \\\n",
       "0  ATL - Hartsfield-Jackson Atlanta International...         ATL   \n",
       "1  AUS - Austin-Bergstrom International Airport -...         AUS   \n",
       "2  BNA - Nashville International Airport - Tennessee         BNA   \n",
       "3  BOS - Boston Logan International Airport - Mas...         BOS   \n",
       "4  BWI - Baltimore-Washington International Thurg...         BWI   \n",
       "\n",
       "                                        Desc_Airport            Loc  \n",
       "0   Hartsfield-Jackson Atlanta International Airport        Georgia  \n",
       "1             Austin-Bergstrom International Airport          Texas  \n",
       "2                    Nashville International Airport      Tennessee  \n",
       "3                 Boston Logan International Airport  Massachusetts  \n",
       "4  Baltimore-Washington International Thurgood Ma...     Washington  "
      ]
     },
     "execution_count": 3,
     "metadata": {},
     "output_type": "execute_result"
    }
   ],
   "source": [
    "# Lectura del csv de Aeropuertos\n",
    "df_airport = pd.read_csv('Airports.csv', sep=';')\n",
    "df_airport.head()"
   ]
  },
  {
   "cell_type": "markdown",
   "metadata": {},
   "source": [
    "**Data Features - Airports.csv**\n",
    "\n",
    "1. **Airport:** Nombre completo del aeropuerto\n",
    "2. **Cod_Airport:** Código de identificacion del aeropuerto\n",
    "3. **Desc_Airport:** Nombre corto del Aeropuerto\n",
    "4. **Loc:** Localización del Aeropuerto"
   ]
  },
  {
   "cell_type": "markdown",
   "metadata": {},
   "source": [
    "### 2. Explorando los datos"
   ]
  },
  {
   "cell_type": "code",
   "execution_count": 4,
   "metadata": {},
   "outputs": [
    {
     "data": {
      "text/plain": [
       "(539383, 9)"
      ]
     },
     "execution_count": 4,
     "metadata": {},
     "output_type": "execute_result"
    }
   ],
   "source": [
    "# Qué tamaño tienen los datos?\n",
    "df_air.shape"
   ]
  },
  {
   "cell_type": "code",
   "execution_count": 5,
   "metadata": {},
   "outputs": [
    {
     "name": "stdout",
     "output_type": "stream",
     "text": [
      "<class 'pandas.core.frame.DataFrame'>\n",
      "RangeIndex: 539383 entries, 0 to 539382\n",
      "Data columns (total 9 columns):\n",
      " #   Column       Non-Null Count   Dtype \n",
      "---  ------       --------------   ----- \n",
      " 0   id           539383 non-null  int64 \n",
      " 1   Airline      539383 non-null  object\n",
      " 2   Flight       539383 non-null  int64 \n",
      " 3   AirportFrom  539383 non-null  object\n",
      " 4   AirportTo    539383 non-null  object\n",
      " 5   DayOfWeek    539383 non-null  int64 \n",
      " 6   Time         539383 non-null  int64 \n",
      " 7   Length       539383 non-null  int64 \n",
      " 8   Delay        539383 non-null  int64 \n",
      "dtypes: int64(6), object(3)\n",
      "memory usage: 37.0+ MB\n"
     ]
    }
   ],
   "source": [
    "# Hay valores nulos en los datos?\n",
    "df_air.info()"
   ]
  },
  {
   "cell_type": "code",
   "execution_count": 6,
   "metadata": {},
   "outputs": [
    {
     "data": {
      "text/html": [
       "<div>\n",
       "<style scoped>\n",
       "    .dataframe tbody tr th:only-of-type {\n",
       "        vertical-align: middle;\n",
       "    }\n",
       "\n",
       "    .dataframe tbody tr th {\n",
       "        vertical-align: top;\n",
       "    }\n",
       "\n",
       "    .dataframe thead th {\n",
       "        text-align: right;\n",
       "    }\n",
       "</style>\n",
       "<table border=\"1\" class=\"dataframe\">\n",
       "  <thead>\n",
       "    <tr style=\"text-align: right;\">\n",
       "      <th></th>\n",
       "      <th>id</th>\n",
       "      <th>Flight</th>\n",
       "      <th>DayOfWeek</th>\n",
       "      <th>Time</th>\n",
       "      <th>Length</th>\n",
       "      <th>Delay</th>\n",
       "    </tr>\n",
       "  </thead>\n",
       "  <tbody>\n",
       "    <tr>\n",
       "      <th>count</th>\n",
       "      <td>539383.00000</td>\n",
       "      <td>539383.000000</td>\n",
       "      <td>539383.000000</td>\n",
       "      <td>539383.000000</td>\n",
       "      <td>539383.000000</td>\n",
       "      <td>539383.000000</td>\n",
       "    </tr>\n",
       "    <tr>\n",
       "      <th>mean</th>\n",
       "      <td>269692.00000</td>\n",
       "      <td>2427.928630</td>\n",
       "      <td>3.929668</td>\n",
       "      <td>802.728963</td>\n",
       "      <td>132.202007</td>\n",
       "      <td>0.445442</td>\n",
       "    </tr>\n",
       "    <tr>\n",
       "      <th>std</th>\n",
       "      <td>155706.60446</td>\n",
       "      <td>2067.429837</td>\n",
       "      <td>1.914664</td>\n",
       "      <td>278.045911</td>\n",
       "      <td>70.117016</td>\n",
       "      <td>0.497015</td>\n",
       "    </tr>\n",
       "    <tr>\n",
       "      <th>min</th>\n",
       "      <td>1.00000</td>\n",
       "      <td>1.000000</td>\n",
       "      <td>1.000000</td>\n",
       "      <td>10.000000</td>\n",
       "      <td>0.000000</td>\n",
       "      <td>0.000000</td>\n",
       "    </tr>\n",
       "    <tr>\n",
       "      <th>25%</th>\n",
       "      <td>134846.50000</td>\n",
       "      <td>712.000000</td>\n",
       "      <td>2.000000</td>\n",
       "      <td>565.000000</td>\n",
       "      <td>81.000000</td>\n",
       "      <td>0.000000</td>\n",
       "    </tr>\n",
       "    <tr>\n",
       "      <th>50%</th>\n",
       "      <td>269692.00000</td>\n",
       "      <td>1809.000000</td>\n",
       "      <td>4.000000</td>\n",
       "      <td>795.000000</td>\n",
       "      <td>115.000000</td>\n",
       "      <td>0.000000</td>\n",
       "    </tr>\n",
       "    <tr>\n",
       "      <th>75%</th>\n",
       "      <td>404537.50000</td>\n",
       "      <td>3745.000000</td>\n",
       "      <td>5.000000</td>\n",
       "      <td>1035.000000</td>\n",
       "      <td>162.000000</td>\n",
       "      <td>1.000000</td>\n",
       "    </tr>\n",
       "    <tr>\n",
       "      <th>max</th>\n",
       "      <td>539383.00000</td>\n",
       "      <td>7814.000000</td>\n",
       "      <td>7.000000</td>\n",
       "      <td>1439.000000</td>\n",
       "      <td>655.000000</td>\n",
       "      <td>1.000000</td>\n",
       "    </tr>\n",
       "  </tbody>\n",
       "</table>\n",
       "</div>"
      ],
      "text/plain": [
       "                 id         Flight      DayOfWeek           Time  \\\n",
       "count  539383.00000  539383.000000  539383.000000  539383.000000   \n",
       "mean   269692.00000    2427.928630       3.929668     802.728963   \n",
       "std    155706.60446    2067.429837       1.914664     278.045911   \n",
       "min         1.00000       1.000000       1.000000      10.000000   \n",
       "25%    134846.50000     712.000000       2.000000     565.000000   \n",
       "50%    269692.00000    1809.000000       4.000000     795.000000   \n",
       "75%    404537.50000    3745.000000       5.000000    1035.000000   \n",
       "max    539383.00000    7814.000000       7.000000    1439.000000   \n",
       "\n",
       "              Length          Delay  \n",
       "count  539383.000000  539383.000000  \n",
       "mean      132.202007       0.445442  \n",
       "std        70.117016       0.497015  \n",
       "min         0.000000       0.000000  \n",
       "25%        81.000000       0.000000  \n",
       "50%       115.000000       0.000000  \n",
       "75%       162.000000       1.000000  \n",
       "max       655.000000       1.000000  "
      ]
     },
     "execution_count": 6,
     "metadata": {},
     "output_type": "execute_result"
    }
   ],
   "source": [
    "# Como se distribuyen las variables numéricas\n",
    "df_air.describe()"
   ]
  },
  {
   "cell_type": "code",
   "execution_count": 7,
   "metadata": {},
   "outputs": [
    {
     "data": {
      "text/html": [
       "<div>\n",
       "<style scoped>\n",
       "    .dataframe tbody tr th:only-of-type {\n",
       "        vertical-align: middle;\n",
       "    }\n",
       "\n",
       "    .dataframe tbody tr th {\n",
       "        vertical-align: top;\n",
       "    }\n",
       "\n",
       "    .dataframe thead th {\n",
       "        text-align: right;\n",
       "    }\n",
       "</style>\n",
       "<table border=\"1\" class=\"dataframe\">\n",
       "  <thead>\n",
       "    <tr style=\"text-align: right;\">\n",
       "      <th></th>\n",
       "      <th>Airline</th>\n",
       "      <th>AirportFrom</th>\n",
       "      <th>AirportTo</th>\n",
       "    </tr>\n",
       "  </thead>\n",
       "  <tbody>\n",
       "    <tr>\n",
       "      <th>count</th>\n",
       "      <td>539383</td>\n",
       "      <td>539383</td>\n",
       "      <td>539383</td>\n",
       "    </tr>\n",
       "    <tr>\n",
       "      <th>unique</th>\n",
       "      <td>18</td>\n",
       "      <td>293</td>\n",
       "      <td>293</td>\n",
       "    </tr>\n",
       "    <tr>\n",
       "      <th>top</th>\n",
       "      <td>WN</td>\n",
       "      <td>ATL</td>\n",
       "      <td>ATL</td>\n",
       "    </tr>\n",
       "    <tr>\n",
       "      <th>freq</th>\n",
       "      <td>94097</td>\n",
       "      <td>34449</td>\n",
       "      <td>34440</td>\n",
       "    </tr>\n",
       "  </tbody>\n",
       "</table>\n",
       "</div>"
      ],
      "text/plain": [
       "       Airline AirportFrom AirportTo\n",
       "count   539383      539383    539383\n",
       "unique      18         293       293\n",
       "top         WN         ATL       ATL\n",
       "freq     94097       34449     34440"
      ]
     },
     "execution_count": 7,
     "metadata": {},
     "output_type": "execute_result"
    }
   ],
   "source": [
    "# Como se comportan las variables categóricas\n",
    "df_air.describe(include=['O'])"
   ]
  },
  {
   "cell_type": "markdown",
   "metadata": {},
   "source": [
    "*Resumen de los datos:*\n",
    "\n",
    "Los datos se relacionan con la industria de la aviación comercial estadounidese. \n",
    "Contamos con 539.383 observaciones y 6 variables.\n",
    "También resulta importante mencionar que no tenemos valores faltantes en nuestro dataset."
   ]
  },
  {
   "cell_type": "markdown",
   "metadata": {},
   "source": [
    "#### 2.1 Data Wrangling"
   ]
  },
  {
   "cell_type": "markdown",
   "metadata": {},
   "source": [
    "En la distribución de las variables númericas hemos identificado que existen vuelos con distancia 0 (Length = 0). Procedemos a eliminar estos registros "
   ]
  },
  {
   "cell_type": "code",
   "execution_count": 8,
   "metadata": {},
   "outputs": [
    {
     "data": {
      "text/plain": [
       "(539379, 9)"
      ]
     },
     "execution_count": 8,
     "metadata": {},
     "output_type": "execute_result"
    }
   ],
   "source": [
    "df_air.drop(df_air[df_air.Length == 0].index, inplace=True)\n",
    "df_air.shape"
   ]
  },
  {
   "cell_type": "code",
   "execution_count": 9,
   "metadata": {},
   "outputs": [],
   "source": [
    "#Pasamos las columnas Time y Length de minutos a horas para facilitar su interpretación\n",
    "df_air['Time'] = df_air['Time'].div(60).round(2)\n",
    "df_air['Length'] = df_air['Length'].div(60).round(2)"
   ]
  },
  {
   "cell_type": "code",
   "execution_count": 10,
   "metadata": {},
   "outputs": [
    {
     "data": {
      "text/html": [
       "<div>\n",
       "<style scoped>\n",
       "    .dataframe tbody tr th:only-of-type {\n",
       "        vertical-align: middle;\n",
       "    }\n",
       "\n",
       "    .dataframe tbody tr th {\n",
       "        vertical-align: top;\n",
       "    }\n",
       "\n",
       "    .dataframe thead th {\n",
       "        text-align: right;\n",
       "    }\n",
       "</style>\n",
       "<table border=\"1\" class=\"dataframe\">\n",
       "  <thead>\n",
       "    <tr style=\"text-align: right;\">\n",
       "      <th></th>\n",
       "      <th>id</th>\n",
       "      <th>Flight</th>\n",
       "      <th>DayOfWeek</th>\n",
       "      <th>Time</th>\n",
       "      <th>Length</th>\n",
       "      <th>Delay</th>\n",
       "    </tr>\n",
       "  </thead>\n",
       "  <tbody>\n",
       "    <tr>\n",
       "      <th>count</th>\n",
       "      <td>539379.000000</td>\n",
       "      <td>539379.000000</td>\n",
       "      <td>539379.000000</td>\n",
       "      <td>539379.000000</td>\n",
       "      <td>539379.000000</td>\n",
       "      <td>539379.000000</td>\n",
       "    </tr>\n",
       "    <tr>\n",
       "      <th>mean</th>\n",
       "      <td>269692.152479</td>\n",
       "      <td>2427.945135</td>\n",
       "      <td>3.929649</td>\n",
       "      <td>13.378789</td>\n",
       "      <td>2.203352</td>\n",
       "      <td>0.445444</td>\n",
       "    </tr>\n",
       "    <tr>\n",
       "      <th>std</th>\n",
       "      <td>155706.865117</td>\n",
       "      <td>2067.428568</td>\n",
       "      <td>1.914658</td>\n",
       "      <td>4.634079</td>\n",
       "      <td>1.168602</td>\n",
       "      <td>0.497015</td>\n",
       "    </tr>\n",
       "    <tr>\n",
       "      <th>min</th>\n",
       "      <td>1.000000</td>\n",
       "      <td>1.000000</td>\n",
       "      <td>1.000000</td>\n",
       "      <td>0.170000</td>\n",
       "      <td>0.380000</td>\n",
       "      <td>0.000000</td>\n",
       "    </tr>\n",
       "    <tr>\n",
       "      <th>25%</th>\n",
       "      <td>134845.500000</td>\n",
       "      <td>712.000000</td>\n",
       "      <td>2.000000</td>\n",
       "      <td>9.420000</td>\n",
       "      <td>1.350000</td>\n",
       "      <td>0.000000</td>\n",
       "    </tr>\n",
       "    <tr>\n",
       "      <th>50%</th>\n",
       "      <td>269693.000000</td>\n",
       "      <td>1809.000000</td>\n",
       "      <td>4.000000</td>\n",
       "      <td>13.250000</td>\n",
       "      <td>1.920000</td>\n",
       "      <td>0.000000</td>\n",
       "    </tr>\n",
       "    <tr>\n",
       "      <th>75%</th>\n",
       "      <td>404537.500000</td>\n",
       "      <td>3745.000000</td>\n",
       "      <td>5.000000</td>\n",
       "      <td>17.250000</td>\n",
       "      <td>2.700000</td>\n",
       "      <td>1.000000</td>\n",
       "    </tr>\n",
       "    <tr>\n",
       "      <th>max</th>\n",
       "      <td>539383.000000</td>\n",
       "      <td>7814.000000</td>\n",
       "      <td>7.000000</td>\n",
       "      <td>23.980000</td>\n",
       "      <td>10.920000</td>\n",
       "      <td>1.000000</td>\n",
       "    </tr>\n",
       "  </tbody>\n",
       "</table>\n",
       "</div>"
      ],
      "text/plain": [
       "                  id         Flight      DayOfWeek           Time  \\\n",
       "count  539379.000000  539379.000000  539379.000000  539379.000000   \n",
       "mean   269692.152479    2427.945135       3.929649      13.378789   \n",
       "std    155706.865117    2067.428568       1.914658       4.634079   \n",
       "min         1.000000       1.000000       1.000000       0.170000   \n",
       "25%    134845.500000     712.000000       2.000000       9.420000   \n",
       "50%    269693.000000    1809.000000       4.000000      13.250000   \n",
       "75%    404537.500000    3745.000000       5.000000      17.250000   \n",
       "max    539383.000000    7814.000000       7.000000      23.980000   \n",
       "\n",
       "              Length          Delay  \n",
       "count  539379.000000  539379.000000  \n",
       "mean        2.203352       0.445444  \n",
       "std         1.168602       0.497015  \n",
       "min         0.380000       0.000000  \n",
       "25%         1.350000       0.000000  \n",
       "50%         1.920000       0.000000  \n",
       "75%         2.700000       1.000000  \n",
       "max        10.920000       1.000000  "
      ]
     },
     "execution_count": 10,
     "metadata": {},
     "output_type": "execute_result"
    }
   ],
   "source": [
    "# Volvemos a ver la distribución de las variables númericas para armar agrupaciones en base a los cuartiles. \n",
    "df_air.describe()"
   ]
  },
  {
   "cell_type": "markdown",
   "metadata": {},
   "source": [
    "Realizamos agrupaciones para las columnas Time y Length.\n",
    "Esto nos permitirá realizar visualizaciones menos cargadas y poder interpretar mejor los datos."
   ]
  },
  {
   "cell_type": "code",
   "execution_count": 11,
   "metadata": {},
   "outputs": [],
   "source": [
    "#Agrupación Time (Horario de partida)\n",
    "df_air.loc[df_air['Time'] <= 9.42, 'TimeGroups'] = 'Mañana'\n",
    "df_air.loc[df_air['Time'].between(9.42, 13.26, inclusive='neither'), 'TimeGroups'] = 'Mediodia'\n",
    "df_air.loc[df_air['Time'].between(13.25, 17.26, inclusive='neither'), 'TimeGroups'] = 'Tarde'\n",
    "df_air.loc[df_air['Time'] > 17.25, 'TimeGroups'] = 'Noche'"
   ]
  },
  {
   "cell_type": "code",
   "execution_count": 12,
   "metadata": {},
   "outputs": [
    {
     "data": {
      "text/html": [
       "<div>\n",
       "<style scoped>\n",
       "    .dataframe tbody tr th:only-of-type {\n",
       "        vertical-align: middle;\n",
       "    }\n",
       "\n",
       "    .dataframe tbody tr th {\n",
       "        vertical-align: top;\n",
       "    }\n",
       "\n",
       "    .dataframe thead th {\n",
       "        text-align: right;\n",
       "    }\n",
       "</style>\n",
       "<table border=\"1\" class=\"dataframe\">\n",
       "  <thead>\n",
       "    <tr style=\"text-align: right;\">\n",
       "      <th></th>\n",
       "      <th>id</th>\n",
       "      <th>Airline</th>\n",
       "      <th>Flight</th>\n",
       "      <th>AirportFrom</th>\n",
       "      <th>AirportTo</th>\n",
       "      <th>DayOfWeek</th>\n",
       "      <th>Time</th>\n",
       "      <th>Length</th>\n",
       "      <th>Delay</th>\n",
       "      <th>TimeGroups</th>\n",
       "      <th>LengthGroups</th>\n",
       "    </tr>\n",
       "  </thead>\n",
       "  <tbody>\n",
       "    <tr>\n",
       "      <th>0</th>\n",
       "      <td>1</td>\n",
       "      <td>CO</td>\n",
       "      <td>269</td>\n",
       "      <td>SFO</td>\n",
       "      <td>IAH</td>\n",
       "      <td>3</td>\n",
       "      <td>0.25</td>\n",
       "      <td>3.42</td>\n",
       "      <td>1</td>\n",
       "      <td>Mañana</td>\n",
       "      <td>&gt;= 2.71</td>\n",
       "    </tr>\n",
       "    <tr>\n",
       "      <th>1</th>\n",
       "      <td>2</td>\n",
       "      <td>US</td>\n",
       "      <td>1558</td>\n",
       "      <td>PHX</td>\n",
       "      <td>CLT</td>\n",
       "      <td>3</td>\n",
       "      <td>0.25</td>\n",
       "      <td>3.70</td>\n",
       "      <td>1</td>\n",
       "      <td>Mañana</td>\n",
       "      <td>&gt;= 2.71</td>\n",
       "    </tr>\n",
       "    <tr>\n",
       "      <th>2</th>\n",
       "      <td>3</td>\n",
       "      <td>AA</td>\n",
       "      <td>2400</td>\n",
       "      <td>LAX</td>\n",
       "      <td>DFW</td>\n",
       "      <td>3</td>\n",
       "      <td>0.33</td>\n",
       "      <td>2.75</td>\n",
       "      <td>1</td>\n",
       "      <td>Mañana</td>\n",
       "      <td>&gt;= 2.71</td>\n",
       "    </tr>\n",
       "    <tr>\n",
       "      <th>3</th>\n",
       "      <td>4</td>\n",
       "      <td>AA</td>\n",
       "      <td>2466</td>\n",
       "      <td>SFO</td>\n",
       "      <td>DFW</td>\n",
       "      <td>3</td>\n",
       "      <td>0.33</td>\n",
       "      <td>3.25</td>\n",
       "      <td>1</td>\n",
       "      <td>Mañana</td>\n",
       "      <td>&gt;= 2.71</td>\n",
       "    </tr>\n",
       "    <tr>\n",
       "      <th>4</th>\n",
       "      <td>5</td>\n",
       "      <td>AS</td>\n",
       "      <td>108</td>\n",
       "      <td>ANC</td>\n",
       "      <td>SEA</td>\n",
       "      <td>3</td>\n",
       "      <td>0.50</td>\n",
       "      <td>3.37</td>\n",
       "      <td>0</td>\n",
       "      <td>Mañana</td>\n",
       "      <td>&gt;= 2.71</td>\n",
       "    </tr>\n",
       "    <tr>\n",
       "      <th>...</th>\n",
       "      <td>...</td>\n",
       "      <td>...</td>\n",
       "      <td>...</td>\n",
       "      <td>...</td>\n",
       "      <td>...</td>\n",
       "      <td>...</td>\n",
       "      <td>...</td>\n",
       "      <td>...</td>\n",
       "      <td>...</td>\n",
       "      <td>...</td>\n",
       "      <td>...</td>\n",
       "    </tr>\n",
       "    <tr>\n",
       "      <th>539378</th>\n",
       "      <td>539379</td>\n",
       "      <td>CO</td>\n",
       "      <td>178</td>\n",
       "      <td>OGG</td>\n",
       "      <td>SNA</td>\n",
       "      <td>5</td>\n",
       "      <td>23.98</td>\n",
       "      <td>5.43</td>\n",
       "      <td>0</td>\n",
       "      <td>Noche</td>\n",
       "      <td>&gt;= 2.71</td>\n",
       "    </tr>\n",
       "    <tr>\n",
       "      <th>539379</th>\n",
       "      <td>539380</td>\n",
       "      <td>FL</td>\n",
       "      <td>398</td>\n",
       "      <td>SEA</td>\n",
       "      <td>ATL</td>\n",
       "      <td>5</td>\n",
       "      <td>23.98</td>\n",
       "      <td>5.08</td>\n",
       "      <td>0</td>\n",
       "      <td>Noche</td>\n",
       "      <td>&gt;= 2.71</td>\n",
       "    </tr>\n",
       "    <tr>\n",
       "      <th>539380</th>\n",
       "      <td>539381</td>\n",
       "      <td>FL</td>\n",
       "      <td>609</td>\n",
       "      <td>SFO</td>\n",
       "      <td>MKE</td>\n",
       "      <td>5</td>\n",
       "      <td>23.98</td>\n",
       "      <td>4.25</td>\n",
       "      <td>0</td>\n",
       "      <td>Noche</td>\n",
       "      <td>&gt;= 2.71</td>\n",
       "    </tr>\n",
       "    <tr>\n",
       "      <th>539381</th>\n",
       "      <td>539382</td>\n",
       "      <td>UA</td>\n",
       "      <td>78</td>\n",
       "      <td>HNL</td>\n",
       "      <td>SFO</td>\n",
       "      <td>5</td>\n",
       "      <td>23.98</td>\n",
       "      <td>5.22</td>\n",
       "      <td>1</td>\n",
       "      <td>Noche</td>\n",
       "      <td>&gt;= 2.71</td>\n",
       "    </tr>\n",
       "    <tr>\n",
       "      <th>539382</th>\n",
       "      <td>539383</td>\n",
       "      <td>US</td>\n",
       "      <td>1442</td>\n",
       "      <td>LAX</td>\n",
       "      <td>PHL</td>\n",
       "      <td>5</td>\n",
       "      <td>23.98</td>\n",
       "      <td>5.02</td>\n",
       "      <td>1</td>\n",
       "      <td>Noche</td>\n",
       "      <td>&gt;= 2.71</td>\n",
       "    </tr>\n",
       "  </tbody>\n",
       "</table>\n",
       "<p>539379 rows × 11 columns</p>\n",
       "</div>"
      ],
      "text/plain": [
       "            id Airline  Flight AirportFrom AirportTo  DayOfWeek   Time  \\\n",
       "0            1      CO     269         SFO       IAH          3   0.25   \n",
       "1            2      US    1558         PHX       CLT          3   0.25   \n",
       "2            3      AA    2400         LAX       DFW          3   0.33   \n",
       "3            4      AA    2466         SFO       DFW          3   0.33   \n",
       "4            5      AS     108         ANC       SEA          3   0.50   \n",
       "...        ...     ...     ...         ...       ...        ...    ...   \n",
       "539378  539379      CO     178         OGG       SNA          5  23.98   \n",
       "539379  539380      FL     398         SEA       ATL          5  23.98   \n",
       "539380  539381      FL     609         SFO       MKE          5  23.98   \n",
       "539381  539382      UA      78         HNL       SFO          5  23.98   \n",
       "539382  539383      US    1442         LAX       PHL          5  23.98   \n",
       "\n",
       "        Length  Delay TimeGroups LengthGroups  \n",
       "0         3.42      1     Mañana      >= 2.71  \n",
       "1         3.70      1     Mañana      >= 2.71  \n",
       "2         2.75      1     Mañana      >= 2.71  \n",
       "3         3.25      1     Mañana      >= 2.71  \n",
       "4         3.37      0     Mañana      >= 2.71  \n",
       "...        ...    ...        ...          ...  \n",
       "539378    5.43      0      Noche      >= 2.71  \n",
       "539379    5.08      0      Noche      >= 2.71  \n",
       "539380    4.25      0      Noche      >= 2.71  \n",
       "539381    5.22      1      Noche      >= 2.71  \n",
       "539382    5.02      1      Noche      >= 2.71  \n",
       "\n",
       "[539379 rows x 11 columns]"
      ]
     },
     "execution_count": 12,
     "metadata": {},
     "output_type": "execute_result"
    }
   ],
   "source": [
    "#Agrupación Length (Duración)\n",
    "df_air.loc[df_air['Length'] <= 1.35, 'LengthGroups'] = '<= 1.35'\n",
    "df_air.loc[df_air['Length'].between(1.35, 1.93, inclusive='neither'),  'LengthGroups'] = '1.36 - 1.92'\n",
    "df_air.loc[df_air['Length'].between(1.92, 2.71, inclusive='neither'),  'LengthGroups'] = '1.93 - 2.70'\n",
    "df_air.loc[df_air['Length'] > 2.71, 'LengthGroups'] = '>= 2.71'\n",
    "df_air"
   ]
  },
  {
   "cell_type": "markdown",
   "metadata": {},
   "source": [
    "Incorporamos al dataset información sobre los aeropuertos"
   ]
  },
  {
   "cell_type": "markdown",
   "metadata": {},
   "source": [
    "Merge Aeropuertos Origen"
   ]
  },
  {
   "cell_type": "code",
   "execution_count": 13,
   "metadata": {},
   "outputs": [
    {
     "data": {
      "text/html": [
       "<div>\n",
       "<style scoped>\n",
       "    .dataframe tbody tr th:only-of-type {\n",
       "        vertical-align: middle;\n",
       "    }\n",
       "\n",
       "    .dataframe tbody tr th {\n",
       "        vertical-align: top;\n",
       "    }\n",
       "\n",
       "    .dataframe thead th {\n",
       "        text-align: right;\n",
       "    }\n",
       "</style>\n",
       "<table border=\"1\" class=\"dataframe\">\n",
       "  <thead>\n",
       "    <tr style=\"text-align: right;\">\n",
       "      <th></th>\n",
       "      <th>id</th>\n",
       "      <th>Airline</th>\n",
       "      <th>Flight</th>\n",
       "      <th>AirportFrom</th>\n",
       "      <th>AirportTo</th>\n",
       "      <th>DayOfWeek</th>\n",
       "      <th>Time</th>\n",
       "      <th>Length</th>\n",
       "      <th>Delay</th>\n",
       "      <th>TimeGroups</th>\n",
       "      <th>LengthGroups</th>\n",
       "      <th>Airport</th>\n",
       "      <th>Cod_Airport</th>\n",
       "      <th>Desc_Airport</th>\n",
       "      <th>Loc</th>\n",
       "    </tr>\n",
       "  </thead>\n",
       "  <tbody>\n",
       "    <tr>\n",
       "      <th>0</th>\n",
       "      <td>1</td>\n",
       "      <td>CO</td>\n",
       "      <td>269</td>\n",
       "      <td>SFO</td>\n",
       "      <td>IAH</td>\n",
       "      <td>3</td>\n",
       "      <td>0.25</td>\n",
       "      <td>3.42</td>\n",
       "      <td>1</td>\n",
       "      <td>Mañana</td>\n",
       "      <td>&gt;= 2.71</td>\n",
       "      <td>SFO - San Francisco International Airport - Ca...</td>\n",
       "      <td>SFO</td>\n",
       "      <td>San Francisco International Airport</td>\n",
       "      <td>California</td>\n",
       "    </tr>\n",
       "    <tr>\n",
       "      <th>1</th>\n",
       "      <td>2</td>\n",
       "      <td>US</td>\n",
       "      <td>1558</td>\n",
       "      <td>PHX</td>\n",
       "      <td>CLT</td>\n",
       "      <td>3</td>\n",
       "      <td>0.25</td>\n",
       "      <td>3.70</td>\n",
       "      <td>1</td>\n",
       "      <td>Mañana</td>\n",
       "      <td>&gt;= 2.71</td>\n",
       "      <td>PHX - Phoenix Sky Harbor International Airport...</td>\n",
       "      <td>PHX</td>\n",
       "      <td>Phoenix Sky Harbor International Airport</td>\n",
       "      <td>Arizona</td>\n",
       "    </tr>\n",
       "    <tr>\n",
       "      <th>2</th>\n",
       "      <td>3</td>\n",
       "      <td>AA</td>\n",
       "      <td>2400</td>\n",
       "      <td>LAX</td>\n",
       "      <td>DFW</td>\n",
       "      <td>3</td>\n",
       "      <td>0.33</td>\n",
       "      <td>2.75</td>\n",
       "      <td>1</td>\n",
       "      <td>Mañana</td>\n",
       "      <td>&gt;= 2.71</td>\n",
       "      <td>LAX - Los Angeles International Airport - Cali...</td>\n",
       "      <td>LAX</td>\n",
       "      <td>Los Angeles International Airport</td>\n",
       "      <td>California</td>\n",
       "    </tr>\n",
       "    <tr>\n",
       "      <th>3</th>\n",
       "      <td>4</td>\n",
       "      <td>AA</td>\n",
       "      <td>2466</td>\n",
       "      <td>SFO</td>\n",
       "      <td>DFW</td>\n",
       "      <td>3</td>\n",
       "      <td>0.33</td>\n",
       "      <td>3.25</td>\n",
       "      <td>1</td>\n",
       "      <td>Mañana</td>\n",
       "      <td>&gt;= 2.71</td>\n",
       "      <td>SFO - San Francisco International Airport - Ca...</td>\n",
       "      <td>SFO</td>\n",
       "      <td>San Francisco International Airport</td>\n",
       "      <td>California</td>\n",
       "    </tr>\n",
       "    <tr>\n",
       "      <th>4</th>\n",
       "      <td>5</td>\n",
       "      <td>AS</td>\n",
       "      <td>108</td>\n",
       "      <td>ANC</td>\n",
       "      <td>SEA</td>\n",
       "      <td>3</td>\n",
       "      <td>0.50</td>\n",
       "      <td>3.37</td>\n",
       "      <td>0</td>\n",
       "      <td>Mañana</td>\n",
       "      <td>&gt;= 2.71</td>\n",
       "      <td>NaN</td>\n",
       "      <td>NaN</td>\n",
       "      <td>NaN</td>\n",
       "      <td>NaN</td>\n",
       "    </tr>\n",
       "  </tbody>\n",
       "</table>\n",
       "</div>"
      ],
      "text/plain": [
       "   id Airline  Flight AirportFrom AirportTo  DayOfWeek  Time  Length  Delay  \\\n",
       "0   1      CO     269         SFO       IAH          3  0.25    3.42      1   \n",
       "1   2      US    1558         PHX       CLT          3  0.25    3.70      1   \n",
       "2   3      AA    2400         LAX       DFW          3  0.33    2.75      1   \n",
       "3   4      AA    2466         SFO       DFW          3  0.33    3.25      1   \n",
       "4   5      AS     108         ANC       SEA          3  0.50    3.37      0   \n",
       "\n",
       "  TimeGroups LengthGroups                                            Airport  \\\n",
       "0     Mañana      >= 2.71  SFO - San Francisco International Airport - Ca...   \n",
       "1     Mañana      >= 2.71  PHX - Phoenix Sky Harbor International Airport...   \n",
       "2     Mañana      >= 2.71  LAX - Los Angeles International Airport - Cali...   \n",
       "3     Mañana      >= 2.71  SFO - San Francisco International Airport - Ca...   \n",
       "4     Mañana      >= 2.71                                                NaN   \n",
       "\n",
       "  Cod_Airport                              Desc_Airport         Loc  \n",
       "0         SFO       San Francisco International Airport  California  \n",
       "1         PHX  Phoenix Sky Harbor International Airport     Arizona  \n",
       "2         LAX         Los Angeles International Airport  California  \n",
       "3         SFO       San Francisco International Airport  California  \n",
       "4         NaN                                       NaN         NaN  "
      ]
     },
     "execution_count": 13,
     "metadata": {},
     "output_type": "execute_result"
    }
   ],
   "source": [
    "# Merge Aeropuertos Origen\n",
    "df_air = pd.merge(df_air, df_airport, how='left', left_on='AirportFrom', right_on='Cod_Airport')\n",
    "df_air.head()"
   ]
  },
  {
   "cell_type": "code",
   "execution_count": 14,
   "metadata": {},
   "outputs": [
    {
     "data": {
      "text/html": [
       "<div>\n",
       "<style scoped>\n",
       "    .dataframe tbody tr th:only-of-type {\n",
       "        vertical-align: middle;\n",
       "    }\n",
       "\n",
       "    .dataframe tbody tr th {\n",
       "        vertical-align: top;\n",
       "    }\n",
       "\n",
       "    .dataframe thead th {\n",
       "        text-align: right;\n",
       "    }\n",
       "</style>\n",
       "<table border=\"1\" class=\"dataframe\">\n",
       "  <thead>\n",
       "    <tr style=\"text-align: right;\">\n",
       "      <th></th>\n",
       "      <th>id</th>\n",
       "      <th>Airline</th>\n",
       "      <th>Flight</th>\n",
       "      <th>AirportFrom</th>\n",
       "      <th>AirportTo</th>\n",
       "      <th>DayOfWeek</th>\n",
       "      <th>Time</th>\n",
       "      <th>Length</th>\n",
       "      <th>Delay</th>\n",
       "      <th>TimeGroups</th>\n",
       "      <th>LengthGroups</th>\n",
       "      <th>Airport_From</th>\n",
       "      <th>Cod_AirportFrom</th>\n",
       "      <th>Desc_AirportFrom</th>\n",
       "      <th>Loc_From</th>\n",
       "    </tr>\n",
       "  </thead>\n",
       "  <tbody>\n",
       "    <tr>\n",
       "      <th>0</th>\n",
       "      <td>1</td>\n",
       "      <td>CO</td>\n",
       "      <td>269</td>\n",
       "      <td>SFO</td>\n",
       "      <td>IAH</td>\n",
       "      <td>3</td>\n",
       "      <td>0.25</td>\n",
       "      <td>3.42</td>\n",
       "      <td>1</td>\n",
       "      <td>Mañana</td>\n",
       "      <td>&gt;= 2.71</td>\n",
       "      <td>SFO - San Francisco International Airport - Ca...</td>\n",
       "      <td>SFO</td>\n",
       "      <td>San Francisco International Airport</td>\n",
       "      <td>California</td>\n",
       "    </tr>\n",
       "    <tr>\n",
       "      <th>1</th>\n",
       "      <td>2</td>\n",
       "      <td>US</td>\n",
       "      <td>1558</td>\n",
       "      <td>PHX</td>\n",
       "      <td>CLT</td>\n",
       "      <td>3</td>\n",
       "      <td>0.25</td>\n",
       "      <td>3.70</td>\n",
       "      <td>1</td>\n",
       "      <td>Mañana</td>\n",
       "      <td>&gt;= 2.71</td>\n",
       "      <td>PHX - Phoenix Sky Harbor International Airport...</td>\n",
       "      <td>PHX</td>\n",
       "      <td>Phoenix Sky Harbor International Airport</td>\n",
       "      <td>Arizona</td>\n",
       "    </tr>\n",
       "    <tr>\n",
       "      <th>2</th>\n",
       "      <td>3</td>\n",
       "      <td>AA</td>\n",
       "      <td>2400</td>\n",
       "      <td>LAX</td>\n",
       "      <td>DFW</td>\n",
       "      <td>3</td>\n",
       "      <td>0.33</td>\n",
       "      <td>2.75</td>\n",
       "      <td>1</td>\n",
       "      <td>Mañana</td>\n",
       "      <td>&gt;= 2.71</td>\n",
       "      <td>LAX - Los Angeles International Airport - Cali...</td>\n",
       "      <td>LAX</td>\n",
       "      <td>Los Angeles International Airport</td>\n",
       "      <td>California</td>\n",
       "    </tr>\n",
       "    <tr>\n",
       "      <th>3</th>\n",
       "      <td>4</td>\n",
       "      <td>AA</td>\n",
       "      <td>2466</td>\n",
       "      <td>SFO</td>\n",
       "      <td>DFW</td>\n",
       "      <td>3</td>\n",
       "      <td>0.33</td>\n",
       "      <td>3.25</td>\n",
       "      <td>1</td>\n",
       "      <td>Mañana</td>\n",
       "      <td>&gt;= 2.71</td>\n",
       "      <td>SFO - San Francisco International Airport - Ca...</td>\n",
       "      <td>SFO</td>\n",
       "      <td>San Francisco International Airport</td>\n",
       "      <td>California</td>\n",
       "    </tr>\n",
       "    <tr>\n",
       "      <th>4</th>\n",
       "      <td>5</td>\n",
       "      <td>AS</td>\n",
       "      <td>108</td>\n",
       "      <td>ANC</td>\n",
       "      <td>SEA</td>\n",
       "      <td>3</td>\n",
       "      <td>0.50</td>\n",
       "      <td>3.37</td>\n",
       "      <td>0</td>\n",
       "      <td>Mañana</td>\n",
       "      <td>&gt;= 2.71</td>\n",
       "      <td>NaN</td>\n",
       "      <td>NaN</td>\n",
       "      <td>NaN</td>\n",
       "      <td>NaN</td>\n",
       "    </tr>\n",
       "  </tbody>\n",
       "</table>\n",
       "</div>"
      ],
      "text/plain": [
       "   id Airline  Flight AirportFrom AirportTo  DayOfWeek  Time  Length  Delay  \\\n",
       "0   1      CO     269         SFO       IAH          3  0.25    3.42      1   \n",
       "1   2      US    1558         PHX       CLT          3  0.25    3.70      1   \n",
       "2   3      AA    2400         LAX       DFW          3  0.33    2.75      1   \n",
       "3   4      AA    2466         SFO       DFW          3  0.33    3.25      1   \n",
       "4   5      AS     108         ANC       SEA          3  0.50    3.37      0   \n",
       "\n",
       "  TimeGroups LengthGroups                                       Airport_From  \\\n",
       "0     Mañana      >= 2.71  SFO - San Francisco International Airport - Ca...   \n",
       "1     Mañana      >= 2.71  PHX - Phoenix Sky Harbor International Airport...   \n",
       "2     Mañana      >= 2.71  LAX - Los Angeles International Airport - Cali...   \n",
       "3     Mañana      >= 2.71  SFO - San Francisco International Airport - Ca...   \n",
       "4     Mañana      >= 2.71                                                NaN   \n",
       "\n",
       "  Cod_AirportFrom                          Desc_AirportFrom    Loc_From  \n",
       "0             SFO       San Francisco International Airport  California  \n",
       "1             PHX  Phoenix Sky Harbor International Airport     Arizona  \n",
       "2             LAX         Los Angeles International Airport  California  \n",
       "3             SFO       San Francisco International Airport  California  \n",
       "4             NaN                                       NaN         NaN  "
      ]
     },
     "execution_count": 14,
     "metadata": {},
     "output_type": "execute_result"
    }
   ],
   "source": [
    "# Renombramos columnas\n",
    "df_air.rename(columns={\"Airport\":\"Airport_From\", \"Cod_Airport\":\"Cod_AirportFrom\", \"Desc_Airport\":\"Desc_AirportFrom\", \"Loc\":\"Loc_From\"}, inplace=True)\n",
    "df_air.head()"
   ]
  },
  {
   "cell_type": "markdown",
   "metadata": {},
   "source": [
    "Merge Aeropuertos Destinos"
   ]
  },
  {
   "cell_type": "code",
   "execution_count": 15,
   "metadata": {},
   "outputs": [
    {
     "data": {
      "text/html": [
       "<div>\n",
       "<style scoped>\n",
       "    .dataframe tbody tr th:only-of-type {\n",
       "        vertical-align: middle;\n",
       "    }\n",
       "\n",
       "    .dataframe tbody tr th {\n",
       "        vertical-align: top;\n",
       "    }\n",
       "\n",
       "    .dataframe thead th {\n",
       "        text-align: right;\n",
       "    }\n",
       "</style>\n",
       "<table border=\"1\" class=\"dataframe\">\n",
       "  <thead>\n",
       "    <tr style=\"text-align: right;\">\n",
       "      <th></th>\n",
       "      <th>id</th>\n",
       "      <th>Airline</th>\n",
       "      <th>Flight</th>\n",
       "      <th>AirportFrom</th>\n",
       "      <th>AirportTo</th>\n",
       "      <th>DayOfWeek</th>\n",
       "      <th>Time</th>\n",
       "      <th>Length</th>\n",
       "      <th>Delay</th>\n",
       "      <th>TimeGroups</th>\n",
       "      <th>LengthGroups</th>\n",
       "      <th>Airport_From</th>\n",
       "      <th>Cod_AirportFrom</th>\n",
       "      <th>Desc_AirportFrom</th>\n",
       "      <th>Loc_From</th>\n",
       "      <th>Airport</th>\n",
       "      <th>Cod_Airport</th>\n",
       "      <th>Desc_Airport</th>\n",
       "      <th>Loc</th>\n",
       "    </tr>\n",
       "  </thead>\n",
       "  <tbody>\n",
       "    <tr>\n",
       "      <th>0</th>\n",
       "      <td>1</td>\n",
       "      <td>CO</td>\n",
       "      <td>269</td>\n",
       "      <td>SFO</td>\n",
       "      <td>IAH</td>\n",
       "      <td>3</td>\n",
       "      <td>0.25</td>\n",
       "      <td>3.42</td>\n",
       "      <td>1</td>\n",
       "      <td>Mañana</td>\n",
       "      <td>&gt;= 2.71</td>\n",
       "      <td>SFO - San Francisco International Airport - Ca...</td>\n",
       "      <td>SFO</td>\n",
       "      <td>San Francisco International Airport</td>\n",
       "      <td>California</td>\n",
       "      <td>IAH - George Bush Intercontinental Airport - H...</td>\n",
       "      <td>IAH</td>\n",
       "      <td>George Bush Intercontinental Airport</td>\n",
       "      <td>Houston, Texas</td>\n",
       "    </tr>\n",
       "    <tr>\n",
       "      <th>1</th>\n",
       "      <td>2</td>\n",
       "      <td>US</td>\n",
       "      <td>1558</td>\n",
       "      <td>PHX</td>\n",
       "      <td>CLT</td>\n",
       "      <td>3</td>\n",
       "      <td>0.25</td>\n",
       "      <td>3.70</td>\n",
       "      <td>1</td>\n",
       "      <td>Mañana</td>\n",
       "      <td>&gt;= 2.71</td>\n",
       "      <td>PHX - Phoenix Sky Harbor International Airport...</td>\n",
       "      <td>PHX</td>\n",
       "      <td>Phoenix Sky Harbor International Airport</td>\n",
       "      <td>Arizona</td>\n",
       "      <td>CLT - Charlotte Douglas International Airport ...</td>\n",
       "      <td>CLT</td>\n",
       "      <td>Charlotte Douglas International Airport</td>\n",
       "      <td>North Carolina</td>\n",
       "    </tr>\n",
       "    <tr>\n",
       "      <th>2</th>\n",
       "      <td>3</td>\n",
       "      <td>AA</td>\n",
       "      <td>2400</td>\n",
       "      <td>LAX</td>\n",
       "      <td>DFW</td>\n",
       "      <td>3</td>\n",
       "      <td>0.33</td>\n",
       "      <td>2.75</td>\n",
       "      <td>1</td>\n",
       "      <td>Mañana</td>\n",
       "      <td>&gt;= 2.71</td>\n",
       "      <td>LAX - Los Angeles International Airport - Cali...</td>\n",
       "      <td>LAX</td>\n",
       "      <td>Los Angeles International Airport</td>\n",
       "      <td>California</td>\n",
       "      <td>DFW - Dallas/Fort Worth International Airport ...</td>\n",
       "      <td>DFW</td>\n",
       "      <td>Dallas/Fort Worth International Airport</td>\n",
       "      <td>Texas</td>\n",
       "    </tr>\n",
       "    <tr>\n",
       "      <th>3</th>\n",
       "      <td>4</td>\n",
       "      <td>AA</td>\n",
       "      <td>2466</td>\n",
       "      <td>SFO</td>\n",
       "      <td>DFW</td>\n",
       "      <td>3</td>\n",
       "      <td>0.33</td>\n",
       "      <td>3.25</td>\n",
       "      <td>1</td>\n",
       "      <td>Mañana</td>\n",
       "      <td>&gt;= 2.71</td>\n",
       "      <td>SFO - San Francisco International Airport - Ca...</td>\n",
       "      <td>SFO</td>\n",
       "      <td>San Francisco International Airport</td>\n",
       "      <td>California</td>\n",
       "      <td>DFW - Dallas/Fort Worth International Airport ...</td>\n",
       "      <td>DFW</td>\n",
       "      <td>Dallas/Fort Worth International Airport</td>\n",
       "      <td>Texas</td>\n",
       "    </tr>\n",
       "    <tr>\n",
       "      <th>4</th>\n",
       "      <td>5</td>\n",
       "      <td>AS</td>\n",
       "      <td>108</td>\n",
       "      <td>ANC</td>\n",
       "      <td>SEA</td>\n",
       "      <td>3</td>\n",
       "      <td>0.50</td>\n",
       "      <td>3.37</td>\n",
       "      <td>0</td>\n",
       "      <td>Mañana</td>\n",
       "      <td>&gt;= 2.71</td>\n",
       "      <td>NaN</td>\n",
       "      <td>NaN</td>\n",
       "      <td>NaN</td>\n",
       "      <td>NaN</td>\n",
       "      <td>SEA - Seattle–Tacoma International Airport - W...</td>\n",
       "      <td>SEA</td>\n",
       "      <td>Seattle–Tacoma International Airport</td>\n",
       "      <td>Washington</td>\n",
       "    </tr>\n",
       "  </tbody>\n",
       "</table>\n",
       "</div>"
      ],
      "text/plain": [
       "   id Airline  Flight AirportFrom AirportTo  DayOfWeek  Time  Length  Delay  \\\n",
       "0   1      CO     269         SFO       IAH          3  0.25    3.42      1   \n",
       "1   2      US    1558         PHX       CLT          3  0.25    3.70      1   \n",
       "2   3      AA    2400         LAX       DFW          3  0.33    2.75      1   \n",
       "3   4      AA    2466         SFO       DFW          3  0.33    3.25      1   \n",
       "4   5      AS     108         ANC       SEA          3  0.50    3.37      0   \n",
       "\n",
       "  TimeGroups LengthGroups                                       Airport_From  \\\n",
       "0     Mañana      >= 2.71  SFO - San Francisco International Airport - Ca...   \n",
       "1     Mañana      >= 2.71  PHX - Phoenix Sky Harbor International Airport...   \n",
       "2     Mañana      >= 2.71  LAX - Los Angeles International Airport - Cali...   \n",
       "3     Mañana      >= 2.71  SFO - San Francisco International Airport - Ca...   \n",
       "4     Mañana      >= 2.71                                                NaN   \n",
       "\n",
       "  Cod_AirportFrom                          Desc_AirportFrom    Loc_From  \\\n",
       "0             SFO       San Francisco International Airport  California   \n",
       "1             PHX  Phoenix Sky Harbor International Airport     Arizona   \n",
       "2             LAX         Los Angeles International Airport  California   \n",
       "3             SFO       San Francisco International Airport  California   \n",
       "4             NaN                                       NaN         NaN   \n",
       "\n",
       "                                             Airport Cod_Airport  \\\n",
       "0  IAH - George Bush Intercontinental Airport - H...         IAH   \n",
       "1  CLT - Charlotte Douglas International Airport ...         CLT   \n",
       "2  DFW - Dallas/Fort Worth International Airport ...         DFW   \n",
       "3  DFW - Dallas/Fort Worth International Airport ...         DFW   \n",
       "4  SEA - Seattle–Tacoma International Airport - W...         SEA   \n",
       "\n",
       "                              Desc_Airport             Loc  \n",
       "0     George Bush Intercontinental Airport  Houston, Texas  \n",
       "1  Charlotte Douglas International Airport  North Carolina  \n",
       "2  Dallas/Fort Worth International Airport           Texas  \n",
       "3  Dallas/Fort Worth International Airport           Texas  \n",
       "4     Seattle–Tacoma International Airport      Washington  "
      ]
     },
     "execution_count": 15,
     "metadata": {},
     "output_type": "execute_result"
    }
   ],
   "source": [
    "# Merge Aeropuertos Destinos\n",
    "df_air = pd.merge(df_air, df_airport, how='left', left_on='AirportTo', right_on='Cod_Airport')\n",
    "df_air.head()"
   ]
  },
  {
   "cell_type": "code",
   "execution_count": 16,
   "metadata": {},
   "outputs": [
    {
     "data": {
      "text/html": [
       "<div>\n",
       "<style scoped>\n",
       "    .dataframe tbody tr th:only-of-type {\n",
       "        vertical-align: middle;\n",
       "    }\n",
       "\n",
       "    .dataframe tbody tr th {\n",
       "        vertical-align: top;\n",
       "    }\n",
       "\n",
       "    .dataframe thead th {\n",
       "        text-align: right;\n",
       "    }\n",
       "</style>\n",
       "<table border=\"1\" class=\"dataframe\">\n",
       "  <thead>\n",
       "    <tr style=\"text-align: right;\">\n",
       "      <th></th>\n",
       "      <th>id</th>\n",
       "      <th>Airline</th>\n",
       "      <th>Flight</th>\n",
       "      <th>AirportFrom</th>\n",
       "      <th>AirportTo</th>\n",
       "      <th>DayOfWeek</th>\n",
       "      <th>Time</th>\n",
       "      <th>Length</th>\n",
       "      <th>Delay</th>\n",
       "      <th>TimeGroups</th>\n",
       "      <th>LengthGroups</th>\n",
       "      <th>Airport_From</th>\n",
       "      <th>Cod_AirportFrom</th>\n",
       "      <th>Desc_AirportFrom</th>\n",
       "      <th>Loc_From</th>\n",
       "      <th>Airport_To</th>\n",
       "      <th>Cod_AirportTo</th>\n",
       "      <th>Desc_AirportTo</th>\n",
       "      <th>Loc_To</th>\n",
       "    </tr>\n",
       "  </thead>\n",
       "  <tbody>\n",
       "    <tr>\n",
       "      <th>0</th>\n",
       "      <td>1</td>\n",
       "      <td>CO</td>\n",
       "      <td>269</td>\n",
       "      <td>SFO</td>\n",
       "      <td>IAH</td>\n",
       "      <td>3</td>\n",
       "      <td>0.25</td>\n",
       "      <td>3.42</td>\n",
       "      <td>1</td>\n",
       "      <td>Mañana</td>\n",
       "      <td>&gt;= 2.71</td>\n",
       "      <td>SFO - San Francisco International Airport - Ca...</td>\n",
       "      <td>SFO</td>\n",
       "      <td>San Francisco International Airport</td>\n",
       "      <td>California</td>\n",
       "      <td>IAH - George Bush Intercontinental Airport - H...</td>\n",
       "      <td>IAH</td>\n",
       "      <td>George Bush Intercontinental Airport</td>\n",
       "      <td>Houston, Texas</td>\n",
       "    </tr>\n",
       "    <tr>\n",
       "      <th>1</th>\n",
       "      <td>2</td>\n",
       "      <td>US</td>\n",
       "      <td>1558</td>\n",
       "      <td>PHX</td>\n",
       "      <td>CLT</td>\n",
       "      <td>3</td>\n",
       "      <td>0.25</td>\n",
       "      <td>3.70</td>\n",
       "      <td>1</td>\n",
       "      <td>Mañana</td>\n",
       "      <td>&gt;= 2.71</td>\n",
       "      <td>PHX - Phoenix Sky Harbor International Airport...</td>\n",
       "      <td>PHX</td>\n",
       "      <td>Phoenix Sky Harbor International Airport</td>\n",
       "      <td>Arizona</td>\n",
       "      <td>CLT - Charlotte Douglas International Airport ...</td>\n",
       "      <td>CLT</td>\n",
       "      <td>Charlotte Douglas International Airport</td>\n",
       "      <td>North Carolina</td>\n",
       "    </tr>\n",
       "    <tr>\n",
       "      <th>2</th>\n",
       "      <td>3</td>\n",
       "      <td>AA</td>\n",
       "      <td>2400</td>\n",
       "      <td>LAX</td>\n",
       "      <td>DFW</td>\n",
       "      <td>3</td>\n",
       "      <td>0.33</td>\n",
       "      <td>2.75</td>\n",
       "      <td>1</td>\n",
       "      <td>Mañana</td>\n",
       "      <td>&gt;= 2.71</td>\n",
       "      <td>LAX - Los Angeles International Airport - Cali...</td>\n",
       "      <td>LAX</td>\n",
       "      <td>Los Angeles International Airport</td>\n",
       "      <td>California</td>\n",
       "      <td>DFW - Dallas/Fort Worth International Airport ...</td>\n",
       "      <td>DFW</td>\n",
       "      <td>Dallas/Fort Worth International Airport</td>\n",
       "      <td>Texas</td>\n",
       "    </tr>\n",
       "    <tr>\n",
       "      <th>3</th>\n",
       "      <td>4</td>\n",
       "      <td>AA</td>\n",
       "      <td>2466</td>\n",
       "      <td>SFO</td>\n",
       "      <td>DFW</td>\n",
       "      <td>3</td>\n",
       "      <td>0.33</td>\n",
       "      <td>3.25</td>\n",
       "      <td>1</td>\n",
       "      <td>Mañana</td>\n",
       "      <td>&gt;= 2.71</td>\n",
       "      <td>SFO - San Francisco International Airport - Ca...</td>\n",
       "      <td>SFO</td>\n",
       "      <td>San Francisco International Airport</td>\n",
       "      <td>California</td>\n",
       "      <td>DFW - Dallas/Fort Worth International Airport ...</td>\n",
       "      <td>DFW</td>\n",
       "      <td>Dallas/Fort Worth International Airport</td>\n",
       "      <td>Texas</td>\n",
       "    </tr>\n",
       "    <tr>\n",
       "      <th>4</th>\n",
       "      <td>5</td>\n",
       "      <td>AS</td>\n",
       "      <td>108</td>\n",
       "      <td>ANC</td>\n",
       "      <td>SEA</td>\n",
       "      <td>3</td>\n",
       "      <td>0.50</td>\n",
       "      <td>3.37</td>\n",
       "      <td>0</td>\n",
       "      <td>Mañana</td>\n",
       "      <td>&gt;= 2.71</td>\n",
       "      <td>NaN</td>\n",
       "      <td>NaN</td>\n",
       "      <td>NaN</td>\n",
       "      <td>NaN</td>\n",
       "      <td>SEA - Seattle–Tacoma International Airport - W...</td>\n",
       "      <td>SEA</td>\n",
       "      <td>Seattle–Tacoma International Airport</td>\n",
       "      <td>Washington</td>\n",
       "    </tr>\n",
       "  </tbody>\n",
       "</table>\n",
       "</div>"
      ],
      "text/plain": [
       "   id Airline  Flight AirportFrom AirportTo  DayOfWeek  Time  Length  Delay  \\\n",
       "0   1      CO     269         SFO       IAH          3  0.25    3.42      1   \n",
       "1   2      US    1558         PHX       CLT          3  0.25    3.70      1   \n",
       "2   3      AA    2400         LAX       DFW          3  0.33    2.75      1   \n",
       "3   4      AA    2466         SFO       DFW          3  0.33    3.25      1   \n",
       "4   5      AS     108         ANC       SEA          3  0.50    3.37      0   \n",
       "\n",
       "  TimeGroups LengthGroups                                       Airport_From  \\\n",
       "0     Mañana      >= 2.71  SFO - San Francisco International Airport - Ca...   \n",
       "1     Mañana      >= 2.71  PHX - Phoenix Sky Harbor International Airport...   \n",
       "2     Mañana      >= 2.71  LAX - Los Angeles International Airport - Cali...   \n",
       "3     Mañana      >= 2.71  SFO - San Francisco International Airport - Ca...   \n",
       "4     Mañana      >= 2.71                                                NaN   \n",
       "\n",
       "  Cod_AirportFrom                          Desc_AirportFrom    Loc_From  \\\n",
       "0             SFO       San Francisco International Airport  California   \n",
       "1             PHX  Phoenix Sky Harbor International Airport     Arizona   \n",
       "2             LAX         Los Angeles International Airport  California   \n",
       "3             SFO       San Francisco International Airport  California   \n",
       "4             NaN                                       NaN         NaN   \n",
       "\n",
       "                                          Airport_To Cod_AirportTo  \\\n",
       "0  IAH - George Bush Intercontinental Airport - H...           IAH   \n",
       "1  CLT - Charlotte Douglas International Airport ...           CLT   \n",
       "2  DFW - Dallas/Fort Worth International Airport ...           DFW   \n",
       "3  DFW - Dallas/Fort Worth International Airport ...           DFW   \n",
       "4  SEA - Seattle–Tacoma International Airport - W...           SEA   \n",
       "\n",
       "                            Desc_AirportTo          Loc_To  \n",
       "0     George Bush Intercontinental Airport  Houston, Texas  \n",
       "1  Charlotte Douglas International Airport  North Carolina  \n",
       "2  Dallas/Fort Worth International Airport           Texas  \n",
       "3  Dallas/Fort Worth International Airport           Texas  \n",
       "4     Seattle–Tacoma International Airport      Washington  "
      ]
     },
     "execution_count": 16,
     "metadata": {},
     "output_type": "execute_result"
    }
   ],
   "source": [
    "# Renombramos columnas\n",
    "df_air.rename(columns={\"Airport\":\"Airport_To\", \"Cod_Airport\":\"Cod_AirportTo\", \"Desc_Airport\":\"Desc_AirportTo\", \"Loc\":\"Loc_To\"}, inplace=True)\n",
    "df_air.head()"
   ]
  },
  {
   "cell_type": "markdown",
   "metadata": {},
   "source": [
    "Reemplazamos los valores \"NaN\" por \"Other\", valor que va a representar aquellos aeropuestos que no se encontraban en el dataset mergeado.  "
   ]
  },
  {
   "cell_type": "code",
   "execution_count": 17,
   "metadata": {},
   "outputs": [
    {
     "data": {
      "text/html": [
       "<div>\n",
       "<style scoped>\n",
       "    .dataframe tbody tr th:only-of-type {\n",
       "        vertical-align: middle;\n",
       "    }\n",
       "\n",
       "    .dataframe tbody tr th {\n",
       "        vertical-align: top;\n",
       "    }\n",
       "\n",
       "    .dataframe thead th {\n",
       "        text-align: right;\n",
       "    }\n",
       "</style>\n",
       "<table border=\"1\" class=\"dataframe\">\n",
       "  <thead>\n",
       "    <tr style=\"text-align: right;\">\n",
       "      <th></th>\n",
       "      <th>id</th>\n",
       "      <th>Airline</th>\n",
       "      <th>Flight</th>\n",
       "      <th>AirportFrom</th>\n",
       "      <th>AirportTo</th>\n",
       "      <th>DayOfWeek</th>\n",
       "      <th>Time</th>\n",
       "      <th>Length</th>\n",
       "      <th>Delay</th>\n",
       "      <th>TimeGroups</th>\n",
       "      <th>LengthGroups</th>\n",
       "      <th>Airport_From</th>\n",
       "      <th>Cod_AirportFrom</th>\n",
       "      <th>Desc_AirportFrom</th>\n",
       "      <th>Loc_From</th>\n",
       "      <th>Airport_To</th>\n",
       "      <th>Cod_AirportTo</th>\n",
       "      <th>Desc_AirportTo</th>\n",
       "      <th>Loc_To</th>\n",
       "    </tr>\n",
       "  </thead>\n",
       "  <tbody>\n",
       "    <tr>\n",
       "      <th>0</th>\n",
       "      <td>1</td>\n",
       "      <td>CO</td>\n",
       "      <td>269</td>\n",
       "      <td>SFO</td>\n",
       "      <td>IAH</td>\n",
       "      <td>3</td>\n",
       "      <td>0.25</td>\n",
       "      <td>3.42</td>\n",
       "      <td>1</td>\n",
       "      <td>Mañana</td>\n",
       "      <td>&gt;= 2.71</td>\n",
       "      <td>SFO - San Francisco International Airport - Ca...</td>\n",
       "      <td>SFO</td>\n",
       "      <td>San Francisco International Airport</td>\n",
       "      <td>California</td>\n",
       "      <td>IAH - George Bush Intercontinental Airport - H...</td>\n",
       "      <td>IAH</td>\n",
       "      <td>George Bush Intercontinental Airport</td>\n",
       "      <td>Houston, Texas</td>\n",
       "    </tr>\n",
       "    <tr>\n",
       "      <th>1</th>\n",
       "      <td>2</td>\n",
       "      <td>US</td>\n",
       "      <td>1558</td>\n",
       "      <td>PHX</td>\n",
       "      <td>CLT</td>\n",
       "      <td>3</td>\n",
       "      <td>0.25</td>\n",
       "      <td>3.70</td>\n",
       "      <td>1</td>\n",
       "      <td>Mañana</td>\n",
       "      <td>&gt;= 2.71</td>\n",
       "      <td>PHX - Phoenix Sky Harbor International Airport...</td>\n",
       "      <td>PHX</td>\n",
       "      <td>Phoenix Sky Harbor International Airport</td>\n",
       "      <td>Arizona</td>\n",
       "      <td>CLT - Charlotte Douglas International Airport ...</td>\n",
       "      <td>CLT</td>\n",
       "      <td>Charlotte Douglas International Airport</td>\n",
       "      <td>North Carolina</td>\n",
       "    </tr>\n",
       "    <tr>\n",
       "      <th>2</th>\n",
       "      <td>3</td>\n",
       "      <td>AA</td>\n",
       "      <td>2400</td>\n",
       "      <td>LAX</td>\n",
       "      <td>DFW</td>\n",
       "      <td>3</td>\n",
       "      <td>0.33</td>\n",
       "      <td>2.75</td>\n",
       "      <td>1</td>\n",
       "      <td>Mañana</td>\n",
       "      <td>&gt;= 2.71</td>\n",
       "      <td>LAX - Los Angeles International Airport - Cali...</td>\n",
       "      <td>LAX</td>\n",
       "      <td>Los Angeles International Airport</td>\n",
       "      <td>California</td>\n",
       "      <td>DFW - Dallas/Fort Worth International Airport ...</td>\n",
       "      <td>DFW</td>\n",
       "      <td>Dallas/Fort Worth International Airport</td>\n",
       "      <td>Texas</td>\n",
       "    </tr>\n",
       "    <tr>\n",
       "      <th>3</th>\n",
       "      <td>4</td>\n",
       "      <td>AA</td>\n",
       "      <td>2466</td>\n",
       "      <td>SFO</td>\n",
       "      <td>DFW</td>\n",
       "      <td>3</td>\n",
       "      <td>0.33</td>\n",
       "      <td>3.25</td>\n",
       "      <td>1</td>\n",
       "      <td>Mañana</td>\n",
       "      <td>&gt;= 2.71</td>\n",
       "      <td>SFO - San Francisco International Airport - Ca...</td>\n",
       "      <td>SFO</td>\n",
       "      <td>San Francisco International Airport</td>\n",
       "      <td>California</td>\n",
       "      <td>DFW - Dallas/Fort Worth International Airport ...</td>\n",
       "      <td>DFW</td>\n",
       "      <td>Dallas/Fort Worth International Airport</td>\n",
       "      <td>Texas</td>\n",
       "    </tr>\n",
       "    <tr>\n",
       "      <th>4</th>\n",
       "      <td>5</td>\n",
       "      <td>AS</td>\n",
       "      <td>108</td>\n",
       "      <td>ANC</td>\n",
       "      <td>SEA</td>\n",
       "      <td>3</td>\n",
       "      <td>0.50</td>\n",
       "      <td>3.37</td>\n",
       "      <td>0</td>\n",
       "      <td>Mañana</td>\n",
       "      <td>&gt;= 2.71</td>\n",
       "      <td>NaN</td>\n",
       "      <td>Other</td>\n",
       "      <td>NaN</td>\n",
       "      <td>Other</td>\n",
       "      <td>SEA - Seattle–Tacoma International Airport - W...</td>\n",
       "      <td>SEA</td>\n",
       "      <td>Seattle–Tacoma International Airport</td>\n",
       "      <td>Washington</td>\n",
       "    </tr>\n",
       "  </tbody>\n",
       "</table>\n",
       "</div>"
      ],
      "text/plain": [
       "   id Airline  Flight AirportFrom AirportTo  DayOfWeek  Time  Length  Delay  \\\n",
       "0   1      CO     269         SFO       IAH          3  0.25    3.42      1   \n",
       "1   2      US    1558         PHX       CLT          3  0.25    3.70      1   \n",
       "2   3      AA    2400         LAX       DFW          3  0.33    2.75      1   \n",
       "3   4      AA    2466         SFO       DFW          3  0.33    3.25      1   \n",
       "4   5      AS     108         ANC       SEA          3  0.50    3.37      0   \n",
       "\n",
       "  TimeGroups LengthGroups                                       Airport_From  \\\n",
       "0     Mañana      >= 2.71  SFO - San Francisco International Airport - Ca...   \n",
       "1     Mañana      >= 2.71  PHX - Phoenix Sky Harbor International Airport...   \n",
       "2     Mañana      >= 2.71  LAX - Los Angeles International Airport - Cali...   \n",
       "3     Mañana      >= 2.71  SFO - San Francisco International Airport - Ca...   \n",
       "4     Mañana      >= 2.71                                                NaN   \n",
       "\n",
       "  Cod_AirportFrom                          Desc_AirportFrom    Loc_From  \\\n",
       "0             SFO       San Francisco International Airport  California   \n",
       "1             PHX  Phoenix Sky Harbor International Airport     Arizona   \n",
       "2             LAX         Los Angeles International Airport  California   \n",
       "3             SFO       San Francisco International Airport  California   \n",
       "4           Other                                       NaN       Other   \n",
       "\n",
       "                                          Airport_To Cod_AirportTo  \\\n",
       "0  IAH - George Bush Intercontinental Airport - H...           IAH   \n",
       "1  CLT - Charlotte Douglas International Airport ...           CLT   \n",
       "2  DFW - Dallas/Fort Worth International Airport ...           DFW   \n",
       "3  DFW - Dallas/Fort Worth International Airport ...           DFW   \n",
       "4  SEA - Seattle–Tacoma International Airport - W...           SEA   \n",
       "\n",
       "                            Desc_AirportTo          Loc_To  \n",
       "0     George Bush Intercontinental Airport  Houston, Texas  \n",
       "1  Charlotte Douglas International Airport  North Carolina  \n",
       "2  Dallas/Fort Worth International Airport           Texas  \n",
       "3  Dallas/Fort Worth International Airport           Texas  \n",
       "4     Seattle–Tacoma International Airport      Washington  "
      ]
     },
     "execution_count": 17,
     "metadata": {},
     "output_type": "execute_result"
    }
   ],
   "source": [
    "df_air['Cod_AirportFrom'].fillna(\"Other\", inplace=True)\n",
    "df_air['Cod_AirportTo'].fillna(\"Other\", inplace=True)\n",
    "df_air['Loc_From'].fillna(\"Other\", inplace=True)\n",
    "df_air['Loc_To'].fillna(\"Other\", inplace=True)\n",
    "\n",
    "df_air.head()"
   ]
  },
  {
   "cell_type": "markdown",
   "metadata": {},
   "source": [
    "#### 2.2 Análisis Univariado"
   ]
  },
  {
   "cell_type": "code",
   "execution_count": 18,
   "metadata": {},
   "outputs": [
    {
     "name": "stdout",
     "output_type": "stream",
     "text": [
      "6585\n"
     ]
    }
   ],
   "source": [
    "# Analisis de Vuelos\n",
    "un_flight = df_air['Flight'].unique()\n",
    "print(len(un_flight))"
   ]
  },
  {
   "cell_type": "markdown",
   "metadata": {},
   "source": [
    "El dataset cuenta con 6585 vuelos unicos"
   ]
  },
  {
   "cell_type": "code",
   "execution_count": 19,
   "metadata": {},
   "outputs": [
    {
     "data": {
      "image/png": "[encoded data removed]",
      "text/plain": [
       "<Figure size 432x288 with 1 Axes>"
      ]
     },
     "metadata": {
      "needs_background": "light"
     },
     "output_type": "display_data"
    }
   ],
   "source": [
    "# Analisis Días de la semana\n",
    "fig, ax = plt.subplots()\n",
    "ax = sns.countplot(x='DayOfWeek', data=df_air)\n",
    "ax.set(title='Distribución de vuelos por día de la semana')\n",
    "plt.show()"
   ]
  },
  {
   "cell_type": "markdown",
   "metadata": {},
   "source": [
    "En esta visualización podemos ver como el día 6 (sábado) y 7 (domingo) son los días que menos vuelos tienen, lo que tiene sentido ya que no son días que se suela viajar para vacacionar, o de forma empresarial.\n",
    "Como segundo grupo esta el día 1 (lunes) y 2 (martes) y el grupo con mayor cantidad de vuelos se encuentra en la mitad de la semana con los días 3 (miercoles), 4 (jueves) y 5 (viernes)."
   ]
  },
  {
   "cell_type": "code",
   "execution_count": 20,
   "metadata": {},
   "outputs": [
    {
     "data": {
      "image/png": "[encoded data removed]",
      "text/plain": [
       "<Figure size 936x288 with 1 Axes>"
      ]
     },
     "metadata": {
      "needs_background": "light"
     },
     "output_type": "display_data"
    }
   ],
   "source": [
    "# Analisis Aerolineas\n",
    "plt.figure(figsize=(13, 4))\n",
    "sns.countplot(x='Airline', data=df_air, order = df_air.Airline.value_counts().index)\n",
    "plt.title('Distribución de vuelos por Aerolineas Comerciales')\n",
    "plt.show()"
   ]
  },
  {
   "cell_type": "markdown",
   "metadata": {},
   "source": [
    "En esta visualización podemos ver las aerolíneas que más vuelos tienen de forma decreciente."
   ]
  },
  {
   "cell_type": "markdown",
   "metadata": {},
   "source": [
    "**Diccionario de Aerolineas (según fuente de origen en KAGGLE):**\n",
    "- Alaska Airlines AS / ASA\n",
    "- American Airlines AA/AAL\n",
    "- Air Canada AC/AC\n",
    "- Aeromexico AM / AMX\n",
    "- Continental Airlines CO / COA\n",
    "- Delta Airlines DL / DAL\n",
    "- FedEx FX / FDX\n",
    "- Hawaiian Airlines HA / HAL\n",
    "- Northwest Airlines NW / NWA\n",
    "- Polar Air Cargo PO / PAC\n",
    "- Southwest Airlines SW / SWA\n",
    "- United Airlines UA / UAL\n",
    "- United Parcel (UPS) 5X / UPS\n",
    "- Virgin Atlantic VS / VIR\n",
    "- VivaAerobús VB / VIV\n",
    "- WestJet WS / WJ"
   ]
  },
  {
   "cell_type": "code",
   "execution_count": 21,
   "metadata": {},
   "outputs": [
    {
     "data": {
      "text/plain": [
       "<AxesSubplot:>"
      ]
     },
     "execution_count": 21,
     "metadata": {},
     "output_type": "execute_result"
    },
    {
     "data": {
      "image/png": "[encoded data removed]",
      "text/plain": [
       "<Figure size 432x288 with 1 Axes>"
      ]
     },
     "metadata": {
      "needs_background": "light"
     },
     "output_type": "display_data"
    }
   ],
   "source": [
    "# Análisis de Distancia\n",
    "df_air['Length'].value_counts().sort_index().plot.area()"
   ]
  },
  {
   "cell_type": "code",
   "execution_count": 22,
   "metadata": {},
   "outputs": [
    {
     "data": {
      "text/plain": [
       "<seaborn.axisgrid.FacetGrid at 0x1a1c05bbf88>"
      ]
     },
     "execution_count": 22,
     "metadata": {},
     "output_type": "execute_result"
    },
    {
     "data": {
      "image/png": "[encoded data removed]",
      "text/plain": [
       "<Figure size 360x360 with 1 Axes>"
      ]
     },
     "metadata": {
      "needs_background": "light"
     },
     "output_type": "display_data"
    }
   ],
   "source": [
    "sns.displot(x='Length', data=df_air, kind=\"kde\")"
   ]
  },
  {
   "cell_type": "markdown",
   "metadata": {},
   "source": [
    "La variable 'Length' cuenta con una distribución \"Asimétrica hacia la izquierda\".\n",
    "A su vez, evidencia que la duración de los vuelos se concentraron entre 0.5 y 3 horas. Con un valor mínimo de 0 y un máximo de 10.92. \n",
    "En total, 4 registros contaban con una duración igual a cero, por lo que decidimos excluirlos del análisis."
   ]
  },
  {
   "cell_type": "code",
   "execution_count": 23,
   "metadata": {},
   "outputs": [
    {
     "data": {
      "image/png": "[encoded data removed]",
      "text/plain": [
       "<Figure size 432x288 with 1 Axes>"
      ]
     },
     "metadata": {},
     "output_type": "display_data"
    }
   ],
   "source": [
    "# Distribucion de agrupacián de Duración\n",
    "lgroup = df_air['LengthGroups'].value_counts()\n",
    "plt.pie(lgroup, autopct='%1.1f%%', \n",
    "       wedgeprops={\"linewidth\": 3, \"edgecolor\": \"white\"}, \n",
    "        labels=lgroup.index)\n",
    "plt.show()"
   ]
  },
  {
   "cell_type": "markdown",
   "metadata": {},
   "source": [
    "La distribución de la cantidad de vuelos, en base a la duración, es bastante equitativa a lo largo de las 4 agrupaciones realizadas."
   ]
  },
  {
   "cell_type": "code",
   "execution_count": 24,
   "metadata": {},
   "outputs": [
    {
     "data": {
      "image/png": "[encoded data removed]",
      "text/plain": [
       "<Figure size 432x288 with 1 Axes>"
      ]
     },
     "metadata": {},
     "output_type": "display_data"
    }
   ],
   "source": [
    "# Distribucion de agrupacián de Horario de Partida\n",
    "tgroup = df_air['TimeGroups'].value_counts()\n",
    "plt.pie(tgroup, autopct='%1.1f%%', \n",
    "       wedgeprops={\"linewidth\": 3, \"edgecolor\": \"white\"}, \n",
    "        labels=tgroup.index)\n",
    "plt.show()"
   ]
  },
  {
   "cell_type": "markdown",
   "metadata": {},
   "source": [
    "La distribución de la cantidad de vuelos, en base al horario de partida, es bastante equitativa a lo largo de las 4 agrupaciones realizadas."
   ]
  },
  {
   "cell_type": "markdown",
   "metadata": {},
   "source": [
    "#### 2.3 Correlación de variables"
   ]
  },
  {
   "cell_type": "code",
   "execution_count": 25,
   "metadata": {},
   "outputs": [
    {
     "data": {
      "text/plain": [
       "Index(['id', 'Airline', 'Flight', 'AirportFrom', 'AirportTo', 'DayOfWeek',\n",
       "       'Time', 'Length', 'Delay', 'TimeGroups', 'LengthGroups', 'Airport_From',\n",
       "       'Cod_AirportFrom', 'Desc_AirportFrom', 'Loc_From', 'Airport_To',\n",
       "       'Cod_AirportTo', 'Desc_AirportTo', 'Loc_To'],\n",
       "      dtype='object')"
      ]
     },
     "execution_count": 25,
     "metadata": {},
     "output_type": "execute_result"
    }
   ],
   "source": [
    "df_air.columns"
   ]
  },
  {
   "cell_type": "code",
   "execution_count": 26,
   "metadata": {},
   "outputs": [
    {
     "data": {
      "text/plain": [
       "<AxesSubplot:>"
      ]
     },
     "execution_count": 26,
     "metadata": {},
     "output_type": "execute_result"
    },
    {
     "data": {
      "image/png": "[encoded data removed]",
      "text/plain": [
       "<Figure size 1008x504 with 2 Axes>"
      ]
     },
     "metadata": {
      "needs_background": "light"
     },
     "output_type": "display_data"
    }
   ],
   "source": [
    "correlation = df_air.corr().round(2)\n",
    "cmap = sns.diverging_palette(220, 10, as_cmap=True)\n",
    "plt.figure(figsize = (14,7))\n",
    "sns.heatmap(correlation, annot = True, cmap=cmap, vmax=.3, center=0,\n",
    "            square=True, linewidths=.5, cbar_kws={\"shrink\": .5},fmt =\".3f\")"
   ]
  },
  {
   "cell_type": "markdown",
   "metadata": {},
   "source": [
    "Podemos observar que no hay fuertes correlaciones entre las variables."
   ]
  },
  {
   "cell_type": "markdown",
   "metadata": {},
   "source": [
    "#### 2.4 Estudio de la variable Target --> \"Delay\""
   ]
  },
  {
   "cell_type": "code",
   "execution_count": 27,
   "metadata": {},
   "outputs": [
    {
     "data": {
      "text/plain": [
       "Delay\n",
       "0    299116\n",
       "1    240263\n",
       "Name: id, dtype: int64"
      ]
     },
     "execution_count": 27,
     "metadata": {},
     "output_type": "execute_result"
    }
   ],
   "source": [
    "# Distribución de Retrasos\n",
    "df_air.groupby(['Delay']).count()['id']"
   ]
  },
  {
   "cell_type": "code",
   "execution_count": 28,
   "metadata": {},
   "outputs": [
    {
     "data": {
      "image/png": "[encoded data removed]",
      "text/plain": [
       "<Figure size 432x288 with 1 Axes>"
      ]
     },
     "metadata": {},
     "output_type": "display_data"
    }
   ],
   "source": [
    "Delays = df_air['Delay'].value_counts()\n",
    "plt.pie(Delays, colors=['#BB8FCE', '#7FB3D5'], autopct='%1.1f%%', \n",
    "       wedgeprops={\"linewidth\": 3, \"edgecolor\": \"white\"}, \n",
    "        labels=Delays.index)\n",
    "plt.show()"
   ]
  },
  {
   "cell_type": "markdown",
   "metadata": {},
   "source": [
    "Podemos ver que el 44.5% de los vuelos salieron retrasados."
   ]
  },
  {
   "cell_type": "code",
   "execution_count": 29,
   "metadata": {},
   "outputs": [
    {
     "data": {
      "text/plain": [
       "Delay  Airline\n",
       "0      9E         12460\n",
       "       AA         27920\n",
       "       AS          7579\n",
       "       B6          9653\n",
       "       CO          9161\n",
       "       DL         33488\n",
       "       EV         16728\n",
       "       F9          3554\n",
       "       FL         14552\n",
       "       HA          3792\n",
       "       MQ         23863\n",
       "       OH          9128\n",
       "       OO         27494\n",
       "       UA         18673\n",
       "       US         22909\n",
       "       WN         28440\n",
       "       XE         19331\n",
       "       YV         10391\n",
       "1      9E          8226\n",
       "       AA         17736\n",
       "       AS          3892\n",
       "       B6          8458\n",
       "       CO         11957\n",
       "       DL         27452\n",
       "       EV         11255\n",
       "       F9          2899\n",
       "       FL          6275\n",
       "       HA          1786\n",
       "       MQ         12742\n",
       "       OH          3502\n",
       "       OO         22760\n",
       "       UA          8946\n",
       "       US         11591\n",
       "       WN         65657\n",
       "       XE         11795\n",
       "       YV          3334\n",
       "Name: id, dtype: int64"
      ]
     },
     "execution_count": 29,
     "metadata": {},
     "output_type": "execute_result"
    }
   ],
   "source": [
    "# Delay vs Airline\n",
    "df_air.groupby(['Delay','Airline']).count()['id']"
   ]
  },
  {
   "cell_type": "code",
   "execution_count": 30,
   "metadata": {},
   "outputs": [
    {
     "data": {
      "image/png": "[encoded data removed]",
      "text/plain": [
       "<Figure size 864x432 with 1 Axes>"
      ]
     },
     "metadata": {
      "needs_background": "light"
     },
     "output_type": "display_data"
    }
   ],
   "source": [
    "plt.figure(figsize = (12,6))\n",
    "sns.histplot(data=df_air, x = df_air['Airline'], hue=df_air['Delay'], multiple=\"dodge\", shrink=.8) \n",
    "plt.title('Cantidad de vuelos Con/Sin Retrasos por Aerolineas', fontsize = 14)\n",
    "plt.show()"
   ]
  },
  {
   "cell_type": "markdown",
   "metadata": {},
   "source": [
    "Acá podemos ver que la aerolinea WN si bien es la que mayor cantidad de vuelos realiza, también es la que peor servicio ofrece en cuanto a la puntualidad de los horarios de partida. Teniendo más del doble de vuelos retrasados que vuelos puntuales.\n",
    "A su vez, junto con WN, CO es la única otra compañia que tiene más vuelos retrasados que puntuales."
   ]
  },
  {
   "cell_type": "code",
   "execution_count": 31,
   "metadata": {},
   "outputs": [
    {
     "data": {
      "text/plain": [
       "Airline  Delay\n",
       "9E       0        60.23\n",
       "         1        39.77\n",
       "AA       0        61.15\n",
       "         1        38.85\n",
       "AS       0        66.07\n",
       "         1        33.93\n",
       "B6       0        53.30\n",
       "         1        46.70\n",
       "CO       0        43.38\n",
       "         1        56.62\n",
       "DL       0        54.95\n",
       "         1        45.05\n",
       "EV       0        59.78\n",
       "         1        40.22\n",
       "F9       0        55.08\n",
       "         1        44.92\n",
       "FL       0        69.87\n",
       "         1        30.13\n",
       "HA       0        67.98\n",
       "         1        32.02\n",
       "MQ       0        65.19\n",
       "         1        34.81\n",
       "OH       0        72.27\n",
       "         1        27.73\n",
       "OO       0        54.71\n",
       "         1        45.29\n",
       "UA       0        67.61\n",
       "         1        32.39\n",
       "US       0        66.40\n",
       "         1        33.60\n",
       "WN       0        30.22\n",
       "         1        69.78\n",
       "XE       0        62.11\n",
       "         1        37.89\n",
       "YV       0        75.71\n",
       "         1        24.29\n",
       "Name: %Delay_Airline, dtype: float64"
      ]
     },
     "execution_count": 31,
     "metadata": {},
     "output_type": "execute_result"
    }
   ],
   "source": [
    "df_aux = df_air.groupby(['Airline', 'Delay'])['id'].count().rename('%Delay_Airline').groupby(level = 0).transform(lambda x: (x/x.sum())*100).round(2)\n",
    "df_aux"
   ]
  },
  {
   "cell_type": "markdown",
   "metadata": {},
   "source": [
    "En 16 de las 18 aerolíneas la cantidad de vuelos sin retrasos es superior a la cantidad de vuelos con retrasos. Llamativamente, encontramos la situación inversa en WN, la aerolínea con mayor cantidad de vuelos, y en CO, una de las aerolíneas con menor cantidad de vuelos registrados."
   ]
  },
  {
   "cell_type": "code",
   "execution_count": 32,
   "metadata": {},
   "outputs": [
    {
     "data": {
      "text/plain": [
       "Delay  DayOfWeek\n",
       "0      1            38739\n",
       "       2            39427\n",
       "       3            47492\n",
       "       4            50201\n",
       "       5            49733\n",
       "       6            35339\n",
       "       7            38185\n",
       "1      1            34030\n",
       "       2            31913\n",
       "       3            42254\n",
       "       4            41244\n",
       "       5            35515\n",
       "       6            23615\n",
       "       7            31692\n",
       "Name: id, dtype: int64"
      ]
     },
     "execution_count": 32,
     "metadata": {},
     "output_type": "execute_result"
    }
   ],
   "source": [
    "# Delay vs DayOfWeek\n",
    "df_air.groupby(['Delay','DayOfWeek']).count()['id']"
   ]
  },
  {
   "cell_type": "code",
   "execution_count": 33,
   "metadata": {},
   "outputs": [
    {
     "data": {
      "image/png": "[encoded data removed]",
      "text/plain": [
       "<Figure size 432x288 with 1 Axes>"
      ]
     },
     "metadata": {
      "needs_background": "light"
     },
     "output_type": "display_data"
    }
   ],
   "source": [
    "group_day = df_air.groupby(['Delay','DayOfWeek']).count()['id']\n",
    "(group_day.unstack(level=0).plot.bar())\n",
    "plt.show()"
   ]
  },
  {
   "cell_type": "markdown",
   "metadata": {},
   "source": [
    "En esta visualización podemos ver que el día de la semana no tiene una gran influencia sobre los retrasos en los vuelos. "
   ]
  },
  {
   "cell_type": "code",
   "execution_count": 34,
   "metadata": {},
   "outputs": [
    {
     "data": {
      "text/plain": [
       "DayOfWeek  Delay\n",
       "1          0        53.24\n",
       "           1        46.76\n",
       "2          0        55.27\n",
       "           1        44.73\n",
       "3          0        52.92\n",
       "           1        47.08\n",
       "4          0        54.90\n",
       "           1        45.10\n",
       "5          0        58.34\n",
       "           1        41.66\n",
       "6          0        59.94\n",
       "           1        40.06\n",
       "7          0        54.65\n",
       "           1        45.35\n",
       "Name: %Delay_DayOfWeek, dtype: float64"
      ]
     },
     "execution_count": 34,
     "metadata": {},
     "output_type": "execute_result"
    }
   ],
   "source": [
    "df_aux2 = df_air.groupby(['DayOfWeek', 'Delay'])['id'].count().rename('%Delay_DayOfWeek').groupby(level = 0).transform(lambda x: (x/x.sum())*100).round(2)\n",
    "df_aux2"
   ]
  },
  {
   "cell_type": "markdown",
   "metadata": {},
   "source": [
    "Analizando los retrasos por día de la semana no se ha identificado ninguna diferencia significativa. Todos cuentan con aproximadamente entre un 40 y 47% de vuelos retrasados."
   ]
  },
  {
   "cell_type": "code",
   "execution_count": 35,
   "metadata": {},
   "outputs": [
    {
     "data": {
      "image/png": "[encoded data removed]",
      "text/plain": [
       "<Figure size 432x288 with 1 Axes>"
      ]
     },
     "metadata": {
      "needs_background": "light"
     },
     "output_type": "display_data"
    }
   ],
   "source": [
    "# Delay vs Time\n",
    "#plt.figure(figsize = (8,6))\n",
    "sns.boxplot( x=df_air['Delay'], y=df_air['Time'], palette = 'viridis')\n",
    "plt.title('Relación entre Time y Delay', fontsize = 14)\n",
    "plt.show()"
   ]
  },
  {
   "cell_type": "markdown",
   "metadata": {},
   "source": [
    "Según el resultado del boxplot se podría evidenciar una ligera tendencia de que los vuelos con retrasos suelen tener un horario de partida un poco más tarde que los vuelos sin retrasos. Sin embargo no es evidencia suficiente para tal afirmación y se deberia realizar un test de hipotesis para su confirmación."
   ]
  },
  {
   "cell_type": "code",
   "execution_count": 36,
   "metadata": {},
   "outputs": [
    {
     "data": {
      "image/png": "[encoded data removed]",
      "text/plain": [
       "<Figure size 432x288 with 1 Axes>"
      ]
     },
     "metadata": {
      "needs_background": "light"
     },
     "output_type": "display_data"
    }
   ],
   "source": [
    "# Delay vs TimeGroups\n",
    "sns.histplot(data=df_air, x = df_air['TimeGroups'], hue=df_air['Delay'], multiple=\"dodge\", shrink=.8) \n",
    "plt.show()"
   ]
  },
  {
   "cell_type": "markdown",
   "metadata": {},
   "source": [
    "Podemos ver claramente que mientras más tarde es el horario de salida, más probabilidades hay de que el vuelo este retrasado."
   ]
  },
  {
   "cell_type": "code",
   "execution_count": 37,
   "metadata": {},
   "outputs": [
    {
     "data": {
      "image/png": "[encoded data removed]",
      "text/plain": [
       "<Figure size 432x288 with 1 Axes>"
      ]
     },
     "metadata": {
      "needs_background": "light"
     },
     "output_type": "display_data"
    }
   ],
   "source": [
    "# Delay vs LengthGroups \n",
    "sns.histplot(data=df_air, x = df_air['LengthGroups'], hue=df_air['Delay'], multiple=\"dodge\", shrink=.8) \n",
    "plt.show()"
   ]
  },
  {
   "cell_type": "markdown",
   "metadata": {},
   "source": [
    "Podemos ver que los vuelos de una duración larga (Mayor a 2.71 horas) suelen tener mayor probabilidad de retraso que las otras 3 agrupaciones."
   ]
  },
  {
   "cell_type": "markdown",
   "metadata": {},
   "source": [
    "#### 2.5 Análisis Multivariado"
   ]
  },
  {
   "cell_type": "code",
   "execution_count": 38,
   "metadata": {},
   "outputs": [
    {
     "data": {
      "image/png": "[encoded data removed]",
      "text/plain": [
       "<Figure size 1008x504 with 1 Axes>"
      ]
     },
     "metadata": {
      "needs_background": "light"
     },
     "output_type": "display_data"
    }
   ],
   "source": [
    "%matplotlib inline\n",
    "plt.figure(figsize = (14,7))\n",
    "sns.barplot(x = df_air['Airline'], y = df_air['Length'], hue=df_air['Delay']) \n",
    "plt.title('Duración promedio de vuelos para cada Aerolinea diferenciando si tuvieron o no retraso')\n",
    "plt.show()"
   ]
  },
  {
   "cell_type": "markdown",
   "metadata": {},
   "source": [
    "El gráfico de barra calcula el promedio de campo \"Length\" por aerolinea diferenciando aquellos que presentaron retrasos versus aquellos que no."
   ]
  },
  {
   "cell_type": "code",
   "execution_count": 39,
   "metadata": {},
   "outputs": [
    {
     "data": {
      "image/png": "[encoded data removed]",
      "text/plain": [
       "<Figure size 1008x504 with 1 Axes>"
      ]
     },
     "metadata": {
      "needs_background": "light"
     },
     "output_type": "display_data"
    }
   ],
   "source": [
    "plt.figure(figsize = (14,7))\n",
    "sns.boxplot( x=df_air['DayOfWeek'], y=df_air['Time'], hue=df_air['Delay'], palette = 'viridis')\n",
    "plt.title('Relación entre Día de la semana y Retrasos', fontsize = 14)\n",
    "plt.show()"
   ]
  },
  {
   "cell_type": "markdown",
   "metadata": {},
   "source": [
    "El boxplot muestra la relación entre días de la semana, el tiempo y la existencia (o inexistencia) de retrasos. Decidimos hacer este análisis partiendo del anterior boxplot planteado (\"Relación entre Time y Delay\") para detectar posibles variaciones entre los días de la semana."
   ]
  },
  {
   "cell_type": "markdown",
   "metadata": {},
   "source": [
    "Agrupamos \"Delay\" segun AirportFrom and AirportTo"
   ]
  },
  {
   "cell_type": "markdown",
   "metadata": {},
   "source": [
    "Creamos nuevo dataframe con el resultado de la agrupación"
   ]
  },
  {
   "cell_type": "markdown",
   "metadata": {},
   "source": [
    "\n"
   ]
  }
 ],
 "metadata": {
  "kernelspec": {
   "display_name": "Python 3",
   "language": "python",
   "name": "python3"
  },
  "language_info": {
   "codemirror_mode": {
    "name": "ipython",
    "version": 3
   },
   "file_extension": ".py",
   "mimetype": "text/x-python",
   "name": "python",
   "nbconvert_exporter": "python",
   "pygments_lexer": "ipython3",
   "version": "3.7.9"
  }
 },
 "nbformat": 4,
 "nbformat_minor": 5
}
