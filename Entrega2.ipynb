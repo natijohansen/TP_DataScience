{
 "cells": [
  {
   "cell_type": "markdown",
   "metadata": {
    "raw_mimetype": "notebook",
    "slideshow": {
     "slide_type": "fragment"
    },
    "tags": []
   },
   "source": [
    "# Trabajo Práctico Final - Curso Data Science - Coder House"
   ]
  },
  {
   "cell_type": "markdown",
   "metadata": {},
   "source": [
    "#### Empresa / Organización / Problema Específico\n",
    "Predicción de retrasos en la aviación comercial en Estados Unidos."
   ]
  },
  {
   "cell_type": "markdown",
   "metadata": {},
   "source": [
    "#### Objetivo de la Investigación\n",
    "\n",
    "Mejorar los servicios prestados a los pasajeros mediante la predicción de retrasos; conociendo la aerolinea que opera el vuelo, el día de la semana en la que está programado, su aeropuerto de origen y aeropuerto destino."
   ]
  },
  {
   "cell_type": "markdown",
   "metadata": {},
   "source": [
    "#### Equipo\n",
    "El equipos se encuentra conformado por:\n",
    "* Iván Arango \n",
    "* Natalia Johansen \n",
    "* Ignacio Piana\n"
   ]
  },
  {
   "cell_type": "markdown",
   "metadata": {},
   "source": [
    "#### Fuente de datos\n",
    "El dataset a utilizar se obtuvo de Kaggle --> https://www.kaggle.com/datasets/jimschacko/airlines-dataset-to-predict-a-delay\n",
    "\n",
    "Se seleccionó este dataset en base a la cantidad de registros y variables disponibles, así como la posibilidad de trabajar con un problema de negocio que nos resultara pertinente en la actualidad y acorde a nuestros intereses particulares. En la actualidad, los principales aeropuertos de todo el mundo se encuentran experimentando una situación cercana al colapso principalmente debido a la falta de recursos y de personal calificado (como pilotos, controladores aéreos, personal de seguridad, personal de logística, etc.). A raíz de los confinamientos aplicados por el avance de la COVID-19, tanto aerolíneas como aeropuertos aplicaron fuertes recortes de personal por la falta de actividad dentro del sector. Tras el ocaso de la pandemia, la demanda se incrementó exponencialmente y la industria de la aviación comercial no logra ponerse al día y los cuellos de botella en la operación ya son moneda corriente. Las consecuencias de esta crisis impactarán de lleno en perjuicio de los usuarios porque este desequilibrio entre oferta y demanda conduce a la reducción de rutas y frecuencias, cancelaciones y un incremento en los precios de los pasajes.  "
   ]
  },
  {
   "cell_type": "markdown",
   "metadata": {},
   "source": [
    "#### Objetivo de los datos\n",
    "Aspiramos a que este conjunto de datos nos permita encontrar correlaciones entre las diferentes variables disponibles para predecir aquellas aerolíneas, rutas aéreas y/o aeropuertos dónde los pasajeros serán más propensos a sufrir retrasos en sus vuelos.\n",
    "\n",
    "El objetivo que establecimos es utilizar el 70% de los datos para entrenar el modelo, y el 30% restante para testearlo."
   ]
  },
  {
   "cell_type": "markdown",
   "metadata": {},
   "source": [
    "## Data acquisition - Airlines"
   ]
  },
  {
   "cell_type": "markdown",
   "metadata": {},
   "source": [
    "### 1. Carga de datos "
   ]
  },
  {
   "cell_type": "code",
   "execution_count": 1,
   "metadata": {},
   "outputs": [],
   "source": [
    "# Importamos librerias a utilizar\n",
    "import pandas as pd\n",
    "import numpy as np\n",
    "import matplotlib.pyplot as plt\n",
    "import matplotlib as mpl\n",
    "import seaborn as sns"
   ]
  },
  {
   "cell_type": "code",
   "execution_count": 2,
   "metadata": {},
   "outputs": [
    {
     "data": {
      "text/html": [
       "<div>\n",
       "<style scoped>\n",
       "    .dataframe tbody tr th:only-of-type {\n",
       "        vertical-align: middle;\n",
       "    }\n",
       "\n",
       "    .dataframe tbody tr th {\n",
       "        vertical-align: top;\n",
       "    }\n",
       "\n",
       "    .dataframe thead th {\n",
       "        text-align: right;\n",
       "    }\n",
       "</style>\n",
       "<table border=\"1\" class=\"dataframe\">\n",
       "  <thead>\n",
       "    <tr style=\"text-align: right;\">\n",
       "      <th></th>\n",
       "      <th>id</th>\n",
       "      <th>Airline</th>\n",
       "      <th>Flight</th>\n",
       "      <th>AirportFrom</th>\n",
       "      <th>AirportTo</th>\n",
       "      <th>DayOfWeek</th>\n",
       "      <th>Time</th>\n",
       "      <th>Length</th>\n",
       "      <th>Delay</th>\n",
       "    </tr>\n",
       "  </thead>\n",
       "  <tbody>\n",
       "    <tr>\n",
       "      <th>0</th>\n",
       "      <td>1</td>\n",
       "      <td>CO</td>\n",
       "      <td>269</td>\n",
       "      <td>SFO</td>\n",
       "      <td>IAH</td>\n",
       "      <td>3</td>\n",
       "      <td>15</td>\n",
       "      <td>205</td>\n",
       "      <td>1</td>\n",
       "    </tr>\n",
       "    <tr>\n",
       "      <th>1</th>\n",
       "      <td>2</td>\n",
       "      <td>US</td>\n",
       "      <td>1558</td>\n",
       "      <td>PHX</td>\n",
       "      <td>CLT</td>\n",
       "      <td>3</td>\n",
       "      <td>15</td>\n",
       "      <td>222</td>\n",
       "      <td>1</td>\n",
       "    </tr>\n",
       "    <tr>\n",
       "      <th>2</th>\n",
       "      <td>3</td>\n",
       "      <td>AA</td>\n",
       "      <td>2400</td>\n",
       "      <td>LAX</td>\n",
       "      <td>DFW</td>\n",
       "      <td>3</td>\n",
       "      <td>20</td>\n",
       "      <td>165</td>\n",
       "      <td>1</td>\n",
       "    </tr>\n",
       "    <tr>\n",
       "      <th>3</th>\n",
       "      <td>4</td>\n",
       "      <td>AA</td>\n",
       "      <td>2466</td>\n",
       "      <td>SFO</td>\n",
       "      <td>DFW</td>\n",
       "      <td>3</td>\n",
       "      <td>20</td>\n",
       "      <td>195</td>\n",
       "      <td>1</td>\n",
       "    </tr>\n",
       "    <tr>\n",
       "      <th>4</th>\n",
       "      <td>5</td>\n",
       "      <td>AS</td>\n",
       "      <td>108</td>\n",
       "      <td>ANC</td>\n",
       "      <td>SEA</td>\n",
       "      <td>3</td>\n",
       "      <td>30</td>\n",
       "      <td>202</td>\n",
       "      <td>0</td>\n",
       "    </tr>\n",
       "  </tbody>\n",
       "</table>\n",
       "</div>"
      ],
      "text/plain": [
       "   id Airline  Flight AirportFrom AirportTo  DayOfWeek  Time  Length  Delay\n",
       "0   1      CO     269         SFO       IAH          3    15     205      1\n",
       "1   2      US    1558         PHX       CLT          3    15     222      1\n",
       "2   3      AA    2400         LAX       DFW          3    20     165      1\n",
       "3   4      AA    2466         SFO       DFW          3    20     195      1\n",
       "4   5      AS     108         ANC       SEA          3    30     202      0"
      ]
     },
     "execution_count": 2,
     "metadata": {},
     "output_type": "execute_result"
    }
   ],
   "source": [
    "# Lectura del csv de Aerolineas y Vuelos\n",
    "df_air = pd.read_csv('Airlines.csv', sep=',')\n",
    "df_air.head()"
   ]
  },
  {
   "cell_type": "markdown",
   "metadata": {},
   "source": [
    "**Data Features - Airlines.csv**\n",
    "\n",
    "1. **Airline:** Diferentes tipos de aerolineas comerciales\n",
    "2. **Flight:** Número de Vuelo\n",
    "3. **Airport From:** Aeropuesto de salida\n",
    "4. **Airport To:** Aeropuerto de llegada\n",
    "5. **DayOfWeek:** Día de la semana en el que se realiza el vuelo\n",
    "6. **Time:** Horario de partida del vuelo (en minutos)\n",
    "7. **Length:** Duración del vuelvo (en minutos)\n",
    "8. **Delay:** booleano si el vuelo tuvo demoras o no"
   ]
  },
  {
   "cell_type": "code",
   "execution_count": 3,
   "metadata": {},
   "outputs": [
    {
     "data": {
      "text/html": [
       "<div>\n",
       "<style scoped>\n",
       "    .dataframe tbody tr th:only-of-type {\n",
       "        vertical-align: middle;\n",
       "    }\n",
       "\n",
       "    .dataframe tbody tr th {\n",
       "        vertical-align: top;\n",
       "    }\n",
       "\n",
       "    .dataframe thead th {\n",
       "        text-align: right;\n",
       "    }\n",
       "</style>\n",
       "<table border=\"1\" class=\"dataframe\">\n",
       "  <thead>\n",
       "    <tr style=\"text-align: right;\">\n",
       "      <th></th>\n",
       "      <th>Airport</th>\n",
       "      <th>Cod_Airport</th>\n",
       "      <th>Desc_Airport</th>\n",
       "      <th>Loc</th>\n",
       "    </tr>\n",
       "  </thead>\n",
       "  <tbody>\n",
       "    <tr>\n",
       "      <th>0</th>\n",
       "      <td>ATL - Hartsfield-Jackson Atlanta International...</td>\n",
       "      <td>ATL</td>\n",
       "      <td>Hartsfield-Jackson Atlanta International Airport</td>\n",
       "      <td>Georgia</td>\n",
       "    </tr>\n",
       "    <tr>\n",
       "      <th>1</th>\n",
       "      <td>AUS - Austin-Bergstrom International Airport -...</td>\n",
       "      <td>AUS</td>\n",
       "      <td>Austin-Bergstrom International Airport</td>\n",
       "      <td>Texas</td>\n",
       "    </tr>\n",
       "    <tr>\n",
       "      <th>2</th>\n",
       "      <td>BNA - Nashville International Airport - Tennessee</td>\n",
       "      <td>BNA</td>\n",
       "      <td>Nashville International Airport</td>\n",
       "      <td>Tennessee</td>\n",
       "    </tr>\n",
       "    <tr>\n",
       "      <th>3</th>\n",
       "      <td>BOS - Boston Logan International Airport - Mas...</td>\n",
       "      <td>BOS</td>\n",
       "      <td>Boston Logan International Airport</td>\n",
       "      <td>Massachusetts</td>\n",
       "    </tr>\n",
       "    <tr>\n",
       "      <th>4</th>\n",
       "      <td>BWI - Baltimore-Washington International Thurg...</td>\n",
       "      <td>BWI</td>\n",
       "      <td>Baltimore-Washington International Thurgood Ma...</td>\n",
       "      <td>Washington</td>\n",
       "    </tr>\n",
       "  </tbody>\n",
       "</table>\n",
       "</div>"
      ],
      "text/plain": [
       "                                             Airport Cod_Airport  \\\n",
       "0  ATL - Hartsfield-Jackson Atlanta International...         ATL   \n",
       "1  AUS - Austin-Bergstrom International Airport -...         AUS   \n",
       "2  BNA - Nashville International Airport - Tennessee         BNA   \n",
       "3  BOS - Boston Logan International Airport - Mas...         BOS   \n",
       "4  BWI - Baltimore-Washington International Thurg...         BWI   \n",
       "\n",
       "                                        Desc_Airport            Loc  \n",
       "0   Hartsfield-Jackson Atlanta International Airport        Georgia  \n",
       "1             Austin-Bergstrom International Airport          Texas  \n",
       "2                    Nashville International Airport      Tennessee  \n",
       "3                 Boston Logan International Airport  Massachusetts  \n",
       "4  Baltimore-Washington International Thurgood Ma...     Washington  "
      ]
     },
     "execution_count": 3,
     "metadata": {},
     "output_type": "execute_result"
    }
   ],
   "source": [
    "# Lectura del csv de Aeropuertos\n",
    "df_airport = pd.read_csv('Airports.csv', sep=';')\n",
    "df_airport.head()"
   ]
  },
  {
   "cell_type": "markdown",
   "metadata": {},
   "source": [
    "**Data Features - Airports.csv**\n",
    "\n",
    "1. **Airport:** Nombre completo del aeropuerto\n",
    "2. **Cod_Airport:** Código de identificacion del aeropuerto\n",
    "3. **Desc_Airport:** Nombre corto del Aeropuerto\n",
    "4. **Loc:** Localización del Aeropuerto"
   ]
  },
  {
   "cell_type": "markdown",
   "metadata": {},
   "source": [
    "### 2. Explorando los datos"
   ]
  },
  {
   "cell_type": "code",
   "execution_count": 4,
   "metadata": {},
   "outputs": [
    {
     "data": {
      "text/plain": [
       "(539383, 9)"
      ]
     },
     "execution_count": 4,
     "metadata": {},
     "output_type": "execute_result"
    }
   ],
   "source": [
    "# Qué tamaño tienen los datos?\n",
    "df_air.shape"
   ]
  },
  {
   "cell_type": "code",
   "execution_count": 5,
   "metadata": {},
   "outputs": [
    {
     "name": "stdout",
     "output_type": "stream",
     "text": [
      "<class 'pandas.core.frame.DataFrame'>\n",
      "RangeIndex: 539383 entries, 0 to 539382\n",
      "Data columns (total 9 columns):\n",
      " #   Column       Non-Null Count   Dtype \n",
      "---  ------       --------------   ----- \n",
      " 0   id           539383 non-null  int64 \n",
      " 1   Airline      539383 non-null  object\n",
      " 2   Flight       539383 non-null  int64 \n",
      " 3   AirportFrom  539383 non-null  object\n",
      " 4   AirportTo    539383 non-null  object\n",
      " 5   DayOfWeek    539383 non-null  int64 \n",
      " 6   Time         539383 non-null  int64 \n",
      " 7   Length       539383 non-null  int64 \n",
      " 8   Delay        539383 non-null  int64 \n",
      "dtypes: int64(6), object(3)\n",
      "memory usage: 37.0+ MB\n"
     ]
    }
   ],
   "source": [
    "# Hay valores nulos en los datos?\n",
    "df_air.info()"
   ]
  },
  {
   "cell_type": "code",
   "execution_count": 6,
   "metadata": {},
   "outputs": [
    {
     "data": {
      "text/html": [
       "<div>\n",
       "<style scoped>\n",
       "    .dataframe tbody tr th:only-of-type {\n",
       "        vertical-align: middle;\n",
       "    }\n",
       "\n",
       "    .dataframe tbody tr th {\n",
       "        vertical-align: top;\n",
       "    }\n",
       "\n",
       "    .dataframe thead th {\n",
       "        text-align: right;\n",
       "    }\n",
       "</style>\n",
       "<table border=\"1\" class=\"dataframe\">\n",
       "  <thead>\n",
       "    <tr style=\"text-align: right;\">\n",
       "      <th></th>\n",
       "      <th>id</th>\n",
       "      <th>Flight</th>\n",
       "      <th>DayOfWeek</th>\n",
       "      <th>Time</th>\n",
       "      <th>Length</th>\n",
       "      <th>Delay</th>\n",
       "    </tr>\n",
       "  </thead>\n",
       "  <tbody>\n",
       "    <tr>\n",
       "      <th>count</th>\n",
       "      <td>539383.00000</td>\n",
       "      <td>539383.000000</td>\n",
       "      <td>539383.000000</td>\n",
       "      <td>539383.000000</td>\n",
       "      <td>539383.000000</td>\n",
       "      <td>539383.000000</td>\n",
       "    </tr>\n",
       "    <tr>\n",
       "      <th>mean</th>\n",
       "      <td>269692.00000</td>\n",
       "      <td>2427.928630</td>\n",
       "      <td>3.929668</td>\n",
       "      <td>802.728963</td>\n",
       "      <td>132.202007</td>\n",
       "      <td>0.445442</td>\n",
       "    </tr>\n",
       "    <tr>\n",
       "      <th>std</th>\n",
       "      <td>155706.60446</td>\n",
       "      <td>2067.429837</td>\n",
       "      <td>1.914664</td>\n",
       "      <td>278.045911</td>\n",
       "      <td>70.117016</td>\n",
       "      <td>0.497015</td>\n",
       "    </tr>\n",
       "    <tr>\n",
       "      <th>min</th>\n",
       "      <td>1.00000</td>\n",
       "      <td>1.000000</td>\n",
       "      <td>1.000000</td>\n",
       "      <td>10.000000</td>\n",
       "      <td>0.000000</td>\n",
       "      <td>0.000000</td>\n",
       "    </tr>\n",
       "    <tr>\n",
       "      <th>25%</th>\n",
       "      <td>134846.50000</td>\n",
       "      <td>712.000000</td>\n",
       "      <td>2.000000</td>\n",
       "      <td>565.000000</td>\n",
       "      <td>81.000000</td>\n",
       "      <td>0.000000</td>\n",
       "    </tr>\n",
       "    <tr>\n",
       "      <th>50%</th>\n",
       "      <td>269692.00000</td>\n",
       "      <td>1809.000000</td>\n",
       "      <td>4.000000</td>\n",
       "      <td>795.000000</td>\n",
       "      <td>115.000000</td>\n",
       "      <td>0.000000</td>\n",
       "    </tr>\n",
       "    <tr>\n",
       "      <th>75%</th>\n",
       "      <td>404537.50000</td>\n",
       "      <td>3745.000000</td>\n",
       "      <td>5.000000</td>\n",
       "      <td>1035.000000</td>\n",
       "      <td>162.000000</td>\n",
       "      <td>1.000000</td>\n",
       "    </tr>\n",
       "    <tr>\n",
       "      <th>max</th>\n",
       "      <td>539383.00000</td>\n",
       "      <td>7814.000000</td>\n",
       "      <td>7.000000</td>\n",
       "      <td>1439.000000</td>\n",
       "      <td>655.000000</td>\n",
       "      <td>1.000000</td>\n",
       "    </tr>\n",
       "  </tbody>\n",
       "</table>\n",
       "</div>"
      ],
      "text/plain": [
       "                 id         Flight      DayOfWeek           Time  \\\n",
       "count  539383.00000  539383.000000  539383.000000  539383.000000   \n",
       "mean   269692.00000    2427.928630       3.929668     802.728963   \n",
       "std    155706.60446    2067.429837       1.914664     278.045911   \n",
       "min         1.00000       1.000000       1.000000      10.000000   \n",
       "25%    134846.50000     712.000000       2.000000     565.000000   \n",
       "50%    269692.00000    1809.000000       4.000000     795.000000   \n",
       "75%    404537.50000    3745.000000       5.000000    1035.000000   \n",
       "max    539383.00000    7814.000000       7.000000    1439.000000   \n",
       "\n",
       "              Length          Delay  \n",
       "count  539383.000000  539383.000000  \n",
       "mean      132.202007       0.445442  \n",
       "std        70.117016       0.497015  \n",
       "min         0.000000       0.000000  \n",
       "25%        81.000000       0.000000  \n",
       "50%       115.000000       0.000000  \n",
       "75%       162.000000       1.000000  \n",
       "max       655.000000       1.000000  "
      ]
     },
     "execution_count": 6,
     "metadata": {},
     "output_type": "execute_result"
    }
   ],
   "source": [
    "# Como se distribuyen las variables numéricas\n",
    "df_air.describe()"
   ]
  },
  {
   "cell_type": "code",
   "execution_count": 7,
   "metadata": {},
   "outputs": [
    {
     "data": {
      "text/html": [
       "<div>\n",
       "<style scoped>\n",
       "    .dataframe tbody tr th:only-of-type {\n",
       "        vertical-align: middle;\n",
       "    }\n",
       "\n",
       "    .dataframe tbody tr th {\n",
       "        vertical-align: top;\n",
       "    }\n",
       "\n",
       "    .dataframe thead th {\n",
       "        text-align: right;\n",
       "    }\n",
       "</style>\n",
       "<table border=\"1\" class=\"dataframe\">\n",
       "  <thead>\n",
       "    <tr style=\"text-align: right;\">\n",
       "      <th></th>\n",
       "      <th>Airline</th>\n",
       "      <th>AirportFrom</th>\n",
       "      <th>AirportTo</th>\n",
       "    </tr>\n",
       "  </thead>\n",
       "  <tbody>\n",
       "    <tr>\n",
       "      <th>count</th>\n",
       "      <td>539383</td>\n",
       "      <td>539383</td>\n",
       "      <td>539383</td>\n",
       "    </tr>\n",
       "    <tr>\n",
       "      <th>unique</th>\n",
       "      <td>18</td>\n",
       "      <td>293</td>\n",
       "      <td>293</td>\n",
       "    </tr>\n",
       "    <tr>\n",
       "      <th>top</th>\n",
       "      <td>WN</td>\n",
       "      <td>ATL</td>\n",
       "      <td>ATL</td>\n",
       "    </tr>\n",
       "    <tr>\n",
       "      <th>freq</th>\n",
       "      <td>94097</td>\n",
       "      <td>34449</td>\n",
       "      <td>34440</td>\n",
       "    </tr>\n",
       "  </tbody>\n",
       "</table>\n",
       "</div>"
      ],
      "text/plain": [
       "       Airline AirportFrom AirportTo\n",
       "count   539383      539383    539383\n",
       "unique      18         293       293\n",
       "top         WN         ATL       ATL\n",
       "freq     94097       34449     34440"
      ]
     },
     "execution_count": 7,
     "metadata": {},
     "output_type": "execute_result"
    }
   ],
   "source": [
    "# Como se comportan las variables categóricas\n",
    "df_air.describe(include=['O'])"
   ]
  },
  {
   "cell_type": "markdown",
   "metadata": {},
   "source": [
    "*Resumen de los datos:*\n",
    "\n",
    "Los datos se relacionan con la industria de la aviación comercial estadounidese. \n",
    "Contamos con 539.383 observaciones y 6 variables.\n",
    "También resulta importante mencionar que no tenemos valores faltantes en nuestro dataset."
   ]
  },
  {
   "cell_type": "markdown",
   "metadata": {},
   "source": [
    "#### 2.1 Data Wrangling"
   ]
  },
  {
   "cell_type": "markdown",
   "metadata": {},
   "source": [
    "En la distribución de las variables númericas hemos identificado que existen vuelos con distancia 0 (Length = 0). Procedemos a eliminar estos registros "
   ]
  },
  {
   "cell_type": "code",
   "execution_count": 8,
   "metadata": {},
   "outputs": [
    {
     "data": {
      "text/plain": [
       "(539379, 9)"
      ]
     },
     "execution_count": 8,
     "metadata": {},
     "output_type": "execute_result"
    }
   ],
   "source": [
    "df_air.drop(df_air[df_air.Length == 0].index, inplace=True)\n",
    "df_air.shape"
   ]
  },
  {
   "cell_type": "code",
   "execution_count": 9,
   "metadata": {},
   "outputs": [],
   "source": [
    "#Pasamos las columnas Time y Length de minutos a horas para facilitar su interpretación\n",
    "df_air['Time'] = df_air['Time'].div(60).round(2)\n",
    "df_air['Length'] = df_air['Length'].div(60).round(2)"
   ]
  },
  {
   "cell_type": "code",
   "execution_count": 10,
   "metadata": {},
   "outputs": [
    {
     "data": {
      "text/html": [
       "<div>\n",
       "<style scoped>\n",
       "    .dataframe tbody tr th:only-of-type {\n",
       "        vertical-align: middle;\n",
       "    }\n",
       "\n",
       "    .dataframe tbody tr th {\n",
       "        vertical-align: top;\n",
       "    }\n",
       "\n",
       "    .dataframe thead th {\n",
       "        text-align: right;\n",
       "    }\n",
       "</style>\n",
       "<table border=\"1\" class=\"dataframe\">\n",
       "  <thead>\n",
       "    <tr style=\"text-align: right;\">\n",
       "      <th></th>\n",
       "      <th>id</th>\n",
       "      <th>Flight</th>\n",
       "      <th>DayOfWeek</th>\n",
       "      <th>Time</th>\n",
       "      <th>Length</th>\n",
       "      <th>Delay</th>\n",
       "    </tr>\n",
       "  </thead>\n",
       "  <tbody>\n",
       "    <tr>\n",
       "      <th>count</th>\n",
       "      <td>539379.000000</td>\n",
       "      <td>539379.000000</td>\n",
       "      <td>539379.000000</td>\n",
       "      <td>539379.000000</td>\n",
       "      <td>539379.000000</td>\n",
       "      <td>539379.000000</td>\n",
       "    </tr>\n",
       "    <tr>\n",
       "      <th>mean</th>\n",
       "      <td>269692.152479</td>\n",
       "      <td>2427.945135</td>\n",
       "      <td>3.929649</td>\n",
       "      <td>13.378789</td>\n",
       "      <td>2.203352</td>\n",
       "      <td>0.445444</td>\n",
       "    </tr>\n",
       "    <tr>\n",
       "      <th>std</th>\n",
       "      <td>155706.865117</td>\n",
       "      <td>2067.428568</td>\n",
       "      <td>1.914658</td>\n",
       "      <td>4.634079</td>\n",
       "      <td>1.168602</td>\n",
       "      <td>0.497015</td>\n",
       "    </tr>\n",
       "    <tr>\n",
       "      <th>min</th>\n",
       "      <td>1.000000</td>\n",
       "      <td>1.000000</td>\n",
       "      <td>1.000000</td>\n",
       "      <td>0.170000</td>\n",
       "      <td>0.380000</td>\n",
       "      <td>0.000000</td>\n",
       "    </tr>\n",
       "    <tr>\n",
       "      <th>25%</th>\n",
       "      <td>134845.500000</td>\n",
       "      <td>712.000000</td>\n",
       "      <td>2.000000</td>\n",
       "      <td>9.420000</td>\n",
       "      <td>1.350000</td>\n",
       "      <td>0.000000</td>\n",
       "    </tr>\n",
       "    <tr>\n",
       "      <th>50%</th>\n",
       "      <td>269693.000000</td>\n",
       "      <td>1809.000000</td>\n",
       "      <td>4.000000</td>\n",
       "      <td>13.250000</td>\n",
       "      <td>1.920000</td>\n",
       "      <td>0.000000</td>\n",
       "    </tr>\n",
       "    <tr>\n",
       "      <th>75%</th>\n",
       "      <td>404537.500000</td>\n",
       "      <td>3745.000000</td>\n",
       "      <td>5.000000</td>\n",
       "      <td>17.250000</td>\n",
       "      <td>2.700000</td>\n",
       "      <td>1.000000</td>\n",
       "    </tr>\n",
       "    <tr>\n",
       "      <th>max</th>\n",
       "      <td>539383.000000</td>\n",
       "      <td>7814.000000</td>\n",
       "      <td>7.000000</td>\n",
       "      <td>23.980000</td>\n",
       "      <td>10.920000</td>\n",
       "      <td>1.000000</td>\n",
       "    </tr>\n",
       "  </tbody>\n",
       "</table>\n",
       "</div>"
      ],
      "text/plain": [
       "                  id         Flight      DayOfWeek           Time  \\\n",
       "count  539379.000000  539379.000000  539379.000000  539379.000000   \n",
       "mean   269692.152479    2427.945135       3.929649      13.378789   \n",
       "std    155706.865117    2067.428568       1.914658       4.634079   \n",
       "min         1.000000       1.000000       1.000000       0.170000   \n",
       "25%    134845.500000     712.000000       2.000000       9.420000   \n",
       "50%    269693.000000    1809.000000       4.000000      13.250000   \n",
       "75%    404537.500000    3745.000000       5.000000      17.250000   \n",
       "max    539383.000000    7814.000000       7.000000      23.980000   \n",
       "\n",
       "              Length          Delay  \n",
       "count  539379.000000  539379.000000  \n",
       "mean        2.203352       0.445444  \n",
       "std         1.168602       0.497015  \n",
       "min         0.380000       0.000000  \n",
       "25%         1.350000       0.000000  \n",
       "50%         1.920000       0.000000  \n",
       "75%         2.700000       1.000000  \n",
       "max        10.920000       1.000000  "
      ]
     },
     "execution_count": 10,
     "metadata": {},
     "output_type": "execute_result"
    }
   ],
   "source": [
    "# Volvemos a ver la distribución de las variables númericas para armar agrupaciones en base a los cuartiles. \n",
    "df_air.describe()"
   ]
  },
  {
   "cell_type": "markdown",
   "metadata": {},
   "source": [
    "Realizamos agrupaciones para las columnas Time y Length.\n",
    "Esto nos permitirá realizar visualizaciones menos cargadas y poder interpretar mejor los datos."
   ]
  },
  {
   "cell_type": "code",
   "execution_count": 11,
   "metadata": {},
   "outputs": [],
   "source": [
    "#Agrupación Time (Horario de partida)\n",
    "df_air.loc[df_air['Time'] <= 9.42, 'TimeGroups'] = 'Mañana'\n",
    "df_air.loc[df_air['Time'].between(9.42, 13.26, inclusive='neither'), 'TimeGroups'] = 'Mediodia'\n",
    "df_air.loc[df_air['Time'].between(13.25, 17.26, inclusive='neither'), 'TimeGroups'] = 'Tarde'\n",
    "df_air.loc[df_air['Time'] > 17.25, 'TimeGroups'] = 'Noche'"
   ]
  },
  {
   "cell_type": "code",
   "execution_count": 12,
   "metadata": {},
   "outputs": [
    {
     "data": {
      "text/html": [
       "<div>\n",
       "<style scoped>\n",
       "    .dataframe tbody tr th:only-of-type {\n",
       "        vertical-align: middle;\n",
       "    }\n",
       "\n",
       "    .dataframe tbody tr th {\n",
       "        vertical-align: top;\n",
       "    }\n",
       "\n",
       "    .dataframe thead th {\n",
       "        text-align: right;\n",
       "    }\n",
       "</style>\n",
       "<table border=\"1\" class=\"dataframe\">\n",
       "  <thead>\n",
       "    <tr style=\"text-align: right;\">\n",
       "      <th></th>\n",
       "      <th>id</th>\n",
       "      <th>Airline</th>\n",
       "      <th>Flight</th>\n",
       "      <th>AirportFrom</th>\n",
       "      <th>AirportTo</th>\n",
       "      <th>DayOfWeek</th>\n",
       "      <th>Time</th>\n",
       "      <th>Length</th>\n",
       "      <th>Delay</th>\n",
       "      <th>TimeGroups</th>\n",
       "      <th>LengthGroups</th>\n",
       "    </tr>\n",
       "  </thead>\n",
       "  <tbody>\n",
       "    <tr>\n",
       "      <th>0</th>\n",
       "      <td>1</td>\n",
       "      <td>CO</td>\n",
       "      <td>269</td>\n",
       "      <td>SFO</td>\n",
       "      <td>IAH</td>\n",
       "      <td>3</td>\n",
       "      <td>0.25</td>\n",
       "      <td>3.42</td>\n",
       "      <td>1</td>\n",
       "      <td>Mañana</td>\n",
       "      <td>&gt;= 2.71</td>\n",
       "    </tr>\n",
       "    <tr>\n",
       "      <th>1</th>\n",
       "      <td>2</td>\n",
       "      <td>US</td>\n",
       "      <td>1558</td>\n",
       "      <td>PHX</td>\n",
       "      <td>CLT</td>\n",
       "      <td>3</td>\n",
       "      <td>0.25</td>\n",
       "      <td>3.70</td>\n",
       "      <td>1</td>\n",
       "      <td>Mañana</td>\n",
       "      <td>&gt;= 2.71</td>\n",
       "    </tr>\n",
       "    <tr>\n",
       "      <th>2</th>\n",
       "      <td>3</td>\n",
       "      <td>AA</td>\n",
       "      <td>2400</td>\n",
       "      <td>LAX</td>\n",
       "      <td>DFW</td>\n",
       "      <td>3</td>\n",
       "      <td>0.33</td>\n",
       "      <td>2.75</td>\n",
       "      <td>1</td>\n",
       "      <td>Mañana</td>\n",
       "      <td>&gt;= 2.71</td>\n",
       "    </tr>\n",
       "    <tr>\n",
       "      <th>3</th>\n",
       "      <td>4</td>\n",
       "      <td>AA</td>\n",
       "      <td>2466</td>\n",
       "      <td>SFO</td>\n",
       "      <td>DFW</td>\n",
       "      <td>3</td>\n",
       "      <td>0.33</td>\n",
       "      <td>3.25</td>\n",
       "      <td>1</td>\n",
       "      <td>Mañana</td>\n",
       "      <td>&gt;= 2.71</td>\n",
       "    </tr>\n",
       "    <tr>\n",
       "      <th>4</th>\n",
       "      <td>5</td>\n",
       "      <td>AS</td>\n",
       "      <td>108</td>\n",
       "      <td>ANC</td>\n",
       "      <td>SEA</td>\n",
       "      <td>3</td>\n",
       "      <td>0.50</td>\n",
       "      <td>3.37</td>\n",
       "      <td>0</td>\n",
       "      <td>Mañana</td>\n",
       "      <td>&gt;= 2.71</td>\n",
       "    </tr>\n",
       "    <tr>\n",
       "      <th>...</th>\n",
       "      <td>...</td>\n",
       "      <td>...</td>\n",
       "      <td>...</td>\n",
       "      <td>...</td>\n",
       "      <td>...</td>\n",
       "      <td>...</td>\n",
       "      <td>...</td>\n",
       "      <td>...</td>\n",
       "      <td>...</td>\n",
       "      <td>...</td>\n",
       "      <td>...</td>\n",
       "    </tr>\n",
       "    <tr>\n",
       "      <th>539378</th>\n",
       "      <td>539379</td>\n",
       "      <td>CO</td>\n",
       "      <td>178</td>\n",
       "      <td>OGG</td>\n",
       "      <td>SNA</td>\n",
       "      <td>5</td>\n",
       "      <td>23.98</td>\n",
       "      <td>5.43</td>\n",
       "      <td>0</td>\n",
       "      <td>Noche</td>\n",
       "      <td>&gt;= 2.71</td>\n",
       "    </tr>\n",
       "    <tr>\n",
       "      <th>539379</th>\n",
       "      <td>539380</td>\n",
       "      <td>FL</td>\n",
       "      <td>398</td>\n",
       "      <td>SEA</td>\n",
       "      <td>ATL</td>\n",
       "      <td>5</td>\n",
       "      <td>23.98</td>\n",
       "      <td>5.08</td>\n",
       "      <td>0</td>\n",
       "      <td>Noche</td>\n",
       "      <td>&gt;= 2.71</td>\n",
       "    </tr>\n",
       "    <tr>\n",
       "      <th>539380</th>\n",
       "      <td>539381</td>\n",
       "      <td>FL</td>\n",
       "      <td>609</td>\n",
       "      <td>SFO</td>\n",
       "      <td>MKE</td>\n",
       "      <td>5</td>\n",
       "      <td>23.98</td>\n",
       "      <td>4.25</td>\n",
       "      <td>0</td>\n",
       "      <td>Noche</td>\n",
       "      <td>&gt;= 2.71</td>\n",
       "    </tr>\n",
       "    <tr>\n",
       "      <th>539381</th>\n",
       "      <td>539382</td>\n",
       "      <td>UA</td>\n",
       "      <td>78</td>\n",
       "      <td>HNL</td>\n",
       "      <td>SFO</td>\n",
       "      <td>5</td>\n",
       "      <td>23.98</td>\n",
       "      <td>5.22</td>\n",
       "      <td>1</td>\n",
       "      <td>Noche</td>\n",
       "      <td>&gt;= 2.71</td>\n",
       "    </tr>\n",
       "    <tr>\n",
       "      <th>539382</th>\n",
       "      <td>539383</td>\n",
       "      <td>US</td>\n",
       "      <td>1442</td>\n",
       "      <td>LAX</td>\n",
       "      <td>PHL</td>\n",
       "      <td>5</td>\n",
       "      <td>23.98</td>\n",
       "      <td>5.02</td>\n",
       "      <td>1</td>\n",
       "      <td>Noche</td>\n",
       "      <td>&gt;= 2.71</td>\n",
       "    </tr>\n",
       "  </tbody>\n",
       "</table>\n",
       "<p>539379 rows × 11 columns</p>\n",
       "</div>"
      ],
      "text/plain": [
       "            id Airline  Flight AirportFrom AirportTo  DayOfWeek   Time  \\\n",
       "0            1      CO     269         SFO       IAH          3   0.25   \n",
       "1            2      US    1558         PHX       CLT          3   0.25   \n",
       "2            3      AA    2400         LAX       DFW          3   0.33   \n",
       "3            4      AA    2466         SFO       DFW          3   0.33   \n",
       "4            5      AS     108         ANC       SEA          3   0.50   \n",
       "...        ...     ...     ...         ...       ...        ...    ...   \n",
       "539378  539379      CO     178         OGG       SNA          5  23.98   \n",
       "539379  539380      FL     398         SEA       ATL          5  23.98   \n",
       "539380  539381      FL     609         SFO       MKE          5  23.98   \n",
       "539381  539382      UA      78         HNL       SFO          5  23.98   \n",
       "539382  539383      US    1442         LAX       PHL          5  23.98   \n",
       "\n",
       "        Length  Delay TimeGroups LengthGroups  \n",
       "0         3.42      1     Mañana      >= 2.71  \n",
       "1         3.70      1     Mañana      >= 2.71  \n",
       "2         2.75      1     Mañana      >= 2.71  \n",
       "3         3.25      1     Mañana      >= 2.71  \n",
       "4         3.37      0     Mañana      >= 2.71  \n",
       "...        ...    ...        ...          ...  \n",
       "539378    5.43      0      Noche      >= 2.71  \n",
       "539379    5.08      0      Noche      >= 2.71  \n",
       "539380    4.25      0      Noche      >= 2.71  \n",
       "539381    5.22      1      Noche      >= 2.71  \n",
       "539382    5.02      1      Noche      >= 2.71  \n",
       "\n",
       "[539379 rows x 11 columns]"
      ]
     },
     "execution_count": 12,
     "metadata": {},
     "output_type": "execute_result"
    }
   ],
   "source": [
    "#Agrupación Length (Duración)\n",
    "df_air.loc[df_air['Length'] <= 1.35, 'LengthGroups'] = '<= 1.35'\n",
    "df_air.loc[df_air['Length'].between(1.35, 1.93, inclusive='neither'),  'LengthGroups'] = '1.36 - 1.92'\n",
    "df_air.loc[df_air['Length'].between(1.92, 2.71, inclusive='neither'),  'LengthGroups'] = '1.93 - 2.70'\n",
    "df_air.loc[df_air['Length'] > 2.71, 'LengthGroups'] = '>= 2.71'\n",
    "df_air"
   ]
  },
  {
   "cell_type": "markdown",
   "metadata": {},
   "source": [
    "Incorporamos al dataset información sobre los aeropuertos"
   ]
  },
  {
   "cell_type": "markdown",
   "metadata": {},
   "source": [
    "Merge Aeropuertos Origen"
   ]
  },
  {
   "cell_type": "code",
   "execution_count": 13,
   "metadata": {},
   "outputs": [
    {
     "data": {
      "text/html": [
       "<div>\n",
       "<style scoped>\n",
       "    .dataframe tbody tr th:only-of-type {\n",
       "        vertical-align: middle;\n",
       "    }\n",
       "\n",
       "    .dataframe tbody tr th {\n",
       "        vertical-align: top;\n",
       "    }\n",
       "\n",
       "    .dataframe thead th {\n",
       "        text-align: right;\n",
       "    }\n",
       "</style>\n",
       "<table border=\"1\" class=\"dataframe\">\n",
       "  <thead>\n",
       "    <tr style=\"text-align: right;\">\n",
       "      <th></th>\n",
       "      <th>id</th>\n",
       "      <th>Airline</th>\n",
       "      <th>Flight</th>\n",
       "      <th>AirportFrom</th>\n",
       "      <th>AirportTo</th>\n",
       "      <th>DayOfWeek</th>\n",
       "      <th>Time</th>\n",
       "      <th>Length</th>\n",
       "      <th>Delay</th>\n",
       "      <th>TimeGroups</th>\n",
       "      <th>LengthGroups</th>\n",
       "      <th>Airport</th>\n",
       "      <th>Cod_Airport</th>\n",
       "      <th>Desc_Airport</th>\n",
       "      <th>Loc</th>\n",
       "    </tr>\n",
       "  </thead>\n",
       "  <tbody>\n",
       "    <tr>\n",
       "      <th>0</th>\n",
       "      <td>1</td>\n",
       "      <td>CO</td>\n",
       "      <td>269</td>\n",
       "      <td>SFO</td>\n",
       "      <td>IAH</td>\n",
       "      <td>3</td>\n",
       "      <td>0.25</td>\n",
       "      <td>3.42</td>\n",
       "      <td>1</td>\n",
       "      <td>Mañana</td>\n",
       "      <td>&gt;= 2.71</td>\n",
       "      <td>SFO - San Francisco International Airport - Ca...</td>\n",
       "      <td>SFO</td>\n",
       "      <td>San Francisco International Airport</td>\n",
       "      <td>California</td>\n",
       "    </tr>\n",
       "    <tr>\n",
       "      <th>1</th>\n",
       "      <td>2</td>\n",
       "      <td>US</td>\n",
       "      <td>1558</td>\n",
       "      <td>PHX</td>\n",
       "      <td>CLT</td>\n",
       "      <td>3</td>\n",
       "      <td>0.25</td>\n",
       "      <td>3.70</td>\n",
       "      <td>1</td>\n",
       "      <td>Mañana</td>\n",
       "      <td>&gt;= 2.71</td>\n",
       "      <td>PHX - Phoenix Sky Harbor International Airport...</td>\n",
       "      <td>PHX</td>\n",
       "      <td>Phoenix Sky Harbor International Airport</td>\n",
       "      <td>Arizona</td>\n",
       "    </tr>\n",
       "    <tr>\n",
       "      <th>2</th>\n",
       "      <td>3</td>\n",
       "      <td>AA</td>\n",
       "      <td>2400</td>\n",
       "      <td>LAX</td>\n",
       "      <td>DFW</td>\n",
       "      <td>3</td>\n",
       "      <td>0.33</td>\n",
       "      <td>2.75</td>\n",
       "      <td>1</td>\n",
       "      <td>Mañana</td>\n",
       "      <td>&gt;= 2.71</td>\n",
       "      <td>LAX - Los Angeles International Airport - Cali...</td>\n",
       "      <td>LAX</td>\n",
       "      <td>Los Angeles International Airport</td>\n",
       "      <td>California</td>\n",
       "    </tr>\n",
       "    <tr>\n",
       "      <th>3</th>\n",
       "      <td>4</td>\n",
       "      <td>AA</td>\n",
       "      <td>2466</td>\n",
       "      <td>SFO</td>\n",
       "      <td>DFW</td>\n",
       "      <td>3</td>\n",
       "      <td>0.33</td>\n",
       "      <td>3.25</td>\n",
       "      <td>1</td>\n",
       "      <td>Mañana</td>\n",
       "      <td>&gt;= 2.71</td>\n",
       "      <td>SFO - San Francisco International Airport - Ca...</td>\n",
       "      <td>SFO</td>\n",
       "      <td>San Francisco International Airport</td>\n",
       "      <td>California</td>\n",
       "    </tr>\n",
       "    <tr>\n",
       "      <th>4</th>\n",
       "      <td>5</td>\n",
       "      <td>AS</td>\n",
       "      <td>108</td>\n",
       "      <td>ANC</td>\n",
       "      <td>SEA</td>\n",
       "      <td>3</td>\n",
       "      <td>0.50</td>\n",
       "      <td>3.37</td>\n",
       "      <td>0</td>\n",
       "      <td>Mañana</td>\n",
       "      <td>&gt;= 2.71</td>\n",
       "      <td>NaN</td>\n",
       "      <td>NaN</td>\n",
       "      <td>NaN</td>\n",
       "      <td>NaN</td>\n",
       "    </tr>\n",
       "  </tbody>\n",
       "</table>\n",
       "</div>"
      ],
      "text/plain": [
       "   id Airline  Flight AirportFrom AirportTo  DayOfWeek  Time  Length  Delay  \\\n",
       "0   1      CO     269         SFO       IAH          3  0.25    3.42      1   \n",
       "1   2      US    1558         PHX       CLT          3  0.25    3.70      1   \n",
       "2   3      AA    2400         LAX       DFW          3  0.33    2.75      1   \n",
       "3   4      AA    2466         SFO       DFW          3  0.33    3.25      1   \n",
       "4   5      AS     108         ANC       SEA          3  0.50    3.37      0   \n",
       "\n",
       "  TimeGroups LengthGroups                                            Airport  \\\n",
       "0     Mañana      >= 2.71  SFO - San Francisco International Airport - Ca...   \n",
       "1     Mañana      >= 2.71  PHX - Phoenix Sky Harbor International Airport...   \n",
       "2     Mañana      >= 2.71  LAX - Los Angeles International Airport - Cali...   \n",
       "3     Mañana      >= 2.71  SFO - San Francisco International Airport - Ca...   \n",
       "4     Mañana      >= 2.71                                                NaN   \n",
       "\n",
       "  Cod_Airport                              Desc_Airport         Loc  \n",
       "0         SFO       San Francisco International Airport  California  \n",
       "1         PHX  Phoenix Sky Harbor International Airport     Arizona  \n",
       "2         LAX         Los Angeles International Airport  California  \n",
       "3         SFO       San Francisco International Airport  California  \n",
       "4         NaN                                       NaN         NaN  "
      ]
     },
     "execution_count": 13,
     "metadata": {},
     "output_type": "execute_result"
    }
   ],
   "source": [
    "# Merge Aeropuertos Origen\n",
    "df_air = pd.merge(df_air, df_airport, how='left', left_on='AirportFrom', right_on='Cod_Airport')\n",
    "df_air.head()"
   ]
  },
  {
   "cell_type": "code",
   "execution_count": 14,
   "metadata": {},
   "outputs": [
    {
     "data": {
      "text/html": [
       "<div>\n",
       "<style scoped>\n",
       "    .dataframe tbody tr th:only-of-type {\n",
       "        vertical-align: middle;\n",
       "    }\n",
       "\n",
       "    .dataframe tbody tr th {\n",
       "        vertical-align: top;\n",
       "    }\n",
       "\n",
       "    .dataframe thead th {\n",
       "        text-align: right;\n",
       "    }\n",
       "</style>\n",
       "<table border=\"1\" class=\"dataframe\">\n",
       "  <thead>\n",
       "    <tr style=\"text-align: right;\">\n",
       "      <th></th>\n",
       "      <th>id</th>\n",
       "      <th>Airline</th>\n",
       "      <th>Flight</th>\n",
       "      <th>AirportFrom</th>\n",
       "      <th>AirportTo</th>\n",
       "      <th>DayOfWeek</th>\n",
       "      <th>Time</th>\n",
       "      <th>Length</th>\n",
       "      <th>Delay</th>\n",
       "      <th>TimeGroups</th>\n",
       "      <th>LengthGroups</th>\n",
       "      <th>Airport_From</th>\n",
       "      <th>Cod_AirportFrom</th>\n",
       "      <th>Desc_AirportFrom</th>\n",
       "      <th>Loc_From</th>\n",
       "    </tr>\n",
       "  </thead>\n",
       "  <tbody>\n",
       "    <tr>\n",
       "      <th>0</th>\n",
       "      <td>1</td>\n",
       "      <td>CO</td>\n",
       "      <td>269</td>\n",
       "      <td>SFO</td>\n",
       "      <td>IAH</td>\n",
       "      <td>3</td>\n",
       "      <td>0.25</td>\n",
       "      <td>3.42</td>\n",
       "      <td>1</td>\n",
       "      <td>Mañana</td>\n",
       "      <td>&gt;= 2.71</td>\n",
       "      <td>SFO - San Francisco International Airport - Ca...</td>\n",
       "      <td>SFO</td>\n",
       "      <td>San Francisco International Airport</td>\n",
       "      <td>California</td>\n",
       "    </tr>\n",
       "    <tr>\n",
       "      <th>1</th>\n",
       "      <td>2</td>\n",
       "      <td>US</td>\n",
       "      <td>1558</td>\n",
       "      <td>PHX</td>\n",
       "      <td>CLT</td>\n",
       "      <td>3</td>\n",
       "      <td>0.25</td>\n",
       "      <td>3.70</td>\n",
       "      <td>1</td>\n",
       "      <td>Mañana</td>\n",
       "      <td>&gt;= 2.71</td>\n",
       "      <td>PHX - Phoenix Sky Harbor International Airport...</td>\n",
       "      <td>PHX</td>\n",
       "      <td>Phoenix Sky Harbor International Airport</td>\n",
       "      <td>Arizona</td>\n",
       "    </tr>\n",
       "    <tr>\n",
       "      <th>2</th>\n",
       "      <td>3</td>\n",
       "      <td>AA</td>\n",
       "      <td>2400</td>\n",
       "      <td>LAX</td>\n",
       "      <td>DFW</td>\n",
       "      <td>3</td>\n",
       "      <td>0.33</td>\n",
       "      <td>2.75</td>\n",
       "      <td>1</td>\n",
       "      <td>Mañana</td>\n",
       "      <td>&gt;= 2.71</td>\n",
       "      <td>LAX - Los Angeles International Airport - Cali...</td>\n",
       "      <td>LAX</td>\n",
       "      <td>Los Angeles International Airport</td>\n",
       "      <td>California</td>\n",
       "    </tr>\n",
       "    <tr>\n",
       "      <th>3</th>\n",
       "      <td>4</td>\n",
       "      <td>AA</td>\n",
       "      <td>2466</td>\n",
       "      <td>SFO</td>\n",
       "      <td>DFW</td>\n",
       "      <td>3</td>\n",
       "      <td>0.33</td>\n",
       "      <td>3.25</td>\n",
       "      <td>1</td>\n",
       "      <td>Mañana</td>\n",
       "      <td>&gt;= 2.71</td>\n",
       "      <td>SFO - San Francisco International Airport - Ca...</td>\n",
       "      <td>SFO</td>\n",
       "      <td>San Francisco International Airport</td>\n",
       "      <td>California</td>\n",
       "    </tr>\n",
       "    <tr>\n",
       "      <th>4</th>\n",
       "      <td>5</td>\n",
       "      <td>AS</td>\n",
       "      <td>108</td>\n",
       "      <td>ANC</td>\n",
       "      <td>SEA</td>\n",
       "      <td>3</td>\n",
       "      <td>0.50</td>\n",
       "      <td>3.37</td>\n",
       "      <td>0</td>\n",
       "      <td>Mañana</td>\n",
       "      <td>&gt;= 2.71</td>\n",
       "      <td>NaN</td>\n",
       "      <td>NaN</td>\n",
       "      <td>NaN</td>\n",
       "      <td>NaN</td>\n",
       "    </tr>\n",
       "  </tbody>\n",
       "</table>\n",
       "</div>"
      ],
      "text/plain": [
       "   id Airline  Flight AirportFrom AirportTo  DayOfWeek  Time  Length  Delay  \\\n",
       "0   1      CO     269         SFO       IAH          3  0.25    3.42      1   \n",
       "1   2      US    1558         PHX       CLT          3  0.25    3.70      1   \n",
       "2   3      AA    2400         LAX       DFW          3  0.33    2.75      1   \n",
       "3   4      AA    2466         SFO       DFW          3  0.33    3.25      1   \n",
       "4   5      AS     108         ANC       SEA          3  0.50    3.37      0   \n",
       "\n",
       "  TimeGroups LengthGroups                                       Airport_From  \\\n",
       "0     Mañana      >= 2.71  SFO - San Francisco International Airport - Ca...   \n",
       "1     Mañana      >= 2.71  PHX - Phoenix Sky Harbor International Airport...   \n",
       "2     Mañana      >= 2.71  LAX - Los Angeles International Airport - Cali...   \n",
       "3     Mañana      >= 2.71  SFO - San Francisco International Airport - Ca...   \n",
       "4     Mañana      >= 2.71                                                NaN   \n",
       "\n",
       "  Cod_AirportFrom                          Desc_AirportFrom    Loc_From  \n",
       "0             SFO       San Francisco International Airport  California  \n",
       "1             PHX  Phoenix Sky Harbor International Airport     Arizona  \n",
       "2             LAX         Los Angeles International Airport  California  \n",
       "3             SFO       San Francisco International Airport  California  \n",
       "4             NaN                                       NaN         NaN  "
      ]
     },
     "execution_count": 14,
     "metadata": {},
     "output_type": "execute_result"
    }
   ],
   "source": [
    "# Renombramos columnas\n",
    "df_air.rename(columns={\"Airport\":\"Airport_From\", \"Cod_Airport\":\"Cod_AirportFrom\", \"Desc_Airport\":\"Desc_AirportFrom\", \"Loc\":\"Loc_From\"}, inplace=True)\n",
    "df_air.head()"
   ]
  },
  {
   "cell_type": "markdown",
   "metadata": {},
   "source": [
    "Merge Aeropuertos Destinos"
   ]
  },
  {
   "cell_type": "code",
   "execution_count": 15,
   "metadata": {},
   "outputs": [
    {
     "data": {
      "text/html": [
       "<div>\n",
       "<style scoped>\n",
       "    .dataframe tbody tr th:only-of-type {\n",
       "        vertical-align: middle;\n",
       "    }\n",
       "\n",
       "    .dataframe tbody tr th {\n",
       "        vertical-align: top;\n",
       "    }\n",
       "\n",
       "    .dataframe thead th {\n",
       "        text-align: right;\n",
       "    }\n",
       "</style>\n",
       "<table border=\"1\" class=\"dataframe\">\n",
       "  <thead>\n",
       "    <tr style=\"text-align: right;\">\n",
       "      <th></th>\n",
       "      <th>id</th>\n",
       "      <th>Airline</th>\n",
       "      <th>Flight</th>\n",
       "      <th>AirportFrom</th>\n",
       "      <th>AirportTo</th>\n",
       "      <th>DayOfWeek</th>\n",
       "      <th>Time</th>\n",
       "      <th>Length</th>\n",
       "      <th>Delay</th>\n",
       "      <th>TimeGroups</th>\n",
       "      <th>LengthGroups</th>\n",
       "      <th>Airport_From</th>\n",
       "      <th>Cod_AirportFrom</th>\n",
       "      <th>Desc_AirportFrom</th>\n",
       "      <th>Loc_From</th>\n",
       "      <th>Airport</th>\n",
       "      <th>Cod_Airport</th>\n",
       "      <th>Desc_Airport</th>\n",
       "      <th>Loc</th>\n",
       "    </tr>\n",
       "  </thead>\n",
       "  <tbody>\n",
       "    <tr>\n",
       "      <th>0</th>\n",
       "      <td>1</td>\n",
       "      <td>CO</td>\n",
       "      <td>269</td>\n",
       "      <td>SFO</td>\n",
       "      <td>IAH</td>\n",
       "      <td>3</td>\n",
       "      <td>0.25</td>\n",
       "      <td>3.42</td>\n",
       "      <td>1</td>\n",
       "      <td>Mañana</td>\n",
       "      <td>&gt;= 2.71</td>\n",
       "      <td>SFO - San Francisco International Airport - Ca...</td>\n",
       "      <td>SFO</td>\n",
       "      <td>San Francisco International Airport</td>\n",
       "      <td>California</td>\n",
       "      <td>IAH - George Bush Intercontinental Airport - H...</td>\n",
       "      <td>IAH</td>\n",
       "      <td>George Bush Intercontinental Airport</td>\n",
       "      <td>Houston, Texas</td>\n",
       "    </tr>\n",
       "    <tr>\n",
       "      <th>1</th>\n",
       "      <td>2</td>\n",
       "      <td>US</td>\n",
       "      <td>1558</td>\n",
       "      <td>PHX</td>\n",
       "      <td>CLT</td>\n",
       "      <td>3</td>\n",
       "      <td>0.25</td>\n",
       "      <td>3.70</td>\n",
       "      <td>1</td>\n",
       "      <td>Mañana</td>\n",
       "      <td>&gt;= 2.71</td>\n",
       "      <td>PHX - Phoenix Sky Harbor International Airport...</td>\n",
       "      <td>PHX</td>\n",
       "      <td>Phoenix Sky Harbor International Airport</td>\n",
       "      <td>Arizona</td>\n",
       "      <td>CLT - Charlotte Douglas International Airport ...</td>\n",
       "      <td>CLT</td>\n",
       "      <td>Charlotte Douglas International Airport</td>\n",
       "      <td>North Carolina</td>\n",
       "    </tr>\n",
       "    <tr>\n",
       "      <th>2</th>\n",
       "      <td>3</td>\n",
       "      <td>AA</td>\n",
       "      <td>2400</td>\n",
       "      <td>LAX</td>\n",
       "      <td>DFW</td>\n",
       "      <td>3</td>\n",
       "      <td>0.33</td>\n",
       "      <td>2.75</td>\n",
       "      <td>1</td>\n",
       "      <td>Mañana</td>\n",
       "      <td>&gt;= 2.71</td>\n",
       "      <td>LAX - Los Angeles International Airport - Cali...</td>\n",
       "      <td>LAX</td>\n",
       "      <td>Los Angeles International Airport</td>\n",
       "      <td>California</td>\n",
       "      <td>DFW - Dallas/Fort Worth International Airport ...</td>\n",
       "      <td>DFW</td>\n",
       "      <td>Dallas/Fort Worth International Airport</td>\n",
       "      <td>Texas</td>\n",
       "    </tr>\n",
       "    <tr>\n",
       "      <th>3</th>\n",
       "      <td>4</td>\n",
       "      <td>AA</td>\n",
       "      <td>2466</td>\n",
       "      <td>SFO</td>\n",
       "      <td>DFW</td>\n",
       "      <td>3</td>\n",
       "      <td>0.33</td>\n",
       "      <td>3.25</td>\n",
       "      <td>1</td>\n",
       "      <td>Mañana</td>\n",
       "      <td>&gt;= 2.71</td>\n",
       "      <td>SFO - San Francisco International Airport - Ca...</td>\n",
       "      <td>SFO</td>\n",
       "      <td>San Francisco International Airport</td>\n",
       "      <td>California</td>\n",
       "      <td>DFW - Dallas/Fort Worth International Airport ...</td>\n",
       "      <td>DFW</td>\n",
       "      <td>Dallas/Fort Worth International Airport</td>\n",
       "      <td>Texas</td>\n",
       "    </tr>\n",
       "    <tr>\n",
       "      <th>4</th>\n",
       "      <td>5</td>\n",
       "      <td>AS</td>\n",
       "      <td>108</td>\n",
       "      <td>ANC</td>\n",
       "      <td>SEA</td>\n",
       "      <td>3</td>\n",
       "      <td>0.50</td>\n",
       "      <td>3.37</td>\n",
       "      <td>0</td>\n",
       "      <td>Mañana</td>\n",
       "      <td>&gt;= 2.71</td>\n",
       "      <td>NaN</td>\n",
       "      <td>NaN</td>\n",
       "      <td>NaN</td>\n",
       "      <td>NaN</td>\n",
       "      <td>SEA - Seattle–Tacoma International Airport - W...</td>\n",
       "      <td>SEA</td>\n",
       "      <td>Seattle–Tacoma International Airport</td>\n",
       "      <td>Washington</td>\n",
       "    </tr>\n",
       "  </tbody>\n",
       "</table>\n",
       "</div>"
      ],
      "text/plain": [
       "   id Airline  Flight AirportFrom AirportTo  DayOfWeek  Time  Length  Delay  \\\n",
       "0   1      CO     269         SFO       IAH          3  0.25    3.42      1   \n",
       "1   2      US    1558         PHX       CLT          3  0.25    3.70      1   \n",
       "2   3      AA    2400         LAX       DFW          3  0.33    2.75      1   \n",
       "3   4      AA    2466         SFO       DFW          3  0.33    3.25      1   \n",
       "4   5      AS     108         ANC       SEA          3  0.50    3.37      0   \n",
       "\n",
       "  TimeGroups LengthGroups                                       Airport_From  \\\n",
       "0     Mañana      >= 2.71  SFO - San Francisco International Airport - Ca...   \n",
       "1     Mañana      >= 2.71  PHX - Phoenix Sky Harbor International Airport...   \n",
       "2     Mañana      >= 2.71  LAX - Los Angeles International Airport - Cali...   \n",
       "3     Mañana      >= 2.71  SFO - San Francisco International Airport - Ca...   \n",
       "4     Mañana      >= 2.71                                                NaN   \n",
       "\n",
       "  Cod_AirportFrom                          Desc_AirportFrom    Loc_From  \\\n",
       "0             SFO       San Francisco International Airport  California   \n",
       "1             PHX  Phoenix Sky Harbor International Airport     Arizona   \n",
       "2             LAX         Los Angeles International Airport  California   \n",
       "3             SFO       San Francisco International Airport  California   \n",
       "4             NaN                                       NaN         NaN   \n",
       "\n",
       "                                             Airport Cod_Airport  \\\n",
       "0  IAH - George Bush Intercontinental Airport - H...         IAH   \n",
       "1  CLT - Charlotte Douglas International Airport ...         CLT   \n",
       "2  DFW - Dallas/Fort Worth International Airport ...         DFW   \n",
       "3  DFW - Dallas/Fort Worth International Airport ...         DFW   \n",
       "4  SEA - Seattle–Tacoma International Airport - W...         SEA   \n",
       "\n",
       "                              Desc_Airport             Loc  \n",
       "0     George Bush Intercontinental Airport  Houston, Texas  \n",
       "1  Charlotte Douglas International Airport  North Carolina  \n",
       "2  Dallas/Fort Worth International Airport           Texas  \n",
       "3  Dallas/Fort Worth International Airport           Texas  \n",
       "4     Seattle–Tacoma International Airport      Washington  "
      ]
     },
     "execution_count": 15,
     "metadata": {},
     "output_type": "execute_result"
    }
   ],
   "source": [
    "# Merge Aeropuertos Destinos\n",
    "df_air = pd.merge(df_air, df_airport, how='left', left_on='AirportTo', right_on='Cod_Airport')\n",
    "df_air.head()"
   ]
  },
  {
   "cell_type": "code",
   "execution_count": 16,
   "metadata": {},
   "outputs": [
    {
     "data": {
      "text/html": [
       "<div>\n",
       "<style scoped>\n",
       "    .dataframe tbody tr th:only-of-type {\n",
       "        vertical-align: middle;\n",
       "    }\n",
       "\n",
       "    .dataframe tbody tr th {\n",
       "        vertical-align: top;\n",
       "    }\n",
       "\n",
       "    .dataframe thead th {\n",
       "        text-align: right;\n",
       "    }\n",
       "</style>\n",
       "<table border=\"1\" class=\"dataframe\">\n",
       "  <thead>\n",
       "    <tr style=\"text-align: right;\">\n",
       "      <th></th>\n",
       "      <th>id</th>\n",
       "      <th>Airline</th>\n",
       "      <th>Flight</th>\n",
       "      <th>AirportFrom</th>\n",
       "      <th>AirportTo</th>\n",
       "      <th>DayOfWeek</th>\n",
       "      <th>Time</th>\n",
       "      <th>Length</th>\n",
       "      <th>Delay</th>\n",
       "      <th>TimeGroups</th>\n",
       "      <th>LengthGroups</th>\n",
       "      <th>Airport_From</th>\n",
       "      <th>Cod_AirportFrom</th>\n",
       "      <th>Desc_AirportFrom</th>\n",
       "      <th>Loc_From</th>\n",
       "      <th>Airport_To</th>\n",
       "      <th>Cod_AirportTo</th>\n",
       "      <th>Desc_AirportTo</th>\n",
       "      <th>Loc_To</th>\n",
       "    </tr>\n",
       "  </thead>\n",
       "  <tbody>\n",
       "    <tr>\n",
       "      <th>0</th>\n",
       "      <td>1</td>\n",
       "      <td>CO</td>\n",
       "      <td>269</td>\n",
       "      <td>SFO</td>\n",
       "      <td>IAH</td>\n",
       "      <td>3</td>\n",
       "      <td>0.25</td>\n",
       "      <td>3.42</td>\n",
       "      <td>1</td>\n",
       "      <td>Mañana</td>\n",
       "      <td>&gt;= 2.71</td>\n",
       "      <td>SFO - San Francisco International Airport - Ca...</td>\n",
       "      <td>SFO</td>\n",
       "      <td>San Francisco International Airport</td>\n",
       "      <td>California</td>\n",
       "      <td>IAH - George Bush Intercontinental Airport - H...</td>\n",
       "      <td>IAH</td>\n",
       "      <td>George Bush Intercontinental Airport</td>\n",
       "      <td>Houston, Texas</td>\n",
       "    </tr>\n",
       "    <tr>\n",
       "      <th>1</th>\n",
       "      <td>2</td>\n",
       "      <td>US</td>\n",
       "      <td>1558</td>\n",
       "      <td>PHX</td>\n",
       "      <td>CLT</td>\n",
       "      <td>3</td>\n",
       "      <td>0.25</td>\n",
       "      <td>3.70</td>\n",
       "      <td>1</td>\n",
       "      <td>Mañana</td>\n",
       "      <td>&gt;= 2.71</td>\n",
       "      <td>PHX - Phoenix Sky Harbor International Airport...</td>\n",
       "      <td>PHX</td>\n",
       "      <td>Phoenix Sky Harbor International Airport</td>\n",
       "      <td>Arizona</td>\n",
       "      <td>CLT - Charlotte Douglas International Airport ...</td>\n",
       "      <td>CLT</td>\n",
       "      <td>Charlotte Douglas International Airport</td>\n",
       "      <td>North Carolina</td>\n",
       "    </tr>\n",
       "    <tr>\n",
       "      <th>2</th>\n",
       "      <td>3</td>\n",
       "      <td>AA</td>\n",
       "      <td>2400</td>\n",
       "      <td>LAX</td>\n",
       "      <td>DFW</td>\n",
       "      <td>3</td>\n",
       "      <td>0.33</td>\n",
       "      <td>2.75</td>\n",
       "      <td>1</td>\n",
       "      <td>Mañana</td>\n",
       "      <td>&gt;= 2.71</td>\n",
       "      <td>LAX - Los Angeles International Airport - Cali...</td>\n",
       "      <td>LAX</td>\n",
       "      <td>Los Angeles International Airport</td>\n",
       "      <td>California</td>\n",
       "      <td>DFW - Dallas/Fort Worth International Airport ...</td>\n",
       "      <td>DFW</td>\n",
       "      <td>Dallas/Fort Worth International Airport</td>\n",
       "      <td>Texas</td>\n",
       "    </tr>\n",
       "    <tr>\n",
       "      <th>3</th>\n",
       "      <td>4</td>\n",
       "      <td>AA</td>\n",
       "      <td>2466</td>\n",
       "      <td>SFO</td>\n",
       "      <td>DFW</td>\n",
       "      <td>3</td>\n",
       "      <td>0.33</td>\n",
       "      <td>3.25</td>\n",
       "      <td>1</td>\n",
       "      <td>Mañana</td>\n",
       "      <td>&gt;= 2.71</td>\n",
       "      <td>SFO - San Francisco International Airport - Ca...</td>\n",
       "      <td>SFO</td>\n",
       "      <td>San Francisco International Airport</td>\n",
       "      <td>California</td>\n",
       "      <td>DFW - Dallas/Fort Worth International Airport ...</td>\n",
       "      <td>DFW</td>\n",
       "      <td>Dallas/Fort Worth International Airport</td>\n",
       "      <td>Texas</td>\n",
       "    </tr>\n",
       "    <tr>\n",
       "      <th>4</th>\n",
       "      <td>5</td>\n",
       "      <td>AS</td>\n",
       "      <td>108</td>\n",
       "      <td>ANC</td>\n",
       "      <td>SEA</td>\n",
       "      <td>3</td>\n",
       "      <td>0.50</td>\n",
       "      <td>3.37</td>\n",
       "      <td>0</td>\n",
       "      <td>Mañana</td>\n",
       "      <td>&gt;= 2.71</td>\n",
       "      <td>NaN</td>\n",
       "      <td>NaN</td>\n",
       "      <td>NaN</td>\n",
       "      <td>NaN</td>\n",
       "      <td>SEA - Seattle–Tacoma International Airport - W...</td>\n",
       "      <td>SEA</td>\n",
       "      <td>Seattle–Tacoma International Airport</td>\n",
       "      <td>Washington</td>\n",
       "    </tr>\n",
       "  </tbody>\n",
       "</table>\n",
       "</div>"
      ],
      "text/plain": [
       "   id Airline  Flight AirportFrom AirportTo  DayOfWeek  Time  Length  Delay  \\\n",
       "0   1      CO     269         SFO       IAH          3  0.25    3.42      1   \n",
       "1   2      US    1558         PHX       CLT          3  0.25    3.70      1   \n",
       "2   3      AA    2400         LAX       DFW          3  0.33    2.75      1   \n",
       "3   4      AA    2466         SFO       DFW          3  0.33    3.25      1   \n",
       "4   5      AS     108         ANC       SEA          3  0.50    3.37      0   \n",
       "\n",
       "  TimeGroups LengthGroups                                       Airport_From  \\\n",
       "0     Mañana      >= 2.71  SFO - San Francisco International Airport - Ca...   \n",
       "1     Mañana      >= 2.71  PHX - Phoenix Sky Harbor International Airport...   \n",
       "2     Mañana      >= 2.71  LAX - Los Angeles International Airport - Cali...   \n",
       "3     Mañana      >= 2.71  SFO - San Francisco International Airport - Ca...   \n",
       "4     Mañana      >= 2.71                                                NaN   \n",
       "\n",
       "  Cod_AirportFrom                          Desc_AirportFrom    Loc_From  \\\n",
       "0             SFO       San Francisco International Airport  California   \n",
       "1             PHX  Phoenix Sky Harbor International Airport     Arizona   \n",
       "2             LAX         Los Angeles International Airport  California   \n",
       "3             SFO       San Francisco International Airport  California   \n",
       "4             NaN                                       NaN         NaN   \n",
       "\n",
       "                                          Airport_To Cod_AirportTo  \\\n",
       "0  IAH - George Bush Intercontinental Airport - H...           IAH   \n",
       "1  CLT - Charlotte Douglas International Airport ...           CLT   \n",
       "2  DFW - Dallas/Fort Worth International Airport ...           DFW   \n",
       "3  DFW - Dallas/Fort Worth International Airport ...           DFW   \n",
       "4  SEA - Seattle–Tacoma International Airport - W...           SEA   \n",
       "\n",
       "                            Desc_AirportTo          Loc_To  \n",
       "0     George Bush Intercontinental Airport  Houston, Texas  \n",
       "1  Charlotte Douglas International Airport  North Carolina  \n",
       "2  Dallas/Fort Worth International Airport           Texas  \n",
       "3  Dallas/Fort Worth International Airport           Texas  \n",
       "4     Seattle–Tacoma International Airport      Washington  "
      ]
     },
     "execution_count": 16,
     "metadata": {},
     "output_type": "execute_result"
    }
   ],
   "source": [
    "# Renombramos columnas\n",
    "df_air.rename(columns={\"Airport\":\"Airport_To\", \"Cod_Airport\":\"Cod_AirportTo\", \"Desc_Airport\":\"Desc_AirportTo\", \"Loc\":\"Loc_To\"}, inplace=True)\n",
    "df_air.head()"
   ]
  },
  {
   "cell_type": "markdown",
   "metadata": {},
   "source": [
    "Reemplazamos los valores \"NaN\" por \"Other\", valor que va a representar aquellos aeropuestos que no se encontraban en el dataset mergeado.  "
   ]
  },
  {
   "cell_type": "code",
   "execution_count": 17,
   "metadata": {},
   "outputs": [
    {
     "data": {
      "text/html": [
       "<div>\n",
       "<style scoped>\n",
       "    .dataframe tbody tr th:only-of-type {\n",
       "        vertical-align: middle;\n",
       "    }\n",
       "\n",
       "    .dataframe tbody tr th {\n",
       "        vertical-align: top;\n",
       "    }\n",
       "\n",
       "    .dataframe thead th {\n",
       "        text-align: right;\n",
       "    }\n",
       "</style>\n",
       "<table border=\"1\" class=\"dataframe\">\n",
       "  <thead>\n",
       "    <tr style=\"text-align: right;\">\n",
       "      <th></th>\n",
       "      <th>id</th>\n",
       "      <th>Airline</th>\n",
       "      <th>Flight</th>\n",
       "      <th>AirportFrom</th>\n",
       "      <th>AirportTo</th>\n",
       "      <th>DayOfWeek</th>\n",
       "      <th>Time</th>\n",
       "      <th>Length</th>\n",
       "      <th>Delay</th>\n",
       "      <th>TimeGroups</th>\n",
       "      <th>LengthGroups</th>\n",
       "      <th>Airport_From</th>\n",
       "      <th>Cod_AirportFrom</th>\n",
       "      <th>Desc_AirportFrom</th>\n",
       "      <th>Loc_From</th>\n",
       "      <th>Airport_To</th>\n",
       "      <th>Cod_AirportTo</th>\n",
       "      <th>Desc_AirportTo</th>\n",
       "      <th>Loc_To</th>\n",
       "    </tr>\n",
       "  </thead>\n",
       "  <tbody>\n",
       "    <tr>\n",
       "      <th>0</th>\n",
       "      <td>1</td>\n",
       "      <td>CO</td>\n",
       "      <td>269</td>\n",
       "      <td>SFO</td>\n",
       "      <td>IAH</td>\n",
       "      <td>3</td>\n",
       "      <td>0.25</td>\n",
       "      <td>3.42</td>\n",
       "      <td>1</td>\n",
       "      <td>Mañana</td>\n",
       "      <td>&gt;= 2.71</td>\n",
       "      <td>SFO - San Francisco International Airport - Ca...</td>\n",
       "      <td>SFO</td>\n",
       "      <td>San Francisco International Airport</td>\n",
       "      <td>California</td>\n",
       "      <td>IAH - George Bush Intercontinental Airport - H...</td>\n",
       "      <td>IAH</td>\n",
       "      <td>George Bush Intercontinental Airport</td>\n",
       "      <td>Houston, Texas</td>\n",
       "    </tr>\n",
       "    <tr>\n",
       "      <th>1</th>\n",
       "      <td>2</td>\n",
       "      <td>US</td>\n",
       "      <td>1558</td>\n",
       "      <td>PHX</td>\n",
       "      <td>CLT</td>\n",
       "      <td>3</td>\n",
       "      <td>0.25</td>\n",
       "      <td>3.70</td>\n",
       "      <td>1</td>\n",
       "      <td>Mañana</td>\n",
       "      <td>&gt;= 2.71</td>\n",
       "      <td>PHX - Phoenix Sky Harbor International Airport...</td>\n",
       "      <td>PHX</td>\n",
       "      <td>Phoenix Sky Harbor International Airport</td>\n",
       "      <td>Arizona</td>\n",
       "      <td>CLT - Charlotte Douglas International Airport ...</td>\n",
       "      <td>CLT</td>\n",
       "      <td>Charlotte Douglas International Airport</td>\n",
       "      <td>North Carolina</td>\n",
       "    </tr>\n",
       "    <tr>\n",
       "      <th>2</th>\n",
       "      <td>3</td>\n",
       "      <td>AA</td>\n",
       "      <td>2400</td>\n",
       "      <td>LAX</td>\n",
       "      <td>DFW</td>\n",
       "      <td>3</td>\n",
       "      <td>0.33</td>\n",
       "      <td>2.75</td>\n",
       "      <td>1</td>\n",
       "      <td>Mañana</td>\n",
       "      <td>&gt;= 2.71</td>\n",
       "      <td>LAX - Los Angeles International Airport - Cali...</td>\n",
       "      <td>LAX</td>\n",
       "      <td>Los Angeles International Airport</td>\n",
       "      <td>California</td>\n",
       "      <td>DFW - Dallas/Fort Worth International Airport ...</td>\n",
       "      <td>DFW</td>\n",
       "      <td>Dallas/Fort Worth International Airport</td>\n",
       "      <td>Texas</td>\n",
       "    </tr>\n",
       "    <tr>\n",
       "      <th>3</th>\n",
       "      <td>4</td>\n",
       "      <td>AA</td>\n",
       "      <td>2466</td>\n",
       "      <td>SFO</td>\n",
       "      <td>DFW</td>\n",
       "      <td>3</td>\n",
       "      <td>0.33</td>\n",
       "      <td>3.25</td>\n",
       "      <td>1</td>\n",
       "      <td>Mañana</td>\n",
       "      <td>&gt;= 2.71</td>\n",
       "      <td>SFO - San Francisco International Airport - Ca...</td>\n",
       "      <td>SFO</td>\n",
       "      <td>San Francisco International Airport</td>\n",
       "      <td>California</td>\n",
       "      <td>DFW - Dallas/Fort Worth International Airport ...</td>\n",
       "      <td>DFW</td>\n",
       "      <td>Dallas/Fort Worth International Airport</td>\n",
       "      <td>Texas</td>\n",
       "    </tr>\n",
       "    <tr>\n",
       "      <th>4</th>\n",
       "      <td>5</td>\n",
       "      <td>AS</td>\n",
       "      <td>108</td>\n",
       "      <td>ANC</td>\n",
       "      <td>SEA</td>\n",
       "      <td>3</td>\n",
       "      <td>0.50</td>\n",
       "      <td>3.37</td>\n",
       "      <td>0</td>\n",
       "      <td>Mañana</td>\n",
       "      <td>&gt;= 2.71</td>\n",
       "      <td>NaN</td>\n",
       "      <td>Other</td>\n",
       "      <td>NaN</td>\n",
       "      <td>Other</td>\n",
       "      <td>SEA - Seattle–Tacoma International Airport - W...</td>\n",
       "      <td>SEA</td>\n",
       "      <td>Seattle–Tacoma International Airport</td>\n",
       "      <td>Washington</td>\n",
       "    </tr>\n",
       "  </tbody>\n",
       "</table>\n",
       "</div>"
      ],
      "text/plain": [
       "   id Airline  Flight AirportFrom AirportTo  DayOfWeek  Time  Length  Delay  \\\n",
       "0   1      CO     269         SFO       IAH          3  0.25    3.42      1   \n",
       "1   2      US    1558         PHX       CLT          3  0.25    3.70      1   \n",
       "2   3      AA    2400         LAX       DFW          3  0.33    2.75      1   \n",
       "3   4      AA    2466         SFO       DFW          3  0.33    3.25      1   \n",
       "4   5      AS     108         ANC       SEA          3  0.50    3.37      0   \n",
       "\n",
       "  TimeGroups LengthGroups                                       Airport_From  \\\n",
       "0     Mañana      >= 2.71  SFO - San Francisco International Airport - Ca...   \n",
       "1     Mañana      >= 2.71  PHX - Phoenix Sky Harbor International Airport...   \n",
       "2     Mañana      >= 2.71  LAX - Los Angeles International Airport - Cali...   \n",
       "3     Mañana      >= 2.71  SFO - San Francisco International Airport - Ca...   \n",
       "4     Mañana      >= 2.71                                                NaN   \n",
       "\n",
       "  Cod_AirportFrom                          Desc_AirportFrom    Loc_From  \\\n",
       "0             SFO       San Francisco International Airport  California   \n",
       "1             PHX  Phoenix Sky Harbor International Airport     Arizona   \n",
       "2             LAX         Los Angeles International Airport  California   \n",
       "3             SFO       San Francisco International Airport  California   \n",
       "4           Other                                       NaN       Other   \n",
       "\n",
       "                                          Airport_To Cod_AirportTo  \\\n",
       "0  IAH - George Bush Intercontinental Airport - H...           IAH   \n",
       "1  CLT - Charlotte Douglas International Airport ...           CLT   \n",
       "2  DFW - Dallas/Fort Worth International Airport ...           DFW   \n",
       "3  DFW - Dallas/Fort Worth International Airport ...           DFW   \n",
       "4  SEA - Seattle–Tacoma International Airport - W...           SEA   \n",
       "\n",
       "                            Desc_AirportTo          Loc_To  \n",
       "0     George Bush Intercontinental Airport  Houston, Texas  \n",
       "1  Charlotte Douglas International Airport  North Carolina  \n",
       "2  Dallas/Fort Worth International Airport           Texas  \n",
       "3  Dallas/Fort Worth International Airport           Texas  \n",
       "4     Seattle–Tacoma International Airport      Washington  "
      ]
     },
     "execution_count": 17,
     "metadata": {},
     "output_type": "execute_result"
    }
   ],
   "source": [
    "df_air['Cod_AirportFrom'].fillna(\"Other\", inplace=True)\n",
    "df_air['Cod_AirportTo'].fillna(\"Other\", inplace=True)\n",
    "df_air['Loc_From'].fillna(\"Other\", inplace=True)\n",
    "df_air['Loc_To'].fillna(\"Other\", inplace=True)\n",
    "\n",
    "df_air.head()"
   ]
  },
  {
   "cell_type": "markdown",
   "metadata": {},
   "source": [
    "#### 2.2 Análisis Univariado"
   ]
  },
  {
   "cell_type": "code",
   "execution_count": 18,
   "metadata": {},
   "outputs": [
    {
     "name": "stdout",
     "output_type": "stream",
     "text": [
      "6585\n"
     ]
    }
   ],
   "source": [
    "# Analisis de Vuelos\n",
    "un_flight = df_air['Flight'].unique()\n",
    "print(len(un_flight))"
   ]
  },
  {
   "cell_type": "markdown",
   "metadata": {},
   "source": [
    "El dataset cuenta con 6585 vuelos unicos"
   ]
  },
  {
   "cell_type": "code",
   "execution_count": 19,
   "metadata": {},
   "outputs": [
    {
     "data": {
      "image/png": "[encoded data removed]",
      "text/plain": [
       "<Figure size 432x288 with 1 Axes>"
      ]
     },
     "metadata": {
      "needs_background": "light"
     },
     "output_type": "display_data"
    }
   ],
   "source": [
    "# Analisis Días de la semana\n",
    "fig, ax = plt.subplots()\n",
    "ax = sns.countplot(x='DayOfWeek', data=df_air)\n",
    "ax.set(title='Distribución de vuelos por día de la semana')\n",
    "plt.show()"
   ]
  },
  {
   "cell_type": "markdown",
   "metadata": {},
   "source": [
    "En esta visualización podemos ver como el día 6 (sábado) y 7 (domingo) son los días que menos vuelos tienen, lo que tiene sentido ya que no son días que se suela viajar para vacacionar, o de forma empresarial.\n",
    "Como segundo grupo esta el día 1 (lunes) y 2 (martes) y el grupo con mayor cantidad de vuelos se encuentra en la mitad de la semana con los días 3 (miercoles), 4 (jueves) y 5 (viernes)."
   ]
  },
  {
   "cell_type": "code",
   "execution_count": 20,
   "metadata": {},
   "outputs": [
    {
     "data": {
      "image/png": "[encoded data removed]",
      "text/plain": [
       "<Figure size 936x288 with 1 Axes>"
      ]
     },
     "metadata": {
      "needs_background": "light"
     },
     "output_type": "display_data"
    }
   ],
   "source": [
    "# Analisis Aerolineas\n",
    "plt.figure(figsize=(13, 4))\n",
    "sns.countplot(x='Airline', data=df_air, order = df_air.Airline.value_counts().index)\n",
    "plt.title('Distribución de vuelos por Aerolineas Comerciales')\n",
    "plt.show()"
   ]
  },
  {
   "cell_type": "markdown",
   "metadata": {},
   "source": [
    "En esta visualización podemos ver las aerolíneas que más vuelos tienen de forma decreciente."
   ]
  },
  {
   "cell_type": "markdown",
   "metadata": {},
   "source": [
    "**Diccionario de Aerolineas (según fuente de origen en KAGGLE):**\n",
    "- Alaska Airlines AS / ASA\n",
    "- American Airlines AA/AAL\n",
    "- Air Canada AC/AC\n",
    "- Aeromexico AM / AMX\n",
    "- Continental Airlines CO / COA\n",
    "- Delta Airlines DL / DAL\n",
    "- FedEx FX / FDX\n",
    "- Hawaiian Airlines HA / HAL\n",
    "- Northwest Airlines NW / NWA\n",
    "- Polar Air Cargo PO / PAC\n",
    "- Southwest Airlines SW / SWA\n",
    "- United Airlines UA / UAL\n",
    "- United Parcel (UPS) 5X / UPS\n",
    "- Virgin Atlantic VS / VIR\n",
    "- VivaAerobús VB / VIV\n",
    "- WestJet WS / WJ"
   ]
  },
  {
   "cell_type": "code",
   "execution_count": 21,
   "metadata": {},
   "outputs": [
    {
     "data": {
      "text/plain": [
       "<AxesSubplot:>"
      ]
     },
     "execution_count": 21,
     "metadata": {},
     "output_type": "execute_result"
    },
    {
     "data": {
      "image/png": "[encoded data removed]",
      "text/plain": [
       "<Figure size 432x288 with 1 Axes>"
      ]
     },
     "metadata": {
      "needs_background": "light"
     },
     "output_type": "display_data"
    }
   ],
   "source": [
    "# Análisis de Distancia\n",
    "df_air['Length'].value_counts().sort_index().plot.area()"
   ]
  },
  {
   "cell_type": "code",
   "execution_count": 22,
   "metadata": {},
   "outputs": [
    {
     "data": {
      "text/plain": [
       "<seaborn.axisgrid.FacetGrid at 0x206e8353848>"
      ]
     },
     "execution_count": 22,
     "metadata": {},
     "output_type": "execute_result"
    },
    {
     "data": {
      "image/png": "[encoded data removed]",
      "text/plain": [
       "<Figure size 360x360 with 1 Axes>"
      ]
     },
     "metadata": {
      "needs_background": "light"
     },
     "output_type": "display_data"
    }
   ],
   "source": [
    "sns.displot(x='Length', data=df_air, kind=\"kde\")"
   ]
  },
  {
   "cell_type": "markdown",
   "metadata": {},
   "source": [
    "La variable 'Length' cuenta con una distribución \"Asimétrica hacia la izquierda\".\n",
    "A su vez, evidencia que la duración de los vuelos se concentraron entre 0.5 y 3 horas. Con un valor mínimo de 0 y un máximo de 10.92. \n",
    "En total, 4 registros contaban con una duración igual a cero, por lo que decidimos excluirlos del análisis."
   ]
  },
  {
   "cell_type": "code",
   "execution_count": 23,
   "metadata": {},
   "outputs": [
    {
     "data": {
      "image/png": "[encoded data removed]",
      "text/plain": [
       "<Figure size 432x288 with 1 Axes>"
      ]
     },
     "metadata": {},
     "output_type": "display_data"
    }
   ],
   "source": [
    "# Distribucion de agrupacián de Duración\n",
    "lgroup = df_air['LengthGroups'].value_counts()\n",
    "plt.pie(lgroup, autopct='%1.1f%%', \n",
    "       wedgeprops={\"linewidth\": 3, \"edgecolor\": \"white\"}, \n",
    "        labels=lgroup.index)\n",
    "plt.show()"
   ]
  },
  {
   "cell_type": "markdown",
   "metadata": {},
   "source": [
    "La distribución de la cantidad de vuelos, en base a la duración, es bastante equitativa a lo largo de las 4 agrupaciones realizadas."
   ]
  },
  {
   "cell_type": "code",
   "execution_count": 24,
   "metadata": {},
   "outputs": [
    {
     "data": {
      "image/png": "[encoded data removed]",
      "text/plain": [
       "<Figure size 432x288 with 1 Axes>"
      ]
     },
     "metadata": {},
     "output_type": "display_data"
    }
   ],
   "source": [
    "# Distribucion de agrupacián de Horario de Partida\n",
    "tgroup = df_air['TimeGroups'].value_counts()\n",
    "plt.pie(tgroup, autopct='%1.1f%%', \n",
    "       wedgeprops={\"linewidth\": 3, \"edgecolor\": \"white\"}, \n",
    "        labels=tgroup.index)\n",
    "plt.show()"
   ]
  },
  {
   "cell_type": "markdown",
   "metadata": {},
   "source": [
    "La distribución de la cantidad de vuelos, en base al horario de partida, es bastante equitativa a lo largo de las 4 agrupaciones realizadas."
   ]
  },
  {
   "cell_type": "markdown",
   "metadata": {},
   "source": [
    "#### 2.3 Correlación de variables"
   ]
  },
  {
   "cell_type": "code",
   "execution_count": 25,
   "metadata": {},
   "outputs": [
    {
     "data": {
      "text/plain": [
       "Index(['id', 'Airline', 'Flight', 'AirportFrom', 'AirportTo', 'DayOfWeek',\n",
       "       'Time', 'Length', 'Delay', 'TimeGroups', 'LengthGroups', 'Airport_From',\n",
       "       'Cod_AirportFrom', 'Desc_AirportFrom', 'Loc_From', 'Airport_To',\n",
       "       'Cod_AirportTo', 'Desc_AirportTo', 'Loc_To'],\n",
       "      dtype='object')"
      ]
     },
     "execution_count": 25,
     "metadata": {},
     "output_type": "execute_result"
    }
   ],
   "source": [
    "df_air.columns"
   ]
  },
  {
   "cell_type": "code",
   "execution_count": 26,
   "metadata": {},
   "outputs": [
    {
     "data": {
      "text/plain": [
       "<AxesSubplot:>"
      ]
     },
     "execution_count": 26,
     "metadata": {},
     "output_type": "execute_result"
    },
    {
     "data": {
      "image/png": "[encoded data removed]",
      "text/plain": [
       "<Figure size 1008x504 with 2 Axes>"
      ]
     },
     "metadata": {
      "needs_background": "light"
     },
     "output_type": "display_data"
    }
   ],
   "source": [
    "correlation = df_air.corr().round(2)\n",
    "cmap = sns.diverging_palette(220, 10, as_cmap=True)\n",
    "plt.figure(figsize = (14,7))\n",
    "sns.heatmap(correlation, annot = True, cmap=cmap, vmax=.3, center=0,\n",
    "            square=True, linewidths=.5, cbar_kws={\"shrink\": .5},fmt =\".3f\")"
   ]
  },
  {
   "cell_type": "markdown",
   "metadata": {},
   "source": [
    "Podemos observar que no hay fuertes correlaciones entre las variables."
   ]
  },
  {
   "cell_type": "markdown",
   "metadata": {},
   "source": [
    "#### 2.4 Estudio de la variable Target --> \"Delay\""
   ]
  },
  {
   "cell_type": "code",
   "execution_count": 27,
   "metadata": {},
   "outputs": [
    {
     "data": {
      "text/plain": [
       "Delay\n",
       "0    299116\n",
       "1    240263\n",
       "Name: id, dtype: int64"
      ]
     },
     "execution_count": 27,
     "metadata": {},
     "output_type": "execute_result"
    }
   ],
   "source": [
    "# Distribución de Retrasos\n",
    "df_air.groupby(['Delay']).count()['id']"
   ]
  },
  {
   "cell_type": "code",
   "execution_count": 28,
   "metadata": {},
   "outputs": [
    {
     "data": {
      "image/png": "[encoded data removed]",
      "text/plain": [
       "<Figure size 432x288 with 1 Axes>"
      ]
     },
     "metadata": {},
     "output_type": "display_data"
    }
   ],
   "source": [
    "Delays = df_air['Delay'].value_counts()\n",
    "plt.pie(Delays, colors=['#BB8FCE', '#7FB3D5'], autopct='%1.1f%%', \n",
    "       wedgeprops={\"linewidth\": 3, \"edgecolor\": \"white\"}, \n",
    "        labels=Delays.index)\n",
    "plt.show()"
   ]
  },
  {
   "cell_type": "markdown",
   "metadata": {},
   "source": [
    "Podemos ver que el 44.5% de los vuelos salieron retrasados."
   ]
  },
  {
   "cell_type": "code",
   "execution_count": 29,
   "metadata": {},
   "outputs": [
    {
     "data": {
      "text/plain": [
       "Delay  Airline\n",
       "0      9E         12460\n",
       "       AA         27920\n",
       "       AS          7579\n",
       "       B6          9653\n",
       "       CO          9161\n",
       "       DL         33488\n",
       "       EV         16728\n",
       "       F9          3554\n",
       "       FL         14552\n",
       "       HA          3792\n",
       "       MQ         23863\n",
       "       OH          9128\n",
       "       OO         27494\n",
       "       UA         18673\n",
       "       US         22909\n",
       "       WN         28440\n",
       "       XE         19331\n",
       "       YV         10391\n",
       "1      9E          8226\n",
       "       AA         17736\n",
       "       AS          3892\n",
       "       B6          8458\n",
       "       CO         11957\n",
       "       DL         27452\n",
       "       EV         11255\n",
       "       F9          2899\n",
       "       FL          6275\n",
       "       HA          1786\n",
       "       MQ         12742\n",
       "       OH          3502\n",
       "       OO         22760\n",
       "       UA          8946\n",
       "       US         11591\n",
       "       WN         65657\n",
       "       XE         11795\n",
       "       YV          3334\n",
       "Name: id, dtype: int64"
      ]
     },
     "execution_count": 29,
     "metadata": {},
     "output_type": "execute_result"
    }
   ],
   "source": [
    "# Delay vs Airline\n",
    "df_air.groupby(['Delay','Airline']).count()['id']"
   ]
  },
  {
   "cell_type": "code",
   "execution_count": 30,
   "metadata": {},
   "outputs": [
    {
     "data": {
      "image/png": "[encoded data removed]",
      "text/plain": [
       "<Figure size 864x432 with 1 Axes>"
      ]
     },
     "metadata": {
      "needs_background": "light"
     },
     "output_type": "display_data"
    }
   ],
   "source": [
    "plt.figure(figsize = (12,6))\n",
    "sns.histplot(data=df_air, x = df_air['Airline'], hue=df_air['Delay'], multiple=\"dodge\", shrink=.8) \n",
    "plt.title('Cantidad de vuelos Con/Sin Retrasos por Aerolineas', fontsize = 14)\n",
    "plt.show()"
   ]
  },
  {
   "cell_type": "markdown",
   "metadata": {},
   "source": [
    "Acá podemos ver que la aerolinea WN si bien es la que mayor cantidad de vuelos realiza, también es la que peor servicio ofrece en cuanto a la puntualidad de los horarios de partida, teniendo más del doble de vuelos retrasados que vuelos puntuales.\n",
    "A su vez, junto con WN, CO es la única otra compañia que tiene más vuelos retrasados que puntuales."
   ]
  },
  {
   "cell_type": "code",
   "execution_count": 31,
   "metadata": {},
   "outputs": [
    {
     "data": {
      "text/plain": [
       "Airline  Delay\n",
       "9E       0        60.23\n",
       "         1        39.77\n",
       "AA       0        61.15\n",
       "         1        38.85\n",
       "AS       0        66.07\n",
       "         1        33.93\n",
       "B6       0        53.30\n",
       "         1        46.70\n",
       "CO       0        43.38\n",
       "         1        56.62\n",
       "DL       0        54.95\n",
       "         1        45.05\n",
       "EV       0        59.78\n",
       "         1        40.22\n",
       "F9       0        55.08\n",
       "         1        44.92\n",
       "FL       0        69.87\n",
       "         1        30.13\n",
       "HA       0        67.98\n",
       "         1        32.02\n",
       "MQ       0        65.19\n",
       "         1        34.81\n",
       "OH       0        72.27\n",
       "         1        27.73\n",
       "OO       0        54.71\n",
       "         1        45.29\n",
       "UA       0        67.61\n",
       "         1        32.39\n",
       "US       0        66.40\n",
       "         1        33.60\n",
       "WN       0        30.22\n",
       "         1        69.78\n",
       "XE       0        62.11\n",
       "         1        37.89\n",
       "YV       0        75.71\n",
       "         1        24.29\n",
       "Name: %Delay_Airline, dtype: float64"
      ]
     },
     "execution_count": 31,
     "metadata": {},
     "output_type": "execute_result"
    }
   ],
   "source": [
    "df_aux = df_air.groupby(['Airline', 'Delay'])['id'].count().rename('%Delay_Airline').groupby(level = 0).transform(lambda x: (x/x.sum())*100).round(2)\n",
    "df_aux"
   ]
  },
  {
   "cell_type": "markdown",
   "metadata": {},
   "source": [
    "En 16 de las 18 aerolíneas la cantidad de vuelos sin retrasos es superior a la cantidad de vuelos con retrasos. Llamativamente, encontramos la situación inversa en WN, la aerolínea con mayor cantidad de vuelos, y en CO, una de las aerolíneas con menor cantidad de vuelos registrados."
   ]
  },
  {
   "cell_type": "code",
   "execution_count": 32,
   "metadata": {},
   "outputs": [
    {
     "data": {
      "text/plain": [
       "Delay  DayOfWeek\n",
       "0      1            38739\n",
       "       2            39427\n",
       "       3            47492\n",
       "       4            50201\n",
       "       5            49733\n",
       "       6            35339\n",
       "       7            38185\n",
       "1      1            34030\n",
       "       2            31913\n",
       "       3            42254\n",
       "       4            41244\n",
       "       5            35515\n",
       "       6            23615\n",
       "       7            31692\n",
       "Name: id, dtype: int64"
      ]
     },
     "execution_count": 32,
     "metadata": {},
     "output_type": "execute_result"
    }
   ],
   "source": [
    "# Delay vs DayOfWeek\n",
    "df_air.groupby(['Delay','DayOfWeek']).count()['id']"
   ]
  },
  {
   "cell_type": "code",
   "execution_count": 33,
   "metadata": {},
   "outputs": [
    {
     "data": {
      "image/png": "[encoded data removed]",
      "text/plain": [
       "<Figure size 432x288 with 1 Axes>"
      ]
     },
     "metadata": {
      "needs_background": "light"
     },
     "output_type": "display_data"
    }
   ],
   "source": [
    "group_day = df_air.groupby(['Delay','DayOfWeek']).count()['id']\n",
    "(group_day.unstack(level=0).plot.bar())\n",
    "plt.show()"
   ]
  },
  {
   "cell_type": "markdown",
   "metadata": {},
   "source": [
    "En esta visualización podemos ver que el día de la semana no tiene una gran influencia sobre los retrasos en los vuelos. "
   ]
  },
  {
   "cell_type": "code",
   "execution_count": 34,
   "metadata": {},
   "outputs": [
    {
     "data": {
      "text/plain": [
       "DayOfWeek  Delay\n",
       "1          0        53.24\n",
       "           1        46.76\n",
       "2          0        55.27\n",
       "           1        44.73\n",
       "3          0        52.92\n",
       "           1        47.08\n",
       "4          0        54.90\n",
       "           1        45.10\n",
       "5          0        58.34\n",
       "           1        41.66\n",
       "6          0        59.94\n",
       "           1        40.06\n",
       "7          0        54.65\n",
       "           1        45.35\n",
       "Name: %Delay_DayOfWeek, dtype: float64"
      ]
     },
     "execution_count": 34,
     "metadata": {},
     "output_type": "execute_result"
    }
   ],
   "source": [
    "df_aux2 = df_air.groupby(['DayOfWeek', 'Delay'])['id'].count().rename('%Delay_DayOfWeek').groupby(level = 0).transform(lambda x: (x/x.sum())*100).round(2)\n",
    "df_aux2"
   ]
  },
  {
   "cell_type": "markdown",
   "metadata": {},
   "source": [
    "Analizando los retrasos por día de la semana no se ha identificado ninguna diferencia significativa. Todos cuentan con aproximadamente entre un 40 y 47% de vuelos retrasados."
   ]
  },
  {
   "cell_type": "code",
   "execution_count": 35,
   "metadata": {},
   "outputs": [
    {
     "data": {
      "image/png": "[encoded data removed]",
      "text/plain": [
       "<Figure size 432x288 with 1 Axes>"
      ]
     },
     "metadata": {
      "needs_background": "light"
     },
     "output_type": "display_data"
    }
   ],
   "source": [
    "# Delay vs Time\n",
    "#plt.figure(figsize = (8,6))\n",
    "sns.boxplot( x=df_air['Delay'], y=df_air['Time'], palette = 'viridis')\n",
    "plt.title('Relación entre Time y Delay', fontsize = 14)\n",
    "plt.show()"
   ]
  },
  {
   "cell_type": "markdown",
   "metadata": {},
   "source": [
    "Según el resultado del boxplot se podría evidenciar una ligera tendencia de que los vuelos con retrasos suelen tener un horario de partida un poco más tarde que los vuelos sin retrasos. Sin embargo no es evidencia suficiente para tal afirmación y se deberia realizar un test de hipotesis para su confirmación."
   ]
  },
  {
   "cell_type": "code",
   "execution_count": 36,
   "metadata": {},
   "outputs": [
    {
     "data": {
      "image/png": "[encoded data removed]",
      "text/plain": [
       "<Figure size 432x288 with 1 Axes>"
      ]
     },
     "metadata": {
      "needs_background": "light"
     },
     "output_type": "display_data"
    }
   ],
   "source": [
    "# Delay vs TimeGroups\n",
    "sns.histplot(data=df_air, x = df_air['TimeGroups'], hue=df_air['Delay'], multiple=\"dodge\", shrink=.8) \n",
    "plt.show()"
   ]
  },
  {
   "cell_type": "markdown",
   "metadata": {},
   "source": [
    "Podemos ver claramente que mientras más tarde es el horario de salida, mayor es el porcentaje de vuelos retrasados. A partir del horario tarde, hay más vuelos retrasados que puntuales."
   ]
  },
  {
   "cell_type": "code",
   "execution_count": 37,
   "metadata": {},
   "outputs": [
    {
     "data": {
      "image/png": "[encoded data removed]",
      "text/plain": [
       "<Figure size 432x288 with 1 Axes>"
      ]
     },
     "metadata": {
      "needs_background": "light"
     },
     "output_type": "display_data"
    }
   ],
   "source": [
    "# Delay vs LengthGroups \n",
    "sns.histplot(data=df_air, x = df_air['LengthGroups'], hue=df_air['Delay'], multiple=\"dodge\", shrink=.8) \n",
    "plt.show()"
   ]
  },
  {
   "cell_type": "markdown",
   "metadata": {},
   "source": [
    "Podemos ver que los vuelos de una duración larga (Mayor a 2.71 horas) suelen tener mayor probabilidad de retraso que las otras 3 agrupaciones."
   ]
  },
  {
   "cell_type": "markdown",
   "metadata": {},
   "source": [
    "#### 2.5 Análisis Multivariado"
   ]
  },
  {
   "cell_type": "code",
   "execution_count": 38,
   "metadata": {},
   "outputs": [
    {
     "data": {
      "image/png": "[encoded data removed]",
      "text/plain": [
       "<Figure size 1008x504 with 1 Axes>"
      ]
     },
     "metadata": {
      "needs_background": "light"
     },
     "output_type": "display_data"
    }
   ],
   "source": [
    "%matplotlib inline\n",
    "plt.figure(figsize = (14,7))\n",
    "sns.barplot(x = df_air['Airline'], y = df_air['Length'], hue=df_air['Delay']) \n",
    "plt.title('Duración promedio de vuelos para cada Aerolinea diferenciando si tuvieron o no retraso')\n",
    "plt.show()"
   ]
  },
  {
   "cell_type": "markdown",
   "metadata": {},
   "source": [
    "El gráfico de barra calcula el promedio de campo \"Length\" por aerolinea diferenciando aquellos que presentaron retrasos versus aquellos que no."
   ]
  },
  {
   "cell_type": "code",
   "execution_count": 39,
   "metadata": {},
   "outputs": [
    {
     "data": {
      "image/png": "[encoded data removed]",
      "text/plain": [
       "<Figure size 1008x504 with 1 Axes>"
      ]
     },
     "metadata": {
      "needs_background": "light"
     },
     "output_type": "display_data"
    }
   ],
   "source": [
    "plt.figure(figsize = (14,7))\n",
    "sns.boxplot( x=df_air['DayOfWeek'], y=df_air['Time'], hue=df_air['Delay'], palette = 'viridis')\n",
    "plt.title('Relación entre Día de la semana y Retrasos', fontsize = 14)\n",
    "plt.show()"
   ]
  },
  {
   "cell_type": "markdown",
   "metadata": {},
   "source": [
    "El boxplot muestra la relación entre días de la semana, el tiempo y la existencia (o inexistencia) de retrasos. Decidimos hacer este análisis partiendo del anterior boxplot planteado (\"Relación entre Time y Delay\") para detectar posibles variaciones entre los días de la semana."
   ]
  },
  {
   "cell_type": "markdown",
   "metadata": {},
   "source": [
    "### PCA - Analisis de componentes principales"
   ]
  },
  {
   "cell_type": "markdown",
   "metadata": {},
   "source": [
    "\n"
   ]
  },
  {
   "cell_type": "markdown",
   "metadata": {},
   "source": [
    "link referencia: https://www.cienciadedatos.net/documentos/py19-pca-python.html#:~:text=El%20an%C3%A1lisis%20de%20componentes%20principales,vez%20que%20conserva%20su%20informaci%C3%B3n."
   ]
  },
  {
   "cell_type": "markdown",
   "metadata": {},
   "source": [
    "#### Carga de datos"
   ]
  },
  {
   "cell_type": "code",
   "execution_count": 40,
   "metadata": {},
   "outputs": [],
   "source": [
    "# Importamos librerias a utilizar\n",
    "import pandas as pd\n",
    "import numpy as np\n",
    "#Graficos\n",
    "# ==============================================================================\n",
    "import matplotlib.pyplot as plt\n",
    "import matplotlib as mpl\n",
    "import matplotlib.font_manager\n",
    "from matplotlib import style\n",
    "style.use('ggplot') or plt.style.use('ggplot')\n",
    "import seaborn as sns\n",
    "#PCA\n",
    "# ==============================================================================\n",
    "import statsmodels.api as sm\n",
    "# Preprocesado y modelado\n",
    "# ==============================================================================\n",
    "from sklearn.decomposition import PCA\n",
    "from sklearn.pipeline import make_pipeline\n",
    "from sklearn.preprocessing import StandardScaler\n",
    "from sklearn.preprocessing import scale\n",
    "# ==============================================================================\n",
    "#Calculo de metricas del algoritmo seleccionado\n",
    "from sklearn.metrics import accuracy_score, precision_score, recall_score, f1_score\n",
    "# ==============================================================================\n",
    "# Configuración warnings\n",
    "# ==============================================================================\n",
    "import warnings\n",
    "warnings.filterwarnings('ignore')"
   ]
  },
  {
   "cell_type": "code",
   "execution_count": 41,
   "metadata": {},
   "outputs": [
    {
     "data": {
      "text/html": [
       "<div>\n",
       "<style scoped>\n",
       "    .dataframe tbody tr th:only-of-type {\n",
       "        vertical-align: middle;\n",
       "    }\n",
       "\n",
       "    .dataframe tbody tr th {\n",
       "        vertical-align: top;\n",
       "    }\n",
       "\n",
       "    .dataframe thead th {\n",
       "        text-align: right;\n",
       "    }\n",
       "</style>\n",
       "<table border=\"1\" class=\"dataframe\">\n",
       "  <thead>\n",
       "    <tr style=\"text-align: right;\">\n",
       "      <th></th>\n",
       "      <th>id</th>\n",
       "      <th>Airline</th>\n",
       "      <th>Flight</th>\n",
       "      <th>AirportFrom</th>\n",
       "      <th>AirportTo</th>\n",
       "      <th>DayOfWeek</th>\n",
       "      <th>Time</th>\n",
       "      <th>Length</th>\n",
       "      <th>Delay</th>\n",
       "    </tr>\n",
       "  </thead>\n",
       "  <tbody>\n",
       "    <tr>\n",
       "      <th>0</th>\n",
       "      <td>1</td>\n",
       "      <td>CO</td>\n",
       "      <td>269</td>\n",
       "      <td>SFO</td>\n",
       "      <td>IAH</td>\n",
       "      <td>3</td>\n",
       "      <td>15</td>\n",
       "      <td>205</td>\n",
       "      <td>1</td>\n",
       "    </tr>\n",
       "    <tr>\n",
       "      <th>1</th>\n",
       "      <td>2</td>\n",
       "      <td>US</td>\n",
       "      <td>1558</td>\n",
       "      <td>PHX</td>\n",
       "      <td>CLT</td>\n",
       "      <td>3</td>\n",
       "      <td>15</td>\n",
       "      <td>222</td>\n",
       "      <td>1</td>\n",
       "    </tr>\n",
       "    <tr>\n",
       "      <th>2</th>\n",
       "      <td>3</td>\n",
       "      <td>AA</td>\n",
       "      <td>2400</td>\n",
       "      <td>LAX</td>\n",
       "      <td>DFW</td>\n",
       "      <td>3</td>\n",
       "      <td>20</td>\n",
       "      <td>165</td>\n",
       "      <td>1</td>\n",
       "    </tr>\n",
       "    <tr>\n",
       "      <th>3</th>\n",
       "      <td>4</td>\n",
       "      <td>AA</td>\n",
       "      <td>2466</td>\n",
       "      <td>SFO</td>\n",
       "      <td>DFW</td>\n",
       "      <td>3</td>\n",
       "      <td>20</td>\n",
       "      <td>195</td>\n",
       "      <td>1</td>\n",
       "    </tr>\n",
       "    <tr>\n",
       "      <th>4</th>\n",
       "      <td>5</td>\n",
       "      <td>AS</td>\n",
       "      <td>108</td>\n",
       "      <td>ANC</td>\n",
       "      <td>SEA</td>\n",
       "      <td>3</td>\n",
       "      <td>30</td>\n",
       "      <td>202</td>\n",
       "      <td>0</td>\n",
       "    </tr>\n",
       "  </tbody>\n",
       "</table>\n",
       "</div>"
      ],
      "text/plain": [
       "   id Airline  Flight AirportFrom AirportTo  DayOfWeek  Time  Length  Delay\n",
       "0   1      CO     269         SFO       IAH          3    15     205      1\n",
       "1   2      US    1558         PHX       CLT          3    15     222      1\n",
       "2   3      AA    2400         LAX       DFW          3    20     165      1\n",
       "3   4      AA    2466         SFO       DFW          3    20     195      1\n",
       "4   5      AS     108         ANC       SEA          3    30     202      0"
      ]
     },
     "execution_count": 41,
     "metadata": {},
     "output_type": "execute_result"
    }
   ],
   "source": [
    "# Lectura del csv\n",
    "df_air = pd.read_csv('Airlines.csv', sep=',')\n",
    "df_air.head()"
   ]
  },
  {
   "cell_type": "code",
   "execution_count": 42,
   "metadata": {},
   "outputs": [
    {
     "data": {
      "text/plain": [
       "(539379, 9)"
      ]
     },
     "execution_count": 42,
     "metadata": {},
     "output_type": "execute_result"
    }
   ],
   "source": [
    "df_air.drop(df_air[df_air.Length == 0].index, inplace=True)\n",
    "df_air.shape"
   ]
  },
  {
   "cell_type": "markdown",
   "metadata": {},
   "source": [
    "#### Exploracion inicial"
   ]
  },
  {
   "cell_type": "code",
   "execution_count": 43,
   "metadata": {},
   "outputs": [
    {
     "name": "stdout",
     "output_type": "stream",
     "text": [
      "<class 'pandas.core.frame.DataFrame'>\n",
      "Int64Index: 539379 entries, 0 to 539382\n",
      "Data columns (total 9 columns):\n",
      " #   Column       Non-Null Count   Dtype \n",
      "---  ------       --------------   ----- \n",
      " 0   id           539379 non-null  int64 \n",
      " 1   Airline      539379 non-null  object\n",
      " 2   Flight       539379 non-null  int64 \n",
      " 3   AirportFrom  539379 non-null  object\n",
      " 4   AirportTo    539379 non-null  object\n",
      " 5   DayOfWeek    539379 non-null  int64 \n",
      " 6   Time         539379 non-null  int64 \n",
      " 7   Length       539379 non-null  int64 \n",
      " 8   Delay        539379 non-null  int64 \n",
      "dtypes: int64(6), object(3)\n",
      "memory usage: 41.2+ MB\n"
     ]
    }
   ],
   "source": [
    "df_air.info()"
   ]
  },
  {
   "cell_type": "markdown",
   "metadata": {},
   "source": [
    "#### Preparacion de datos\n",
    "En el siguiente paso lo que hacemos es convertir aquellas variables categoricas en numéricas para poder aplicar el algoritmo de predicción."
   ]
  },
  {
   "cell_type": "code",
   "execution_count": 44,
   "metadata": {},
   "outputs": [
    {
     "data": {
      "text/html": [
       "<div>\n",
       "<style scoped>\n",
       "    .dataframe tbody tr th:only-of-type {\n",
       "        vertical-align: middle;\n",
       "    }\n",
       "\n",
       "    .dataframe tbody tr th {\n",
       "        vertical-align: top;\n",
       "    }\n",
       "\n",
       "    .dataframe thead th {\n",
       "        text-align: right;\n",
       "    }\n",
       "</style>\n",
       "<table border=\"1\" class=\"dataframe\">\n",
       "  <thead>\n",
       "    <tr style=\"text-align: right;\">\n",
       "      <th></th>\n",
       "      <th>id</th>\n",
       "      <th>Flight</th>\n",
       "      <th>DayOfWeek</th>\n",
       "      <th>Time</th>\n",
       "      <th>Length</th>\n",
       "      <th>Delay</th>\n",
       "      <th>Airline_AA</th>\n",
       "      <th>Airline_AS</th>\n",
       "      <th>Airline_B6</th>\n",
       "      <th>Airline_CO</th>\n",
       "      <th>...</th>\n",
       "      <th>AirportTo_TXK</th>\n",
       "      <th>AirportTo_TYR</th>\n",
       "      <th>AirportTo_TYS</th>\n",
       "      <th>AirportTo_UTM</th>\n",
       "      <th>AirportTo_VLD</th>\n",
       "      <th>AirportTo_VPS</th>\n",
       "      <th>AirportTo_WRG</th>\n",
       "      <th>AirportTo_XNA</th>\n",
       "      <th>AirportTo_YAK</th>\n",
       "      <th>AirportTo_YUM</th>\n",
       "    </tr>\n",
       "  </thead>\n",
       "  <tbody>\n",
       "    <tr>\n",
       "      <th>0</th>\n",
       "      <td>1</td>\n",
       "      <td>269</td>\n",
       "      <td>3</td>\n",
       "      <td>15</td>\n",
       "      <td>205</td>\n",
       "      <td>1</td>\n",
       "      <td>0</td>\n",
       "      <td>0</td>\n",
       "      <td>0</td>\n",
       "      <td>1</td>\n",
       "      <td>...</td>\n",
       "      <td>0</td>\n",
       "      <td>0</td>\n",
       "      <td>0</td>\n",
       "      <td>0</td>\n",
       "      <td>0</td>\n",
       "      <td>0</td>\n",
       "      <td>0</td>\n",
       "      <td>0</td>\n",
       "      <td>0</td>\n",
       "      <td>0</td>\n",
       "    </tr>\n",
       "    <tr>\n",
       "      <th>1</th>\n",
       "      <td>2</td>\n",
       "      <td>1558</td>\n",
       "      <td>3</td>\n",
       "      <td>15</td>\n",
       "      <td>222</td>\n",
       "      <td>1</td>\n",
       "      <td>0</td>\n",
       "      <td>0</td>\n",
       "      <td>0</td>\n",
       "      <td>0</td>\n",
       "      <td>...</td>\n",
       "      <td>0</td>\n",
       "      <td>0</td>\n",
       "      <td>0</td>\n",
       "      <td>0</td>\n",
       "      <td>0</td>\n",
       "      <td>0</td>\n",
       "      <td>0</td>\n",
       "      <td>0</td>\n",
       "      <td>0</td>\n",
       "      <td>0</td>\n",
       "    </tr>\n",
       "    <tr>\n",
       "      <th>2</th>\n",
       "      <td>3</td>\n",
       "      <td>2400</td>\n",
       "      <td>3</td>\n",
       "      <td>20</td>\n",
       "      <td>165</td>\n",
       "      <td>1</td>\n",
       "      <td>1</td>\n",
       "      <td>0</td>\n",
       "      <td>0</td>\n",
       "      <td>0</td>\n",
       "      <td>...</td>\n",
       "      <td>0</td>\n",
       "      <td>0</td>\n",
       "      <td>0</td>\n",
       "      <td>0</td>\n",
       "      <td>0</td>\n",
       "      <td>0</td>\n",
       "      <td>0</td>\n",
       "      <td>0</td>\n",
       "      <td>0</td>\n",
       "      <td>0</td>\n",
       "    </tr>\n",
       "    <tr>\n",
       "      <th>3</th>\n",
       "      <td>4</td>\n",
       "      <td>2466</td>\n",
       "      <td>3</td>\n",
       "      <td>20</td>\n",
       "      <td>195</td>\n",
       "      <td>1</td>\n",
       "      <td>1</td>\n",
       "      <td>0</td>\n",
       "      <td>0</td>\n",
       "      <td>0</td>\n",
       "      <td>...</td>\n",
       "      <td>0</td>\n",
       "      <td>0</td>\n",
       "      <td>0</td>\n",
       "      <td>0</td>\n",
       "      <td>0</td>\n",
       "      <td>0</td>\n",
       "      <td>0</td>\n",
       "      <td>0</td>\n",
       "      <td>0</td>\n",
       "      <td>0</td>\n",
       "    </tr>\n",
       "    <tr>\n",
       "      <th>4</th>\n",
       "      <td>5</td>\n",
       "      <td>108</td>\n",
       "      <td>3</td>\n",
       "      <td>30</td>\n",
       "      <td>202</td>\n",
       "      <td>0</td>\n",
       "      <td>0</td>\n",
       "      <td>1</td>\n",
       "      <td>0</td>\n",
       "      <td>0</td>\n",
       "      <td>...</td>\n",
       "      <td>0</td>\n",
       "      <td>0</td>\n",
       "      <td>0</td>\n",
       "      <td>0</td>\n",
       "      <td>0</td>\n",
       "      <td>0</td>\n",
       "      <td>0</td>\n",
       "      <td>0</td>\n",
       "      <td>0</td>\n",
       "      <td>0</td>\n",
       "    </tr>\n",
       "    <tr>\n",
       "      <th>...</th>\n",
       "      <td>...</td>\n",
       "      <td>...</td>\n",
       "      <td>...</td>\n",
       "      <td>...</td>\n",
       "      <td>...</td>\n",
       "      <td>...</td>\n",
       "      <td>...</td>\n",
       "      <td>...</td>\n",
       "      <td>...</td>\n",
       "      <td>...</td>\n",
       "      <td>...</td>\n",
       "      <td>...</td>\n",
       "      <td>...</td>\n",
       "      <td>...</td>\n",
       "      <td>...</td>\n",
       "      <td>...</td>\n",
       "      <td>...</td>\n",
       "      <td>...</td>\n",
       "      <td>...</td>\n",
       "      <td>...</td>\n",
       "      <td>...</td>\n",
       "    </tr>\n",
       "    <tr>\n",
       "      <th>539378</th>\n",
       "      <td>539379</td>\n",
       "      <td>178</td>\n",
       "      <td>5</td>\n",
       "      <td>1439</td>\n",
       "      <td>326</td>\n",
       "      <td>0</td>\n",
       "      <td>0</td>\n",
       "      <td>0</td>\n",
       "      <td>0</td>\n",
       "      <td>1</td>\n",
       "      <td>...</td>\n",
       "      <td>0</td>\n",
       "      <td>0</td>\n",
       "      <td>0</td>\n",
       "      <td>0</td>\n",
       "      <td>0</td>\n",
       "      <td>0</td>\n",
       "      <td>0</td>\n",
       "      <td>0</td>\n",
       "      <td>0</td>\n",
       "      <td>0</td>\n",
       "    </tr>\n",
       "    <tr>\n",
       "      <th>539379</th>\n",
       "      <td>539380</td>\n",
       "      <td>398</td>\n",
       "      <td>5</td>\n",
       "      <td>1439</td>\n",
       "      <td>305</td>\n",
       "      <td>0</td>\n",
       "      <td>0</td>\n",
       "      <td>0</td>\n",
       "      <td>0</td>\n",
       "      <td>0</td>\n",
       "      <td>...</td>\n",
       "      <td>0</td>\n",
       "      <td>0</td>\n",
       "      <td>0</td>\n",
       "      <td>0</td>\n",
       "      <td>0</td>\n",
       "      <td>0</td>\n",
       "      <td>0</td>\n",
       "      <td>0</td>\n",
       "      <td>0</td>\n",
       "      <td>0</td>\n",
       "    </tr>\n",
       "    <tr>\n",
       "      <th>539380</th>\n",
       "      <td>539381</td>\n",
       "      <td>609</td>\n",
       "      <td>5</td>\n",
       "      <td>1439</td>\n",
       "      <td>255</td>\n",
       "      <td>0</td>\n",
       "      <td>0</td>\n",
       "      <td>0</td>\n",
       "      <td>0</td>\n",
       "      <td>0</td>\n",
       "      <td>...</td>\n",
       "      <td>0</td>\n",
       "      <td>0</td>\n",
       "      <td>0</td>\n",
       "      <td>0</td>\n",
       "      <td>0</td>\n",
       "      <td>0</td>\n",
       "      <td>0</td>\n",
       "      <td>0</td>\n",
       "      <td>0</td>\n",
       "      <td>0</td>\n",
       "    </tr>\n",
       "    <tr>\n",
       "      <th>539381</th>\n",
       "      <td>539382</td>\n",
       "      <td>78</td>\n",
       "      <td>5</td>\n",
       "      <td>1439</td>\n",
       "      <td>313</td>\n",
       "      <td>1</td>\n",
       "      <td>0</td>\n",
       "      <td>0</td>\n",
       "      <td>0</td>\n",
       "      <td>0</td>\n",
       "      <td>...</td>\n",
       "      <td>0</td>\n",
       "      <td>0</td>\n",
       "      <td>0</td>\n",
       "      <td>0</td>\n",
       "      <td>0</td>\n",
       "      <td>0</td>\n",
       "      <td>0</td>\n",
       "      <td>0</td>\n",
       "      <td>0</td>\n",
       "      <td>0</td>\n",
       "    </tr>\n",
       "    <tr>\n",
       "      <th>539382</th>\n",
       "      <td>539383</td>\n",
       "      <td>1442</td>\n",
       "      <td>5</td>\n",
       "      <td>1439</td>\n",
       "      <td>301</td>\n",
       "      <td>1</td>\n",
       "      <td>0</td>\n",
       "      <td>0</td>\n",
       "      <td>0</td>\n",
       "      <td>0</td>\n",
       "      <td>...</td>\n",
       "      <td>0</td>\n",
       "      <td>0</td>\n",
       "      <td>0</td>\n",
       "      <td>0</td>\n",
       "      <td>0</td>\n",
       "      <td>0</td>\n",
       "      <td>0</td>\n",
       "      <td>0</td>\n",
       "      <td>0</td>\n",
       "      <td>0</td>\n",
       "    </tr>\n",
       "  </tbody>\n",
       "</table>\n",
       "<p>539379 rows × 607 columns</p>\n",
       "</div>"
      ],
      "text/plain": [
       "            id  Flight  DayOfWeek  Time  Length  Delay  Airline_AA  \\\n",
       "0            1     269          3    15     205      1           0   \n",
       "1            2    1558          3    15     222      1           0   \n",
       "2            3    2400          3    20     165      1           1   \n",
       "3            4    2466          3    20     195      1           1   \n",
       "4            5     108          3    30     202      0           0   \n",
       "...        ...     ...        ...   ...     ...    ...         ...   \n",
       "539378  539379     178          5  1439     326      0           0   \n",
       "539379  539380     398          5  1439     305      0           0   \n",
       "539380  539381     609          5  1439     255      0           0   \n",
       "539381  539382      78          5  1439     313      1           0   \n",
       "539382  539383    1442          5  1439     301      1           0   \n",
       "\n",
       "        Airline_AS  Airline_B6  Airline_CO  ...  AirportTo_TXK  AirportTo_TYR  \\\n",
       "0                0           0           1  ...              0              0   \n",
       "1                0           0           0  ...              0              0   \n",
       "2                0           0           0  ...              0              0   \n",
       "3                0           0           0  ...              0              0   \n",
       "4                1           0           0  ...              0              0   \n",
       "...            ...         ...         ...  ...            ...            ...   \n",
       "539378           0           0           1  ...              0              0   \n",
       "539379           0           0           0  ...              0              0   \n",
       "539380           0           0           0  ...              0              0   \n",
       "539381           0           0           0  ...              0              0   \n",
       "539382           0           0           0  ...              0              0   \n",
       "\n",
       "        AirportTo_TYS  AirportTo_UTM  AirportTo_VLD  AirportTo_VPS  \\\n",
       "0                   0              0              0              0   \n",
       "1                   0              0              0              0   \n",
       "2                   0              0              0              0   \n",
       "3                   0              0              0              0   \n",
       "4                   0              0              0              0   \n",
       "...               ...            ...            ...            ...   \n",
       "539378              0              0              0              0   \n",
       "539379              0              0              0              0   \n",
       "539380              0              0              0              0   \n",
       "539381              0              0              0              0   \n",
       "539382              0              0              0              0   \n",
       "\n",
       "        AirportTo_WRG  AirportTo_XNA  AirportTo_YAK  AirportTo_YUM  \n",
       "0                   0              0              0              0  \n",
       "1                   0              0              0              0  \n",
       "2                   0              0              0              0  \n",
       "3                   0              0              0              0  \n",
       "4                   0              0              0              0  \n",
       "...               ...            ...            ...            ...  \n",
       "539378              0              0              0              0  \n",
       "539379              0              0              0              0  \n",
       "539380              0              0              0              0  \n",
       "539381              0              0              0              0  \n",
       "539382              0              0              0              0  \n",
       "\n",
       "[539379 rows x 607 columns]"
      ]
     },
     "execution_count": 44,
     "metadata": {},
     "output_type": "execute_result"
    }
   ],
   "source": [
    "#Comenzamos con la preparacion de nuestros datos\n",
    "df_dummy = pd.get_dummies(df_air, drop_first=True)\n",
    "df_dummy"
   ]
  },
  {
   "cell_type": "markdown",
   "metadata": {},
   "source": [
    "#### Definición de variables Target\n",
    "En base al objetivo planteado de poder predecir que vuelos puede presentar demoras, nuestra variable objetivo será \"Delay\"\n",
    "\n",
    "A continuación dividimos nuestro dataset en 2 partes:\n",
    "- X: contendrá las variables con las cuales vamos a construir el modelo. Dichas variables se consideran independientes.\n",
    "- Y: contendrá la variable Delay y se considera nuestra variable dependiente."
   ]
  },
  {
   "cell_type": "code",
   "execution_count": 45,
   "metadata": {},
   "outputs": [],
   "source": [
    "#Separamos los datos de entrada de la salida\n",
    "X = df_dummy.drop(['Delay'], axis=1) #Elimino de mi dataset la variable a predecir\n",
    "y = df_dummy.Delay #Defino el Target"
   ]
  },
  {
   "cell_type": "markdown",
   "metadata": {},
   "source": [
    "#### Divimos el dataset.\n",
    "\n",
    "En este caso utilizaremos:\n",
    "- El 70% del mismo para el entrenamiento de los distintos algoritmos.\n",
    "- El 30% restante como test de los algoritmos."
   ]
  },
  {
   "cell_type": "code",
   "execution_count": 47,
   "metadata": {},
   "outputs": [],
   "source": [
    "from sklearn.model_selection import train_test_split #Importamos la libreria para separar en train y test\n",
    "\n",
    "#Me quedo con 30% para test y 70% para train\n",
    "X_train, X_test, y_train, y_test = train_test_split(X, y, test_size=0.30, random_state=11) "
   ]
  },
  {
   "cell_type": "markdown",
   "metadata": {},
   "source": [
    "#### PCA: Análisis de Componentes Principales\n",
    "Luego de convertir todas nuestras variables independientes en numéricas nos encontramos con un dataset que contiene 607 columnas o variables de análisis.\n",
    "\n",
    "Con el fin de verificar si es posible reducir la dimensionalidad aplicamos el método PCA o Análisis de Componentes Principales.\n",
    "\n",
    "El análisis de componentes principales (Principal Component Analysis PCA) es un método de reducción de dimensionalidad que permite simplificar la complejidad de espacios con múltiples dimensiones a la vez que conserva su información\n",
    "\n",
    "El método gira los datos de forma que, desde un punto de vista estadístico, no exista una correlación entre las características rotadas pero que conserven la mayor cantidad posible de la varianza de los datos originales."
   ]
  },
  {
   "cell_type": "markdown",
   "metadata": {},
   "source": [
    "##### Escalado de las variables\n",
    "\n",
    "El proceso de PCA identifica las direcciones con mayor varianza. \n",
    "Como la varianza de una variable se mide en sus mismas unidades elevadas al cuadrado, si antes de calcular las componentes no se estandarizan todas las variables para que tengan media cero y desviación estándar de uno, aquellas variables cuya escala sea mayor dominarán al resto. De ahí que sea recomendable estandarizar siempre los datos."
   ]
  },
  {
   "cell_type": "code",
   "execution_count": 49,
   "metadata": {},
   "outputs": [],
   "source": [
    "#Normalizamos los datos para que PCA funcione mejor!\n",
    "from sklearn.preprocessing import StandardScaler\n",
    "\n",
    "sc = StandardScaler()\n",
    "X_train = sc.fit_transform(X_train)\n",
    "X_test = sc.transform(X_test)"
   ]
  },
  {
   "cell_type": "markdown",
   "metadata": {},
   "source": [
    "Aplicación del modelo PCA"
   ]
  },
  {
   "cell_type": "code",
   "execution_count": 50,
   "metadata": {},
   "outputs": [],
   "source": [
    "#Aplicacion de PCA\n",
    "from sklearn.decomposition import PCA\n",
    "\n",
    "pca = PCA()\n",
    "X_train = pca.fit_transform(X_train)\n",
    "X_test = pca.transform(X_test)"
   ]
  },
  {
   "cell_type": "markdown",
   "metadata": {},
   "source": [
    "#### Interpretación\n",
    "\n",
    "Una vez entrenado el objeto PCA, pude accederse a toda la información de las componentes creadas.\n",
    "*components_* contiene el valor de los loadings  ϕ  que definen cada componente. Las filas se corresponden con las componentes principales (ordenadas de mayor a menor varianza explicada). Las filas se corresponden con las variables de entrada."
   ]
  },
  {
   "cell_type": "code",
   "execution_count": 51,
   "metadata": {},
   "outputs": [
    {
     "data": {
      "text/html": [
       "<div>\n",
       "<style scoped>\n",
       "    .dataframe tbody tr th:only-of-type {\n",
       "        vertical-align: middle;\n",
       "    }\n",
       "\n",
       "    .dataframe tbody tr th {\n",
       "        vertical-align: top;\n",
       "    }\n",
       "\n",
       "    .dataframe thead th {\n",
       "        text-align: right;\n",
       "    }\n",
       "</style>\n",
       "<table border=\"1\" class=\"dataframe\">\n",
       "  <thead>\n",
       "    <tr style=\"text-align: right;\">\n",
       "      <th></th>\n",
       "      <th>id</th>\n",
       "      <th>Flight</th>\n",
       "      <th>DayOfWeek</th>\n",
       "      <th>Time</th>\n",
       "      <th>Length</th>\n",
       "      <th>Airline_AA</th>\n",
       "      <th>Airline_AS</th>\n",
       "      <th>Airline_B6</th>\n",
       "      <th>Airline_CO</th>\n",
       "      <th>Airline_DL</th>\n",
       "      <th>...</th>\n",
       "      <th>AirportTo_TXK</th>\n",
       "      <th>AirportTo_TYR</th>\n",
       "      <th>AirportTo_TYS</th>\n",
       "      <th>AirportTo_UTM</th>\n",
       "      <th>AirportTo_VLD</th>\n",
       "      <th>AirportTo_VPS</th>\n",
       "      <th>AirportTo_WRG</th>\n",
       "      <th>AirportTo_XNA</th>\n",
       "      <th>AirportTo_YAK</th>\n",
       "      <th>AirportTo_YUM</th>\n",
       "    </tr>\n",
       "  </thead>\n",
       "  <tbody>\n",
       "    <tr>\n",
       "      <th>0</th>\n",
       "      <td>-0.009</td>\n",
       "      <td>0.520</td>\n",
       "      <td>-0.004</td>\n",
       "      <td>-0.002</td>\n",
       "      <td>-0.281</td>\n",
       "      <td>-0.103</td>\n",
       "      <td>-0.142</td>\n",
       "      <td>-0.117</td>\n",
       "      <td>-0.103</td>\n",
       "      <td>-0.021</td>\n",
       "      <td>...</td>\n",
       "      <td>0.006</td>\n",
       "      <td>0.005</td>\n",
       "      <td>0.029</td>\n",
       "      <td>0.000</td>\n",
       "      <td>0.015</td>\n",
       "      <td>0.029</td>\n",
       "      <td>-0.013</td>\n",
       "      <td>0.031</td>\n",
       "      <td>-0.014</td>\n",
       "      <td>0.017</td>\n",
       "    </tr>\n",
       "    <tr>\n",
       "      <th>1</th>\n",
       "      <td>0.000</td>\n",
       "      <td>0.071</td>\n",
       "      <td>0.007</td>\n",
       "      <td>0.016</td>\n",
       "      <td>-0.088</td>\n",
       "      <td>-0.058</td>\n",
       "      <td>0.085</td>\n",
       "      <td>-0.080</td>\n",
       "      <td>-0.052</td>\n",
       "      <td>-0.070</td>\n",
       "      <td>...</td>\n",
       "      <td>-0.001</td>\n",
       "      <td>-0.001</td>\n",
       "      <td>-0.002</td>\n",
       "      <td>-0.003</td>\n",
       "      <td>-0.001</td>\n",
       "      <td>-0.003</td>\n",
       "      <td>0.011</td>\n",
       "      <td>-0.001</td>\n",
       "      <td>0.012</td>\n",
       "      <td>0.017</td>\n",
       "    </tr>\n",
       "    <tr>\n",
       "      <th>2</th>\n",
       "      <td>-0.000</td>\n",
       "      <td>0.022</td>\n",
       "      <td>-0.003</td>\n",
       "      <td>0.004</td>\n",
       "      <td>0.001</td>\n",
       "      <td>-0.049</td>\n",
       "      <td>0.254</td>\n",
       "      <td>-0.047</td>\n",
       "      <td>-0.041</td>\n",
       "      <td>-0.127</td>\n",
       "      <td>...</td>\n",
       "      <td>-0.006</td>\n",
       "      <td>-0.005</td>\n",
       "      <td>-0.023</td>\n",
       "      <td>-0.006</td>\n",
       "      <td>-0.016</td>\n",
       "      <td>-0.031</td>\n",
       "      <td>0.038</td>\n",
       "      <td>-0.020</td>\n",
       "      <td>0.040</td>\n",
       "      <td>0.014</td>\n",
       "    </tr>\n",
       "    <tr>\n",
       "      <th>3</th>\n",
       "      <td>-0.002</td>\n",
       "      <td>0.035</td>\n",
       "      <td>0.004</td>\n",
       "      <td>-0.007</td>\n",
       "      <td>0.053</td>\n",
       "      <td>0.019</td>\n",
       "      <td>0.439</td>\n",
       "      <td>0.004</td>\n",
       "      <td>0.026</td>\n",
       "      <td>0.082</td>\n",
       "      <td>...</td>\n",
       "      <td>0.003</td>\n",
       "      <td>0.003</td>\n",
       "      <td>0.016</td>\n",
       "      <td>0.003</td>\n",
       "      <td>0.011</td>\n",
       "      <td>0.021</td>\n",
       "      <td>0.084</td>\n",
       "      <td>0.016</td>\n",
       "      <td>0.089</td>\n",
       "      <td>-0.011</td>\n",
       "    </tr>\n",
       "    <tr>\n",
       "      <th>4</th>\n",
       "      <td>-0.013</td>\n",
       "      <td>-0.015</td>\n",
       "      <td>-0.013</td>\n",
       "      <td>0.020</td>\n",
       "      <td>-0.275</td>\n",
       "      <td>-0.265</td>\n",
       "      <td>0.093</td>\n",
       "      <td>-0.130</td>\n",
       "      <td>-0.129</td>\n",
       "      <td>0.041</td>\n",
       "      <td>...</td>\n",
       "      <td>-0.009</td>\n",
       "      <td>-0.007</td>\n",
       "      <td>0.001</td>\n",
       "      <td>0.008</td>\n",
       "      <td>0.022</td>\n",
       "      <td>0.026</td>\n",
       "      <td>0.032</td>\n",
       "      <td>-0.010</td>\n",
       "      <td>0.032</td>\n",
       "      <td>0.001</td>\n",
       "    </tr>\n",
       "    <tr>\n",
       "      <th>...</th>\n",
       "      <td>...</td>\n",
       "      <td>...</td>\n",
       "      <td>...</td>\n",
       "      <td>...</td>\n",
       "      <td>...</td>\n",
       "      <td>...</td>\n",
       "      <td>...</td>\n",
       "      <td>...</td>\n",
       "      <td>...</td>\n",
       "      <td>...</td>\n",
       "      <td>...</td>\n",
       "      <td>...</td>\n",
       "      <td>...</td>\n",
       "      <td>...</td>\n",
       "      <td>...</td>\n",
       "      <td>...</td>\n",
       "      <td>...</td>\n",
       "      <td>...</td>\n",
       "      <td>...</td>\n",
       "      <td>...</td>\n",
       "      <td>...</td>\n",
       "    </tr>\n",
       "    <tr>\n",
       "      <th>601</th>\n",
       "      <td>-0.001</td>\n",
       "      <td>0.675</td>\n",
       "      <td>-0.004</td>\n",
       "      <td>0.001</td>\n",
       "      <td>0.000</td>\n",
       "      <td>0.061</td>\n",
       "      <td>0.061</td>\n",
       "      <td>0.083</td>\n",
       "      <td>-0.037</td>\n",
       "      <td>-0.005</td>\n",
       "      <td>...</td>\n",
       "      <td>0.002</td>\n",
       "      <td>0.003</td>\n",
       "      <td>-0.004</td>\n",
       "      <td>-0.003</td>\n",
       "      <td>0.003</td>\n",
       "      <td>0.007</td>\n",
       "      <td>-0.000</td>\n",
       "      <td>0.004</td>\n",
       "      <td>0.001</td>\n",
       "      <td>0.004</td>\n",
       "    </tr>\n",
       "    <tr>\n",
       "      <th>602</th>\n",
       "      <td>-0.001</td>\n",
       "      <td>-0.184</td>\n",
       "      <td>0.001</td>\n",
       "      <td>0.001</td>\n",
       "      <td>0.000</td>\n",
       "      <td>-0.348</td>\n",
       "      <td>-0.185</td>\n",
       "      <td>-0.209</td>\n",
       "      <td>-0.230</td>\n",
       "      <td>-0.291</td>\n",
       "      <td>...</td>\n",
       "      <td>-0.001</td>\n",
       "      <td>-0.001</td>\n",
       "      <td>-0.009</td>\n",
       "      <td>0.001</td>\n",
       "      <td>-0.001</td>\n",
       "      <td>-0.003</td>\n",
       "      <td>0.001</td>\n",
       "      <td>-0.002</td>\n",
       "      <td>0.000</td>\n",
       "      <td>-0.001</td>\n",
       "    </tr>\n",
       "    <tr>\n",
       "      <th>603</th>\n",
       "      <td>-0.000</td>\n",
       "      <td>-0.001</td>\n",
       "      <td>-0.000</td>\n",
       "      <td>0.000</td>\n",
       "      <td>-0.000</td>\n",
       "      <td>0.002</td>\n",
       "      <td>0.001</td>\n",
       "      <td>0.001</td>\n",
       "      <td>0.001</td>\n",
       "      <td>0.002</td>\n",
       "      <td>...</td>\n",
       "      <td>0.001</td>\n",
       "      <td>0.000</td>\n",
       "      <td>0.002</td>\n",
       "      <td>0.000</td>\n",
       "      <td>0.001</td>\n",
       "      <td>0.001</td>\n",
       "      <td>0.000</td>\n",
       "      <td>0.002</td>\n",
       "      <td>0.000</td>\n",
       "      <td>0.001</td>\n",
       "    </tr>\n",
       "    <tr>\n",
       "      <th>604</th>\n",
       "      <td>-0.000</td>\n",
       "      <td>-0.000</td>\n",
       "      <td>0.000</td>\n",
       "      <td>-0.000</td>\n",
       "      <td>0.000</td>\n",
       "      <td>0.002</td>\n",
       "      <td>0.001</td>\n",
       "      <td>0.001</td>\n",
       "      <td>0.001</td>\n",
       "      <td>0.002</td>\n",
       "      <td>...</td>\n",
       "      <td>-0.013</td>\n",
       "      <td>-0.011</td>\n",
       "      <td>-0.047</td>\n",
       "      <td>-0.007</td>\n",
       "      <td>-0.013</td>\n",
       "      <td>-0.035</td>\n",
       "      <td>-0.010</td>\n",
       "      <td>-0.046</td>\n",
       "      <td>-0.011</td>\n",
       "      <td>-0.025</td>\n",
       "    </tr>\n",
       "    <tr>\n",
       "      <th>605</th>\n",
       "      <td>0.000</td>\n",
       "      <td>-0.000</td>\n",
       "      <td>0.000</td>\n",
       "      <td>0.000</td>\n",
       "      <td>-0.000</td>\n",
       "      <td>0.000</td>\n",
       "      <td>0.000</td>\n",
       "      <td>0.000</td>\n",
       "      <td>0.000</td>\n",
       "      <td>-0.000</td>\n",
       "      <td>...</td>\n",
       "      <td>-0.000</td>\n",
       "      <td>-0.000</td>\n",
       "      <td>-0.000</td>\n",
       "      <td>0.000</td>\n",
       "      <td>0.000</td>\n",
       "      <td>0.000</td>\n",
       "      <td>-0.000</td>\n",
       "      <td>0.000</td>\n",
       "      <td>-0.000</td>\n",
       "      <td>0.000</td>\n",
       "    </tr>\n",
       "  </tbody>\n",
       "</table>\n",
       "<p>606 rows × 606 columns</p>\n",
       "</div>"
      ],
      "text/plain": [
       "        id  Flight  DayOfWeek   Time  Length  Airline_AA  Airline_AS  \\\n",
       "0   -0.009   0.520     -0.004 -0.002  -0.281      -0.103      -0.142   \n",
       "1    0.000   0.071      0.007  0.016  -0.088      -0.058       0.085   \n",
       "2   -0.000   0.022     -0.003  0.004   0.001      -0.049       0.254   \n",
       "3   -0.002   0.035      0.004 -0.007   0.053       0.019       0.439   \n",
       "4   -0.013  -0.015     -0.013  0.020  -0.275      -0.265       0.093   \n",
       "..     ...     ...        ...    ...     ...         ...         ...   \n",
       "601 -0.001   0.675     -0.004  0.001   0.000       0.061       0.061   \n",
       "602 -0.001  -0.184      0.001  0.001   0.000      -0.348      -0.185   \n",
       "603 -0.000  -0.001     -0.000  0.000  -0.000       0.002       0.001   \n",
       "604 -0.000  -0.000      0.000 -0.000   0.000       0.002       0.001   \n",
       "605  0.000  -0.000      0.000  0.000  -0.000       0.000       0.000   \n",
       "\n",
       "     Airline_B6  Airline_CO  Airline_DL  ...  AirportTo_TXK  AirportTo_TYR  \\\n",
       "0        -0.117      -0.103      -0.021  ...          0.006          0.005   \n",
       "1        -0.080      -0.052      -0.070  ...         -0.001         -0.001   \n",
       "2        -0.047      -0.041      -0.127  ...         -0.006         -0.005   \n",
       "3         0.004       0.026       0.082  ...          0.003          0.003   \n",
       "4        -0.130      -0.129       0.041  ...         -0.009         -0.007   \n",
       "..          ...         ...         ...  ...            ...            ...   \n",
       "601       0.083      -0.037      -0.005  ...          0.002          0.003   \n",
       "602      -0.209      -0.230      -0.291  ...         -0.001         -0.001   \n",
       "603       0.001       0.001       0.002  ...          0.001          0.000   \n",
       "604       0.001       0.001       0.002  ...         -0.013         -0.011   \n",
       "605       0.000       0.000      -0.000  ...         -0.000         -0.000   \n",
       "\n",
       "     AirportTo_TYS  AirportTo_UTM  AirportTo_VLD  AirportTo_VPS  \\\n",
       "0            0.029          0.000          0.015          0.029   \n",
       "1           -0.002         -0.003         -0.001         -0.003   \n",
       "2           -0.023         -0.006         -0.016         -0.031   \n",
       "3            0.016          0.003          0.011          0.021   \n",
       "4            0.001          0.008          0.022          0.026   \n",
       "..             ...            ...            ...            ...   \n",
       "601         -0.004         -0.003          0.003          0.007   \n",
       "602         -0.009          0.001         -0.001         -0.003   \n",
       "603          0.002          0.000          0.001          0.001   \n",
       "604         -0.047         -0.007         -0.013         -0.035   \n",
       "605         -0.000          0.000          0.000          0.000   \n",
       "\n",
       "     AirportTo_WRG  AirportTo_XNA  AirportTo_YAK  AirportTo_YUM  \n",
       "0           -0.013          0.031         -0.014          0.017  \n",
       "1            0.011         -0.001          0.012          0.017  \n",
       "2            0.038         -0.020          0.040          0.014  \n",
       "3            0.084          0.016          0.089         -0.011  \n",
       "4            0.032         -0.010          0.032          0.001  \n",
       "..             ...            ...            ...            ...  \n",
       "601         -0.000          0.004          0.001          0.004  \n",
       "602          0.001         -0.002          0.000         -0.001  \n",
       "603          0.000          0.002          0.000          0.001  \n",
       "604         -0.010         -0.046         -0.011         -0.025  \n",
       "605         -0.000          0.000         -0.000          0.000  \n",
       "\n",
       "[606 rows x 606 columns]"
      ]
     },
     "execution_count": 51,
     "metadata": {},
     "output_type": "execute_result"
    }
   ],
   "source": [
    "# Se convierte el array a dataframe para añadir nombres a los ejes.\n",
    "pd.DataFrame(\n",
    "    data    = pca.components_,\n",
    "    columns = X.columns\n",
    ").round(3)"
   ]
  },
  {
   "cell_type": "markdown",
   "metadata": {},
   "source": [
    "Una vez calculadas las componentes principales, se puede conocer la varianza explicada por cada una de ellas, la proporción respecto al total y la proporción de varianza acumulada. Esta información está almacenada en los atributos *explained_variance_* y *explained_variance_ratio_* del modelo."
   ]
  },
  {
   "cell_type": "code",
   "execution_count": 53,
   "metadata": {},
   "outputs": [
    {
     "data": {
      "text/plain": [
       "array([4.88742051e-03, 4.07647222e-03, 3.91214111e-03, 3.71375462e-03,\n",
       "       3.54811571e-03, 3.40325946e-03, 3.22785387e-03, 3.05544160e-03,\n",
       "       2.86640220e-03, 2.84997725e-03, 2.79412415e-03, 2.76937822e-03,\n",
       "       2.75148279e-03, 2.73738382e-03, 2.72505302e-03, 2.67105554e-03,\n",
       "       2.62431650e-03, 2.58458800e-03, 2.55797528e-03, 2.47104172e-03,\n",
       "       2.42540872e-03, 2.42015672e-03, 2.38494407e-03, 2.36323808e-03,\n",
       "       2.32986001e-03, 2.32442371e-03, 2.30225488e-03, 2.28083788e-03,\n",
       "       2.26802110e-03, 2.25463926e-03, 2.21978556e-03, 2.20107275e-03,\n",
       "       2.19252982e-03, 2.17743041e-03, 2.16020444e-03, 2.14490329e-03,\n",
       "       2.14416744e-03, 2.12482842e-03, 2.11546009e-03, 2.10773993e-03,\n",
       "       2.08789788e-03, 2.07961322e-03, 2.07498079e-03, 2.07218869e-03,\n",
       "       2.06650259e-03, 2.04927922e-03, 2.03875527e-03, 2.03516324e-03,\n",
       "       2.03364805e-03, 2.03257356e-03, 2.02719431e-03, 2.01780840e-03,\n",
       "       2.00704255e-03, 2.00006652e-03, 1.99759323e-03, 1.98175656e-03,\n",
       "       1.97174229e-03, 1.97033779e-03, 1.96370857e-03, 1.95038083e-03,\n",
       "       1.94996484e-03, 1.94110611e-03, 1.93020943e-03, 1.92445416e-03,\n",
       "       1.92326516e-03, 1.91054510e-03, 1.90677773e-03, 1.90098733e-03,\n",
       "       1.89574309e-03, 1.89055694e-03, 1.88477946e-03, 1.88357823e-03,\n",
       "       1.87628474e-03, 1.87405319e-03, 1.86865550e-03, 1.86578657e-03,\n",
       "       1.85277560e-03, 1.84475064e-03, 1.83963972e-03, 1.82500319e-03,\n",
       "       1.82291103e-03, 1.81900194e-03, 1.81807468e-03, 1.81278146e-03,\n",
       "       1.80952293e-03, 1.80507610e-03, 1.80144987e-03, 1.79445725e-03,\n",
       "       1.78755582e-03, 1.78653626e-03, 1.78338853e-03, 1.77685698e-03,\n",
       "       1.77403413e-03, 1.76713062e-03, 1.76614649e-03, 1.76296879e-03,\n",
       "       1.75895523e-03, 1.75601395e-03, 1.75498140e-03, 1.75185988e-03,\n",
       "       1.75120546e-03, 1.74665177e-03, 1.74509894e-03, 1.74006294e-03,\n",
       "       1.73648502e-03, 1.73233672e-03, 1.73197689e-03, 1.72751958e-03,\n",
       "       1.72567108e-03, 1.72282630e-03, 1.71810186e-03, 1.71669187e-03,\n",
       "       1.71280202e-03, 1.71217886e-03, 1.70862730e-03, 1.70379087e-03,\n",
       "       1.70309609e-03, 1.70112890e-03, 1.69813063e-03, 1.69587623e-03,\n",
       "       1.69354414e-03, 1.69135290e-03, 1.69081789e-03, 1.68945093e-03,\n",
       "       1.68729392e-03, 1.68707843e-03, 1.68531740e-03, 1.68247951e-03,\n",
       "       1.68208071e-03, 1.68018538e-03, 1.67949554e-03, 1.67753024e-03,\n",
       "       1.67419620e-03, 1.67335133e-03, 1.67166197e-03, 1.67070085e-03,\n",
       "       1.66778348e-03, 1.66748115e-03, 1.66499187e-03, 1.66365516e-03,\n",
       "       1.66323406e-03, 1.66239906e-03, 1.66144976e-03, 1.66124152e-03,\n",
       "       1.66056937e-03, 1.66021748e-03, 1.65956203e-03, 1.65934891e-03,\n",
       "       1.65888361e-03, 1.65882615e-03, 1.65816038e-03, 1.65783920e-03,\n",
       "       1.65768790e-03, 1.65758656e-03, 1.65732682e-03, 1.65722596e-03,\n",
       "       1.65696110e-03, 1.65691946e-03, 1.65670785e-03, 1.65666809e-03,\n",
       "       1.65657108e-03, 1.65646493e-03, 1.65638238e-03, 1.65633081e-03,\n",
       "       1.65627658e-03, 1.65614407e-03, 1.65610545e-03, 1.65602747e-03,\n",
       "       1.65599648e-03, 1.65592718e-03, 1.65590985e-03, 1.65585487e-03,\n",
       "       1.65579292e-03, 1.65575327e-03, 1.65571995e-03, 1.65568349e-03,\n",
       "       1.65565440e-03, 1.65561172e-03, 1.65559401e-03, 1.65556965e-03,\n",
       "       1.65552828e-03, 1.65548200e-03, 1.65544415e-03, 1.65539592e-03,\n",
       "       1.65537491e-03, 1.65533530e-03, 1.65529825e-03, 1.65528858e-03,\n",
       "       1.65523651e-03, 1.65517284e-03, 1.65511292e-03, 1.65506330e-03,\n",
       "       1.65504625e-03, 1.65501659e-03, 1.65500457e-03, 1.65498906e-03,\n",
       "       1.65496233e-03, 1.65493545e-03, 1.65490391e-03, 1.65486943e-03,\n",
       "       1.65483433e-03, 1.65481839e-03, 1.65477028e-03, 1.65473931e-03,\n",
       "       1.65473047e-03, 1.65467593e-03, 1.65464627e-03, 1.65461362e-03,\n",
       "       1.65456592e-03, 1.65455510e-03, 1.65453569e-03, 1.65452782e-03,\n",
       "       1.65449448e-03, 1.65446070e-03, 1.65444433e-03, 1.65443155e-03,\n",
       "       1.65439920e-03, 1.65437298e-03, 1.65437005e-03, 1.65435364e-03,\n",
       "       1.65435004e-03, 1.65432148e-03, 1.65430631e-03, 1.65429517e-03,\n",
       "       1.65427127e-03, 1.65426224e-03, 1.65425503e-03, 1.65424272e-03,\n",
       "       1.65424010e-03, 1.65423914e-03, 1.65422266e-03, 1.65420408e-03,\n",
       "       1.65419953e-03, 1.65418768e-03, 1.65417866e-03, 1.65417038e-03,\n",
       "       1.65414542e-03, 1.65413904e-03, 1.65413501e-03, 1.65411957e-03,\n",
       "       1.65411049e-03, 1.65410041e-03, 1.65408838e-03, 1.65408564e-03,\n",
       "       1.65406615e-03, 1.65406131e-03, 1.65405027e-03, 1.65404299e-03,\n",
       "       1.65403342e-03, 1.65401301e-03, 1.65400837e-03, 1.65399470e-03,\n",
       "       1.65399291e-03, 1.65398391e-03, 1.65396932e-03, 1.65395750e-03,\n",
       "       1.65394253e-03, 1.65393130e-03, 1.65391073e-03, 1.65390559e-03,\n",
       "       1.65389466e-03, 1.65386641e-03, 1.65385886e-03, 1.65385434e-03,\n",
       "       1.65385335e-03, 1.65384105e-03, 1.65383252e-03, 1.65382899e-03,\n",
       "       1.65381606e-03, 1.65381552e-03, 1.65381338e-03, 1.65380458e-03,\n",
       "       1.65380224e-03, 1.65378649e-03, 1.65378215e-03, 1.65377769e-03,\n",
       "       1.65377242e-03, 1.65376482e-03, 1.65375652e-03, 1.65375535e-03,\n",
       "       1.65374352e-03, 1.65373497e-03, 1.65372963e-03, 1.65372086e-03,\n",
       "       1.65371260e-03, 1.65370948e-03, 1.65370437e-03, 1.65369813e-03,\n",
       "       1.65369262e-03, 1.65368151e-03, 1.65368036e-03, 1.65367427e-03,\n",
       "       1.65366166e-03, 1.65363750e-03, 1.65363149e-03, 1.65362185e-03,\n",
       "       1.65361734e-03, 1.65361020e-03, 1.65359548e-03, 1.65358324e-03,\n",
       "       1.65357163e-03, 1.65356644e-03, 1.65355856e-03, 1.65354627e-03,\n",
       "       1.65353546e-03, 1.65352975e-03, 1.65352531e-03, 1.65351881e-03,\n",
       "       1.65350800e-03, 1.65349352e-03, 1.65348776e-03, 1.65348156e-03,\n",
       "       1.65347483e-03, 1.65347320e-03, 1.65346598e-03, 1.65345450e-03,\n",
       "       1.65344759e-03, 1.65344089e-03, 1.65343454e-03, 1.65343219e-03,\n",
       "       1.65342684e-03, 1.65341670e-03, 1.65341546e-03, 1.65341174e-03,\n",
       "       1.65340929e-03, 1.65340087e-03, 1.65339291e-03, 1.65338317e-03,\n",
       "       1.65337770e-03, 1.65337471e-03, 1.65337146e-03, 1.65336628e-03,\n",
       "       1.65336041e-03, 1.65335716e-03, 1.65335172e-03, 1.65334831e-03,\n",
       "       1.65333910e-03, 1.65333565e-03, 1.65332802e-03, 1.65332566e-03,\n",
       "       1.65332467e-03, 1.65332274e-03, 1.65331940e-03, 1.65331494e-03,\n",
       "       1.65331267e-03, 1.65331116e-03, 1.65330426e-03, 1.65330005e-03,\n",
       "       1.65329494e-03, 1.65329425e-03, 1.65329319e-03, 1.65328390e-03,\n",
       "       1.65328213e-03, 1.65327819e-03, 1.65327525e-03, 1.65326910e-03,\n",
       "       1.65326401e-03, 1.65326156e-03, 1.65325242e-03, 1.65324731e-03,\n",
       "       1.65324284e-03, 1.65324028e-03, 1.65323906e-03, 1.65323060e-03,\n",
       "       1.65322486e-03, 1.65322160e-03, 1.65322055e-03, 1.65321776e-03,\n",
       "       1.65321398e-03, 1.65321281e-03, 1.65321151e-03, 1.65320677e-03,\n",
       "       1.65320619e-03, 1.65319559e-03, 1.65318923e-03, 1.65317862e-03,\n",
       "       1.65317453e-03, 1.65317172e-03, 1.65317099e-03, 1.65316916e-03,\n",
       "       1.65316765e-03, 1.65316635e-03, 1.65316424e-03, 1.65316238e-03,\n",
       "       1.65315923e-03, 1.65315829e-03, 1.65315551e-03, 1.65314832e-03,\n",
       "       1.65314289e-03, 1.65313394e-03, 1.65313227e-03, 1.65312810e-03,\n",
       "       1.65312571e-03, 1.65312068e-03, 1.65311520e-03, 1.65311183e-03,\n",
       "       1.65311068e-03, 1.65310826e-03, 1.65310699e-03, 1.65310655e-03,\n",
       "       1.65310465e-03, 1.65310169e-03, 1.65310050e-03, 1.65309748e-03,\n",
       "       1.65309692e-03, 1.65309528e-03, 1.65309328e-03, 1.65309078e-03,\n",
       "       1.65308955e-03, 1.65308813e-03, 1.65308488e-03, 1.65308197e-03,\n",
       "       1.65308032e-03, 1.65307911e-03, 1.65307753e-03, 1.65307440e-03,\n",
       "       1.65307407e-03, 1.65307204e-03, 1.65306732e-03, 1.65306367e-03,\n",
       "       1.65305827e-03, 1.65305522e-03, 1.65305079e-03, 1.65303328e-03,\n",
       "       1.65302274e-03, 1.65301969e-03, 1.65300863e-03, 1.65300234e-03,\n",
       "       1.65300002e-03, 1.65299915e-03, 1.65299513e-03, 1.65299357e-03,\n",
       "       1.65298940e-03, 1.65298610e-03, 1.65298303e-03, 1.65298056e-03,\n",
       "       1.65297937e-03, 1.65297785e-03, 1.65297628e-03, 1.65297417e-03,\n",
       "       1.65296305e-03, 1.65295260e-03, 1.65295234e-03, 1.65295005e-03,\n",
       "       1.65294281e-03, 1.65293645e-03, 1.65293438e-03, 1.65292930e-03,\n",
       "       1.65290425e-03, 1.65285573e-03, 1.65102817e-03, 1.65044189e-03,\n",
       "       1.64876705e-03, 1.64794050e-03, 1.64749303e-03, 1.64710035e-03,\n",
       "       1.64669479e-03, 1.64625222e-03, 1.64508784e-03, 1.64330060e-03,\n",
       "       1.64068526e-03, 1.63893640e-03, 1.63851071e-03, 1.63730964e-03,\n",
       "       1.63516154e-03, 1.63474154e-03, 1.63426448e-03, 1.63297361e-03,\n",
       "       1.63173578e-03, 1.62871019e-03, 1.62833998e-03, 1.62559106e-03,\n",
       "       1.62506556e-03, 1.62375401e-03, 1.62281225e-03, 1.62180450e-03,\n",
       "       1.62065225e-03, 1.61870243e-03, 1.61472537e-03, 1.61231280e-03,\n",
       "       1.61132798e-03, 1.61038395e-03, 1.60529252e-03, 1.60415558e-03,\n",
       "       1.60164062e-03, 1.60027490e-03, 1.59975219e-03, 1.59459604e-03,\n",
       "       1.59005720e-03, 1.58909289e-03, 1.58551708e-03, 1.58201826e-03,\n",
       "       1.58033078e-03, 1.57865966e-03, 1.57229040e-03, 1.57032482e-03,\n",
       "       1.56927078e-03, 1.56499064e-03, 1.56289629e-03, 1.56198956e-03,\n",
       "       1.55891106e-03, 1.54997502e-03, 1.54576003e-03, 1.54519074e-03,\n",
       "       1.54071673e-03, 1.53748156e-03, 1.52721276e-03, 1.52664452e-03,\n",
       "       1.52273122e-03, 1.51834925e-03, 1.51480902e-03, 1.51280443e-03,\n",
       "       1.50514191e-03, 1.50373140e-03, 1.50118025e-03, 1.49755128e-03,\n",
       "       1.49458613e-03, 1.49105642e-03, 1.48748685e-03, 1.48312866e-03,\n",
       "       1.47656511e-03, 1.46894049e-03, 1.45871928e-03, 1.45598141e-03,\n",
       "       1.44921384e-03, 1.44392860e-03, 1.44352357e-03, 1.43947918e-03,\n",
       "       1.43143285e-03, 1.42369525e-03, 1.41599364e-03, 1.41142003e-03,\n",
       "       1.40155047e-03, 1.40026807e-03, 1.39353169e-03, 1.39251463e-03,\n",
       "       1.38606958e-03, 1.38274591e-03, 1.37888473e-03, 1.37109654e-03,\n",
       "       1.36179408e-03, 1.35154413e-03, 1.34466721e-03, 1.33265793e-03,\n",
       "       1.32409694e-03, 1.32081227e-03, 1.31679575e-03, 1.31406923e-03,\n",
       "       1.30928831e-03, 1.30207119e-03, 1.28386793e-03, 1.27025091e-03,\n",
       "       1.26667567e-03, 1.25738758e-03, 1.25584166e-03, 1.24773522e-03,\n",
       "       1.23556500e-03, 1.23151719e-03, 1.22972409e-03, 1.21507314e-03,\n",
       "       1.20615087e-03, 1.17315404e-03, 1.17106626e-03, 1.16256160e-03,\n",
       "       1.14987183e-03, 1.14545381e-03, 1.14105433e-03, 1.10408790e-03,\n",
       "       1.09077609e-03, 1.06908407e-03, 1.05759692e-03, 1.05291385e-03,\n",
       "       1.03228980e-03, 1.00365769e-03, 9.90953201e-04, 9.86751241e-04,\n",
       "       9.28760360e-04, 9.11107638e-04, 8.90578524e-04, 8.83782691e-04,\n",
       "       8.53911452e-04, 8.37490787e-04, 7.36730636e-04, 7.03013258e-04,\n",
       "       6.74177053e-04, 6.69994383e-04, 6.25159342e-04, 6.13912439e-04,\n",
       "       5.91870157e-04, 5.43056274e-04, 5.36601799e-04, 5.17953769e-04,\n",
       "       5.13613378e-04, 4.75130855e-04, 4.45390934e-04, 4.41437233e-04,\n",
       "       3.84820338e-04, 3.52696795e-04, 3.41382003e-04, 3.31359202e-04,\n",
       "       2.32867292e-04, 1.27184678e-04, 3.40049208e-05, 1.05808750e-06,\n",
       "       9.57360550e-07, 1.37964751e-35])"
      ]
     },
     "execution_count": 53,
     "metadata": {},
     "output_type": "execute_result"
    }
   ],
   "source": [
    "#Análisis de la varianza explicada para cada componente\n",
    "explained_variance = pca.explained_variance_ratio_\n",
    "explained_variance"
   ]
  },
  {
   "cell_type": "code",
   "execution_count": 54,
   "metadata": {},
   "outputs": [
    {
     "data": {
      "image/png": "[encoded data removed]",
      "text/plain": [
       "<Figure size 2304x576 with 1 Axes>"
      ]
     },
     "metadata": {},
     "output_type": "display_data"
    }
   ],
   "source": [
    "# Porcentaje de varianza explicada por cada componente\n",
    "# ==============================================================================\n",
    "fig, ax = plt.subplots(nrows=1, ncols=1, figsize=(32, 8))\n",
    "ax.bar(\n",
    "    x      = np.arange(pca.n_components_) + 1,\n",
    "    height = pca.explained_variance_ratio_\n",
    ")\n",
    "\n",
    "for x, y in zip(np.arange(len(df_dummy.columns)) + 1, pca.explained_variance_ratio_):\n",
    "    label = round(y, 2)\n",
    "    ax.annotate(\n",
    "        label,\n",
    "        (x,y),\n",
    "        textcoords=\"offset points\",\n",
    "        xytext=(0,10),\n",
    "        ha='center'\n",
    "    )\n",
    "\n",
    "ax.set_xticks(np.arange(pca.n_components_) + 1)\n",
    "#ax.set_ylim(0, 1.1)\n",
    "ax.set_title('Porcentaje de varianza explicada por cada componente')\n",
    "ax.set_xlabel('Componente principal')\n",
    "ax.set_ylabel('Por. varianza explicada');\n",
    "\n"
   ]
  },
  {
   "cell_type": "code",
   "execution_count": 55,
   "metadata": {},
   "outputs": [
    {
     "data": {
      "text/plain": [
       "array([0.00488742, 0.00896389, 0.01287603, 0.01658979, 0.0201379 ,\n",
       "       0.02354116, 0.02676902, 0.02982446, 0.03269086, 0.03554084,\n",
       "       0.03833496, 0.04110434, 0.04385582, 0.04659321, 0.04931826,\n",
       "       0.05198932, 0.05461363, 0.05719822, 0.0597562 , 0.06222724,\n",
       "       0.06465265, 0.0670728 , 0.06945775, 0.07182099, 0.07415085,\n",
       "       0.07647527, 0.07877752, 0.08105836, 0.08332638, 0.08558102,\n",
       "       0.08780081, 0.09000188, 0.09219441, 0.09437184, 0.09653204,\n",
       "       0.09867695, 0.10082112, 0.10294594, 0.1050614 , 0.10716914,\n",
       "       0.10925704, 0.11133666, 0.11341164, 0.11548382, 0.11755033,\n",
       "       0.11959961, 0.12163836, 0.12367353, 0.12570717, 0.12773975,\n",
       "       0.12976694, 0.13178475, 0.13379179, 0.13579186, 0.13778945,\n",
       "       0.13977121, 0.14174295, 0.14371329, 0.145677  , 0.14762738,\n",
       "       0.14957734, 0.15151845, 0.15344866, 0.15537311, 0.15729638,\n",
       "       0.15920692, 0.1611137 , 0.16301469, 0.16491043, 0.16680099,\n",
       "       0.16868577, 0.17056935, 0.17244563, 0.17431968, 0.17618834,\n",
       "       0.17805413, 0.1799069 , 0.18175165, 0.18359129, 0.18541629,\n",
       "       0.18723921, 0.18905821, 0.19087628, 0.19268906, 0.19449859,\n",
       "       0.19630366, 0.19810511, 0.19989957, 0.20168713, 0.20347366,\n",
       "       0.20525705, 0.20703391, 0.20880794, 0.21057507, 0.21234122,\n",
       "       0.21410419, 0.21586314, 0.21761916, 0.21937414, 0.221126  ,\n",
       "       0.2228772 , 0.22462385, 0.22636895, 0.22810902, 0.2298455 ,\n",
       "       0.23157784, 0.23330982, 0.23503734, 0.23676301, 0.23848583,\n",
       "       0.24020393, 0.24192063, 0.24363343, 0.24534561, 0.24705423,\n",
       "       0.24875803, 0.25046112, 0.25216225, 0.25386038, 0.25555626,\n",
       "       0.2572498 , 0.25894115, 0.26063197, 0.26232142, 0.26400872,\n",
       "       0.2656958 , 0.26738111, 0.26906359, 0.27074567, 0.27242586,\n",
       "       0.27410535, 0.27578288, 0.27745708, 0.27913043, 0.28080209,\n",
       "       0.28247279, 0.28414058, 0.28580806, 0.28747305, 0.28913671,\n",
       "       0.29079994, 0.29246234, 0.29412379, 0.29578503, 0.2974456 ,\n",
       "       0.29910582, 0.30076538, 0.30242473, 0.30408361, 0.30574244,\n",
       "       0.3074006 , 0.30905844, 0.31071613, 0.31237371, 0.31403104,\n",
       "       0.31568826, 0.31734523, 0.31900215, 0.32065885, 0.32231552,\n",
       "       0.32397209, 0.32562856, 0.32728494, 0.32894127, 0.33059755,\n",
       "       0.33225369, 0.3339098 , 0.33556582, 0.33722182, 0.33887775,\n",
       "       0.34053366, 0.34218951, 0.34384531, 0.34550106, 0.34715678,\n",
       "       0.34881246, 0.35046812, 0.35212373, 0.35377932, 0.35543489,\n",
       "       0.35709042, 0.3587459 , 0.36040135, 0.36205674, 0.36371212,\n",
       "       0.36536745, 0.36702275, 0.36867804, 0.37033328, 0.37198845,\n",
       "       0.37364356, 0.37529862, 0.37695367, 0.37860869, 0.38026369,\n",
       "       0.38191868, 0.38357364, 0.38522858, 0.38688348, 0.38853835,\n",
       "       0.39019319, 0.39184801, 0.39350278, 0.39515751, 0.39681225,\n",
       "       0.39846692, 0.40012157, 0.40177618, 0.40343075, 0.4050853 ,\n",
       "       0.40673984, 0.40839437, 0.41004886, 0.41170332, 0.41335777,\n",
       "       0.4150122 , 0.4166666 , 0.41832097, 0.41997534, 0.42162969,\n",
       "       0.42328404, 0.42493836, 0.42659267, 0.42824697, 0.42990124,\n",
       "       0.4315555 , 0.43320975, 0.434864  , 0.43651824, 0.43817248,\n",
       "       0.4398267 , 0.4414809 , 0.4431351 , 0.44478929, 0.44644347,\n",
       "       0.44809764, 0.44975178, 0.45140592, 0.45306006, 0.45471418,\n",
       "       0.45636829, 0.45802239, 0.45967648, 0.46133056, 0.46298463,\n",
       "       0.46463869, 0.46629274, 0.46794678, 0.46960082, 0.47125483,\n",
       "       0.47290884, 0.47456283, 0.47621683, 0.47787081, 0.47952478,\n",
       "       0.48117874, 0.48283268, 0.48448661, 0.48614052, 0.48779443,\n",
       "       0.48944832, 0.49110219, 0.49275605, 0.4944099 , 0.49606375,\n",
       "       0.4977176 , 0.49937143, 0.50102526, 0.50267907, 0.50433289,\n",
       "       0.5059867 , 0.50764051, 0.50929431, 0.5109481 , 0.51260188,\n",
       "       0.51425566, 0.51590943, 0.51756319, 0.51921695, 0.5208707 ,\n",
       "       0.52252445, 0.52417818, 0.52583191, 0.52748563, 0.52913935,\n",
       "       0.53079306, 0.53244676, 0.53410046, 0.53575415, 0.53740783,\n",
       "       0.53906151, 0.54071519, 0.54236885, 0.54402249, 0.54567612,\n",
       "       0.54732974, 0.54898336, 0.55063697, 0.55229056, 0.55394415,\n",
       "       0.55559772, 0.55725128, 0.55890484, 0.56055839, 0.56221192,\n",
       "       0.56386545, 0.56551898, 0.5671725 , 0.56882601, 0.5704795 ,\n",
       "       0.57213299, 0.57378647, 0.57543994, 0.57709342, 0.57874688,\n",
       "       0.58040034, 0.58205378, 0.58370723, 0.58536066, 0.58701409,\n",
       "       0.58866752, 0.59032094, 0.59197435, 0.59362776, 0.59528117,\n",
       "       0.59693457, 0.59858797, 0.60024135, 0.60189473, 0.6035481 ,\n",
       "       0.60520147, 0.60685484, 0.6085082 , 0.61016156, 0.61181491,\n",
       "       0.61346826, 0.6151216 , 0.61677493, 0.61842826, 0.62008159,\n",
       "       0.62173491, 0.62338823, 0.62504155, 0.62669487, 0.62834818,\n",
       "       0.63000149, 0.6316548 , 0.6333081 , 0.63496139, 0.63661468,\n",
       "       0.63826798, 0.63992126, 0.64157454, 0.64322782, 0.6448811 ,\n",
       "       0.64653437, 0.64818763, 0.64984089, 0.65149414, 0.65314739,\n",
       "       0.65480063, 0.65645387, 0.65810711, 0.65976034, 0.66141357,\n",
       "       0.66306679, 0.66472001, 0.66637323, 0.66802644, 0.66967966,\n",
       "       0.67133287, 0.67298607, 0.67463928, 0.67629248, 0.67794567,\n",
       "       0.67959884, 0.68125202, 0.68290519, 0.68455836, 0.68621153,\n",
       "       0.6878647 , 0.68951786, 0.69117103, 0.69282419, 0.69447735,\n",
       "       0.69613051, 0.69778366, 0.69943681, 0.70108996, 0.70274309,\n",
       "       0.70439622, 0.70604935, 0.70770248, 0.7093556 , 0.71100871,\n",
       "       0.71266182, 0.71431493, 0.71596804, 0.71762115, 0.71927426,\n",
       "       0.72092736, 0.72258046, 0.72423356, 0.72588666, 0.72753976,\n",
       "       0.72919285, 0.73084595, 0.73249904, 0.73415213, 0.73580521,\n",
       "       0.7374583 , 0.73911138, 0.74076446, 0.74241754, 0.74407062,\n",
       "       0.74572369, 0.74737677, 0.74902984, 0.75068291, 0.75233597,\n",
       "       0.75398903, 0.75564208, 0.75729513, 0.75894817, 0.76060119,\n",
       "       0.76225421, 0.76390722, 0.76556022, 0.76721322, 0.76886622,\n",
       "       0.77051921, 0.77217221, 0.7738252 , 0.77547818, 0.77713117,\n",
       "       0.77878415, 0.78043713, 0.7820901 , 0.78374308, 0.78539605,\n",
       "       0.78704902, 0.78870197, 0.79035492, 0.79200787, 0.79366082,\n",
       "       0.79531375, 0.79696669, 0.79861962, 0.80027252, 0.80192538,\n",
       "       0.8035764 , 0.80522685, 0.80687561, 0.80852355, 0.81017105,\n",
       "       0.81181815, 0.81346484, 0.81511109, 0.81675618, 0.81839948,\n",
       "       0.82004017, 0.8216791 , 0.82331761, 0.82495492, 0.82659009,\n",
       "       0.82822483, 0.82985909, 0.83149207, 0.8331238 , 0.83475251,\n",
       "       0.83638085, 0.83800644, 0.83963151, 0.84125526, 0.84287807,\n",
       "       0.84449988, 0.84612053, 0.84773923, 0.84935396, 0.85096627,\n",
       "       0.8525776 , 0.85418798, 0.85579328, 0.85739743, 0.85899907,\n",
       "       0.86059935, 0.8621991 , 0.86379369, 0.86538375, 0.86697285,\n",
       "       0.86855836, 0.87014038, 0.87172071, 0.87329937, 0.87487166,\n",
       "       0.87644199, 0.87801126, 0.87957625, 0.88113914, 0.88270113,\n",
       "       0.88426004, 0.88581002, 0.88735578, 0.88890097, 0.89044169,\n",
       "       0.89197917, 0.89350638, 0.89503303, 0.89655576, 0.89807411,\n",
       "       0.89958892, 0.90110172, 0.90260686, 0.90411059, 0.90561177,\n",
       "       0.90710932, 0.90860391, 0.91009497, 0.91158245, 0.91306558,\n",
       "       0.91454215, 0.91601109, 0.91746981, 0.91892579, 0.920375  ,\n",
       "       0.92181893, 0.92326245, 0.92470193, 0.92613337, 0.92755706,\n",
       "       0.92897306, 0.93038448, 0.93178603, 0.93318629, 0.93457983,\n",
       "       0.93597234, 0.93735841, 0.93874116, 0.94012004, 0.94149114,\n",
       "       0.94285293, 0.94420448, 0.94554914, 0.9468818 , 0.9482059 ,\n",
       "       0.94952671, 0.95084351, 0.95215757, 0.95346686, 0.95476893,\n",
       "       0.9560528 , 0.95732305, 0.95858973, 0.95984712, 0.96110296,\n",
       "       0.96235069, 0.96358626, 0.96481778, 0.9660475 , 0.96726257,\n",
       "       0.96846872, 0.96964188, 0.97081294, 0.97197551, 0.97312538,\n",
       "       0.97427083, 0.97541189, 0.97651597, 0.97760675, 0.97867583,\n",
       "       0.97973343, 0.98078634, 0.98181863, 0.98282229, 0.98381325,\n",
       "       0.9848    , 0.98572876, 0.98663986, 0.98753044, 0.98841423,\n",
       "       0.98926814, 0.99010563, 0.99084236, 0.99154537, 0.99221955,\n",
       "       0.99288954, 0.9935147 , 0.99412861, 0.99472049, 0.99526354,\n",
       "       0.99580014, 0.9963181 , 0.99683171, 0.99730684, 0.99775223,\n",
       "       0.99819367, 0.99857849, 0.99893119, 0.99927257, 0.99960393,\n",
       "       0.99983679, 0.99996398, 0.99999798, 0.99999904, 1.        ,\n",
       "       1.        ])"
      ]
     },
     "execution_count": 55,
     "metadata": {},
     "output_type": "execute_result"
    }
   ],
   "source": [
    "prop_varianza_acum = pca.explained_variance_ratio_.cumsum()\n",
    "prop_varianza_acum"
   ]
  },
  {
   "cell_type": "code",
   "execution_count": 56,
   "metadata": {},
   "outputs": [
    {
     "data": {
      "image/png": "[encoded data removed]",
      "text/plain": [
       "<Figure size 2160x864 with 1 Axes>"
      ]
     },
     "metadata": {},
     "output_type": "display_data"
    }
   ],
   "source": [
    "# Porcentaje de varianza explicada acumulada\n",
    "# ==============================================================================\n",
    "\n",
    "fig, ax = plt.subplots(nrows=1, ncols=1, figsize=(30, 12))\n",
    "ax.plot(\n",
    "    np.arange(len(df_dummy.columns)-1),\n",
    "    prop_varianza_acum,\n",
    "    marker = 'o'\n",
    ")\n",
    "\n",
    "for x, y in zip(np.arange(len(df_dummy.columns)), prop_varianza_acum):\n",
    "    label = round(y, 2)\n",
    "    ax.annotate(\n",
    "        label,\n",
    "        (x,y),\n",
    "        textcoords=\"offset points\",\n",
    "        xytext=(0,10),\n",
    "        ha='center'\n",
    "    )\n",
    "    \n",
    "ax.set_ylim(0, 1.1)\n",
    "ax.set_xticks(np.arange(pca.n_components_) + 1)\n",
    "ax.set_title('Porcentaje de varianza explicada acumulada')\n",
    "ax.set_xlabel('Componente principal')\n",
    "ax.set_ylabel('Por. varianza acumulada');"
   ]
  },
  {
   "cell_type": "markdown",
   "metadata": {},
   "source": [
    "Aplicamos el modelo RandomForest con todas las componentes obtenidas al aplicar PCA y vemos como funciona"
   ]
  },
  {
   "cell_type": "markdown",
   "metadata": {},
   "source": [
    "##### Random Forest\n",
    "\n",
    "- Un grupo de modelos “débiles”, se combinan en un modelo robusto.\n",
    "- Sirve como una técnica para reducción de la dimensionalidad.\n",
    "- Se generan múltiples árboles (a diferencia de CART).\n",
    "- Cada árbol da una classificación (vota por una clase). Y el resultado es la clase con mayor número de votos en todo el bosque (forest).\n",
    "\n",
    "https://bookdown.org/content/2031/ensambladores-random-forest-parte-i.html\n"
   ]
  },
  {
   "cell_type": "code",
   "execution_count": 57,
   "metadata": {},
   "outputs": [],
   "source": [
    "from sklearn.ensemble import RandomForestClassifier\n",
    "\n",
    "# Creación del modelo\n",
    "model_rf_ini = RandomForestClassifier(max_depth=2, random_state=0)\n",
    "model_rf_ini.fit(X_train, y_train)\n",
    "\n",
    "# Predicción\n",
    "y_pred_ini = model_rf_ini.predict(X_test)"
   ]
  },
  {
   "cell_type": "code",
   "execution_count": 58,
   "metadata": {},
   "outputs": [
    {
     "name": "stdout",
     "output_type": "stream",
     "text": [
      "El % de aciertos sobre el set de evaluación es: 0.5989160394032654\n",
      "El % de precisión sobre la evaluación es: 0.758959496713084\n",
      "Recall o la Sensibilidad del algoritmo es: 0.14865426150523342\n",
      "La especificidad del modelo es: 0.2486136034732272\n"
     ]
    }
   ],
   "source": [
    "test_accuracy = accuracy_score(y_test, y_pred_ini)\n",
    "test_prec = precision_score(y_test, y_pred_ini)\n",
    "test_recall = recall_score(y_test, y_pred_ini)\n",
    "test_f1 = f1_score(y_test, y_pred_ini)\n",
    "\n",
    "print('El % de aciertos sobre el set de evaluación es:',test_accuracy)\n",
    "print('El % de precisión sobre la evaluación es:',test_prec)\n",
    "print('Recall o la Sensibilidad del algoritmo es:',test_recall)\n",
    "print('La especificidad del modelo es:',test_f1)\n"
   ]
  },
  {
   "cell_type": "markdown",
   "metadata": {
    "tags": []
   },
   "source": [
    "##### Probamos aplicar nuevamente el método PCA pero esta vez considerando 400 componentes principales \n",
    "(de un total de 600 aprox)\n",
    "Según el análisis anteriormente planteado sobre la varianza acumulada al aplicar PCA, los primeros 400 componentes representan aproximadamente un 75% del peso del modelo."
   ]
  },
  {
   "cell_type": "code",
   "execution_count": 59,
   "metadata": {},
   "outputs": [],
   "source": [
    "#Separamos los datos de entrada de la salida\n",
    "X = df_dummy.drop(['Delay'], axis=1) #Elimino de mi dataset la variable a predecir\n",
    "y = df_dummy.Delay #Defino el Target\n",
    "\n",
    "#Me quedo con 30% para test y 70% para train\n",
    "X_train, X_test, y_train, y_test = train_test_split(X, y, test_size=0.30, random_state=11) \n",
    "\n",
    "sc = StandardScaler()\n",
    "X_train = sc.fit_transform(X_train)\n",
    "X_test = sc.transform(X_test)"
   ]
  },
  {
   "cell_type": "code",
   "execution_count": 60,
   "metadata": {},
   "outputs": [],
   "source": [
    "pca2 = PCA(n_components=400)\n",
    "X_train_2 = pca2.fit_transform(X_train)\n",
    "X_test_2 = pca2.transform(X_test)"
   ]
  },
  {
   "cell_type": "code",
   "execution_count": 61,
   "metadata": {},
   "outputs": [],
   "source": [
    "from sklearn.ensemble import RandomForestClassifier\n",
    "\n",
    "# Creación del modelo\n",
    "model_rf2 = RandomForestClassifier(max_depth=2, random_state=0)\n",
    "model_rf2.fit(X_train_2, y_train)\n",
    "\n",
    "# Predicción\n",
    "y_pred2 = model_rf2.predict(X_test_2)"
   ]
  },
  {
   "cell_type": "markdown",
   "metadata": {},
   "source": [
    "#### Matriz de confusión"
   ]
  },
  {
   "cell_type": "code",
   "execution_count": 62,
   "metadata": {},
   "outputs": [
    {
     "name": "stdout",
     "output_type": "stream",
     "text": [
      "[[83242  6344]\n",
      " [55785 16443]]\n"
     ]
    },
    {
     "data": {
      "text/plain": [
       "<AxesSubplot:>"
      ]
     },
     "execution_count": 62,
     "metadata": {},
     "output_type": "execute_result"
    },
    {
     "data": {
      "image/png": "[encoded data removed]",
      "text/plain": [
       "<Figure size 504x360 with 2 Axes>"
      ]
     },
     "metadata": {},
     "output_type": "display_data"
    }
   ],
   "source": [
    "import matplotlib.pyplot as plt\n",
    "from sklearn.metrics import confusion_matrix\n",
    "from sklearn.metrics import plot_confusion_matrix\n",
    "\n",
    "#Matriz de Confusión\n",
    "print(confusion_matrix(y_test, y_pred2))\n",
    "\n",
    "#Ploteamos la Matriz\n",
    "#plot_confusion_matrix(classifier, X_test_2, y_test)\n",
    "#plt.show()\n",
    "\n",
    "mat = confusion_matrix(y_test, y_pred2)\n",
    "plt.figure(figsize=(7, 5))\n",
    "sns.heatmap(mat, annot=True, fmt=\".1f\") #Plot a través de Seaborn"
   ]
  },
  {
   "cell_type": "markdown",
   "metadata": {},
   "source": [
    "En la matriz de confusión podemos observar:\n",
    "Verdaderos Positivos: 83338\n",
    "Verdaderos Negativos: 16273\n",
    "Falsos Positivos: 55955\n",
    "Falsos Negativos: 6248"
   ]
  },
  {
   "cell_type": "code",
   "execution_count": 63,
   "metadata": {},
   "outputs": [
    {
     "data": {
      "image/png": "[encoded data removed]",
      "text/plain": [
       "<Figure size 432x288 with 2 Axes>"
      ]
     },
     "metadata": {},
     "output_type": "display_data"
    }
   ],
   "source": [
    "#Ploteamos la Matriz\n",
    "from sklearn.metrics import confusion_matrix\n",
    "from sklearn.metrics import plot_confusion_matrix\n",
    "plot_confusion_matrix(model_rf2, X_test_2, y_test)\n",
    "plt.show()"
   ]
  },
  {
   "cell_type": "markdown",
   "metadata": {},
   "source": [
    "#### Métricas del modelo"
   ]
  },
  {
   "cell_type": "code",
   "execution_count": 64,
   "metadata": {},
   "outputs": [
    {
     "name": "stdout",
     "output_type": "stream",
     "text": [
      "El % de aciertos sobre el set de evaluación es: 0.6160468191874622\n",
      "El % de precisión sobre la evaluación es: 0.7215956466406285\n",
      "Recall o la Sensibilidad del algoritmo es: 0.2276540953646785\n",
      "La especificidad del modelo es: 0.34611377150976164\n"
     ]
    }
   ],
   "source": [
    "#Calculo de metricas del algoritmo seleccionado\n",
    "from sklearn.metrics import accuracy_score, precision_score, recall_score, f1_score\n",
    "\n",
    "test_accuracy = accuracy_score(y_test, y_pred2)\n",
    "test_prec = precision_score(y_test, y_pred2)\n",
    "test_recall = recall_score(y_test, y_pred2)\n",
    "test_f1 = f1_score(y_test, y_pred2)\n",
    "\n",
    "print('El % de aciertos sobre el set de evaluación es:',test_accuracy)\n",
    "print('El % de precisión sobre la evaluación es:',test_prec)\n",
    "print('Recall o la Sensibilidad del algoritmo es:',test_recall)\n",
    "print('La especificidad del modelo es:',test_f1)\n"
   ]
  },
  {
   "cell_type": "markdown",
   "metadata": {},
   "source": [
    "#### Curva ROC\n",
    "\n",
    "La curva AUC-ROC es una métrica de rendimiento que se utiliza para medir el rendimiento del modelo de clasificación en diferentes valores de umbral. Cuanto mayor sea el valor de AUC (Área bajo la curva), mejor será nuestro clasificador para predecir las clases. AUC-ROC se utiliza principalmente en problemas de clasificación binaria.\n",
    "\n",
    "La curva ROC se traza entre la tasa de verdaderos positivos (TPR) y la tasa de falsos positivos (FPR), es decir, TPR en el eje y y FPR en el eje y. AUC es el área bajo la curva ROC.\n",
    "\n",
    "Un clasificador excelente tiene un valor AUC cercano a 1, mientras que un clasificador de bajo rendimiento tiene un valor AUC cercano a 0. Un clasificador con una puntuación AUC de 0.5 no tiene ninguna capacidad de separación de clases."
   ]
  },
  {
   "cell_type": "code",
   "execution_count": 65,
   "metadata": {},
   "outputs": [
    {
     "data": {
      "image/png": "[encoded data removed]",
      "text/plain": [
       "<Figure size 432x288 with 1 Axes>"
      ]
     },
     "metadata": {},
     "output_type": "display_data"
    }
   ],
   "source": [
    "import matplotlib.pyplot as plt\n",
    "from sklearn.metrics import roc_curve\n",
    "y_pred_proba = model_rf2.predict_proba(X_test_2)[:,1]\n",
    "fpr, tpr, thresholds = roc_curve(y_test, y_pred2)\n",
    "\n",
    "from sklearn.metrics import roc_auc_score\n",
    "auc = roc_auc_score(y_test,y_pred_proba)\n",
    "\n",
    "plt.plot([0,1],[0,1],'k-')\n",
    "plt.plot(fpr,tpr, label=\"AUC=\"+str(auc))\n",
    "plt.xlabel('fpr')\n",
    "plt.ylabel('tpr')\n",
    "plt.title('ROC curve')\n",
    "plt.legend(loc=4)\n",
    "plt.show()"
   ]
  },
  {
   "cell_type": "markdown",
   "metadata": {},
   "source": [
    "#### Parametrizamos el modelo de otra manera"
   ]
  },
  {
   "cell_type": "code",
   "execution_count": 66,
   "metadata": {},
   "outputs": [],
   "source": [
    "# Creación del modelo\n",
    "model_rf3 = RandomForestClassifier(max_depth=10, random_state=0)\n",
    "model_rf3.fit(X_train_2, y_train)\n",
    "\n",
    "# Predicción\n",
    "y_pred3 = model_rf3.predict(X_test_2)"
   ]
  },
  {
   "cell_type": "code",
   "execution_count": 67,
   "metadata": {},
   "outputs": [
    {
     "name": "stdout",
     "output_type": "stream",
     "text": [
      "El % de aciertos sobre el set de evaluación es: 0.6494493677926508\n",
      "El % de precisión sobre la evaluación es: 0.6968411964857041\n",
      "Recall o la Sensibilidad del algoritmo es: 0.3799496040316775\n",
      "La especificidad del modelo es: 0.49176597079114776\n"
     ]
    }
   ],
   "source": [
    "test_accuracy = accuracy_score(y_test, y_pred3)\n",
    "test_prec = precision_score(y_test, y_pred3)\n",
    "test_recall = recall_score(y_test, y_pred3)\n",
    "test_f1 = f1_score(y_test, y_pred3)\n",
    "\n",
    "print('El % de aciertos sobre el set de evaluación es:',test_accuracy)\n",
    "print('El % de precisión sobre la evaluación es:',test_prec)\n",
    "print('Recall o la Sensibilidad del algoritmo es:',test_recall)\n",
    "print('La especificidad del modelo es:',test_f1)"
   ]
  },
  {
   "cell_type": "code",
   "execution_count": 68,
   "metadata": {},
   "outputs": [
    {
     "data": {
      "image/png": "[encoded data removed]",
      "text/plain": [
       "<Figure size 432x288 with 2 Axes>"
      ]
     },
     "metadata": {},
     "output_type": "display_data"
    }
   ],
   "source": [
    "#Ploteamos la Matriz\n",
    "from sklearn.metrics import confusion_matrix\n",
    "from sklearn.metrics import plot_confusion_matrix\n",
    "plot_confusion_matrix(model_rf3, X_test_2, y_test)\n",
    "plt.show()"
   ]
  },
  {
   "cell_type": "code",
   "execution_count": 69,
   "metadata": {},
   "outputs": [
    {
     "data": {
      "image/png": "[encoded data removed]",
      "text/plain": [
       "<Figure size 432x288 with 1 Axes>"
      ]
     },
     "metadata": {},
     "output_type": "display_data"
    }
   ],
   "source": [
    "y_pred_proba3 = model_rf3.predict_proba(X_test_2)[:,1]\n",
    "fpr, tpr, thresholds = roc_curve(y_test, y_pred3)\n",
    "auc = roc_auc_score(y_test,y_pred_proba)\n",
    "\n",
    "plt.plot([0,1],[0,1],'k-')\n",
    "plt.plot(fpr,tpr, label=\"AUC=\"+str(auc))\n",
    "plt.xlabel('fpr')\n",
    "plt.ylabel('tpr')\n",
    "plt.title('ROC curve')\n",
    "plt.legend(loc=4)\n",
    "plt.show()"
   ]
  },
  {
   "cell_type": "markdown",
   "metadata": {},
   "source": [
    "Podemos observar que los modelos no son  muy efectivos ya que sólo tenemos un poco más de probabilidad de acierto que tirando una moneda."
   ]
  },
  {
   "cell_type": "code",
   "execution_count": null,
   "metadata": {},
   "outputs": [],
   "source": []
  }
 ],
 "metadata": {
  "kernelspec": {
   "display_name": "Python 3",
   "language": "python",
   "name": "python3"
  },
  "language_info": {
   "codemirror_mode": {
    "name": "ipython",
    "version": 3
   },
   "file_extension": ".py",
   "mimetype": "text/x-python",
   "name": "python",
   "nbconvert_exporter": "python",
   "pygments_lexer": "ipython3",
   "version": "3.7.9"
  }
 },
 "nbformat": 4,
 "nbformat_minor": 5
}
