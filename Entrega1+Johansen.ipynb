{
 "cells": [
  {
   "cell_type": "markdown",
   "id": "b2641185-5b10-4741-86fc-dde5be45f166",
   "metadata": {
    "raw_mimetype": "notebook",
    "slideshow": {
     "slide_type": "fragment"
    },
    "tags": []
   },
   "source": [
    "# Trabajo Práctico Final - Curso Data Science - Coder House"
   ]
  },
  {
   "cell_type": "markdown",
   "id": "f46e4f89-f690-4ccb-b66e-3dc3378f7bce",
   "metadata": {},
   "source": [
    "#### Empresa / Organización / Problema Específico\n",
    "Predicción de retrasos en la aviación comercial en Estados Unidos."
   ]
  },
  {
   "cell_type": "markdown",
   "id": "936bafd4-b5d5-4816-b01b-977e586ace61",
   "metadata": {},
   "source": [
    "#### Objetivo de la Investigación\n",
    "\n",
    "Mejorar los servicios prestados a los pasajeros mediante la predicción de retrasos; conociendo la aerolinea que opera el vuelo, el día de la semana en la que está programado, su origen y destino."
   ]
  },
  {
   "cell_type": "markdown",
   "id": "448f8ac3-041a-42c8-8e09-771df043e646",
   "metadata": {},
   "source": [
    "#### Equipo\n",
    "El equipos se encuentra conformado por:\n",
    "* Iván Arango \n",
    "* Natalia Johansen \n",
    "* Ignacio Piana\n"
   ]
  },
  {
   "cell_type": "markdown",
   "id": "e0e0f520-496d-4f6f-aed2-bb843c45f0d0",
   "metadata": {},
   "source": [
    "#### Fuente de datos\n",
    "El dataset a utilizar se obtuvo de Kaggle --> https://www.kaggle.com/datasets/jimschacko/airlines-dataset-to-predict-a-delay\n",
    "\n",
    "// Detallar criterios de seleccion (Data Acquisition)"
   ]
  },
  {
   "cell_type": "markdown",
   "id": "c79aca97-539e-4152-9f65-f3cdddb1d863",
   "metadata": {},
   "source": [
    "## Análisis de datos - Airlines"
   ]
  },
  {
   "cell_type": "markdown",
   "id": "d173b0c9-32a7-4dd3-9dea-564264fcabcc",
   "metadata": {},
   "source": [
    "### 1. Carga de datos "
   ]
  },
  {
   "cell_type": "code",
   "execution_count": 2,
   "id": "8eb9e376-c110-4c82-85fd-4ad91779cb99",
   "metadata": {},
   "outputs": [],
   "source": [
    "# Importamos librerias a utilizar\n",
    "import pandas as pd\n",
    "import numpy as np\n",
    "import matplotlib.pyplot as plt\n",
    "import matplotlib as mpl\n",
    "import seaborn as sns"
   ]
  },
  {
   "cell_type": "code",
   "execution_count": 3,
   "id": "cd200c22-1332-402a-92b9-f2ceb045ce34",
   "metadata": {},
   "outputs": [
    {
     "data": {
      "text/html": [
       "<div>\n",
       "<style scoped>\n",
       "    .dataframe tbody tr th:only-of-type {\n",
       "        vertical-align: middle;\n",
       "    }\n",
       "\n",
       "    .dataframe tbody tr th {\n",
       "        vertical-align: top;\n",
       "    }\n",
       "\n",
       "    .dataframe thead th {\n",
       "        text-align: right;\n",
       "    }\n",
       "</style>\n",
       "<table border=\"1\" class=\"dataframe\">\n",
       "  <thead>\n",
       "    <tr style=\"text-align: right;\">\n",
       "      <th></th>\n",
       "      <th>id</th>\n",
       "      <th>Airline</th>\n",
       "      <th>Flight</th>\n",
       "      <th>AirportFrom</th>\n",
       "      <th>AirportTo</th>\n",
       "      <th>DayOfWeek</th>\n",
       "      <th>Time</th>\n",
       "      <th>Length</th>\n",
       "      <th>Delay</th>\n",
       "    </tr>\n",
       "  </thead>\n",
       "  <tbody>\n",
       "    <tr>\n",
       "      <th>0</th>\n",
       "      <td>1</td>\n",
       "      <td>CO</td>\n",
       "      <td>269</td>\n",
       "      <td>SFO</td>\n",
       "      <td>IAH</td>\n",
       "      <td>3</td>\n",
       "      <td>15</td>\n",
       "      <td>205</td>\n",
       "      <td>1</td>\n",
       "    </tr>\n",
       "    <tr>\n",
       "      <th>1</th>\n",
       "      <td>2</td>\n",
       "      <td>US</td>\n",
       "      <td>1558</td>\n",
       "      <td>PHX</td>\n",
       "      <td>CLT</td>\n",
       "      <td>3</td>\n",
       "      <td>15</td>\n",
       "      <td>222</td>\n",
       "      <td>1</td>\n",
       "    </tr>\n",
       "    <tr>\n",
       "      <th>2</th>\n",
       "      <td>3</td>\n",
       "      <td>AA</td>\n",
       "      <td>2400</td>\n",
       "      <td>LAX</td>\n",
       "      <td>DFW</td>\n",
       "      <td>3</td>\n",
       "      <td>20</td>\n",
       "      <td>165</td>\n",
       "      <td>1</td>\n",
       "    </tr>\n",
       "    <tr>\n",
       "      <th>3</th>\n",
       "      <td>4</td>\n",
       "      <td>AA</td>\n",
       "      <td>2466</td>\n",
       "      <td>SFO</td>\n",
       "      <td>DFW</td>\n",
       "      <td>3</td>\n",
       "      <td>20</td>\n",
       "      <td>195</td>\n",
       "      <td>1</td>\n",
       "    </tr>\n",
       "    <tr>\n",
       "      <th>4</th>\n",
       "      <td>5</td>\n",
       "      <td>AS</td>\n",
       "      <td>108</td>\n",
       "      <td>ANC</td>\n",
       "      <td>SEA</td>\n",
       "      <td>3</td>\n",
       "      <td>30</td>\n",
       "      <td>202</td>\n",
       "      <td>0</td>\n",
       "    </tr>\n",
       "  </tbody>\n",
       "</table>\n",
       "</div>"
      ],
      "text/plain": [
       "   id Airline  Flight AirportFrom AirportTo  DayOfWeek  Time  Length  Delay\n",
       "0   1      CO     269         SFO       IAH          3    15     205      1\n",
       "1   2      US    1558         PHX       CLT          3    15     222      1\n",
       "2   3      AA    2400         LAX       DFW          3    20     165      1\n",
       "3   4      AA    2466         SFO       DFW          3    20     195      1\n",
       "4   5      AS     108         ANC       SEA          3    30     202      0"
      ]
     },
     "execution_count": 3,
     "metadata": {},
     "output_type": "execute_result"
    }
   ],
   "source": [
    "# Lectura del csv\n",
    "df_air = pd.read_csv('Airlines.csv', sep=',')\n",
    "df_air.head()"
   ]
  },
  {
   "cell_type": "markdown",
   "id": "903f6f92-07a2-4d71-ab56-92a67787512e",
   "metadata": {},
   "source": [
    "**Data Features**\n",
    "\n",
    "1. **Airline:** Diferentes tipos de aerolineas comerciales\n",
    "2. **Flight:** Número de Vuelo\n",
    "3. **Airport From:** Aeropuesto de salida\n",
    "4. **Airport To:** Aeropuerto de llegada\n",
    "5. **DayOfWeek:** Día de la semana en el que se realiza el vuelo\n",
    "6. **Time:** Duración del vuelo (minutos)\n",
    "7. **Length:** Distancia\n",
    "8. **Delay:** booleano si el vuelo tuvo demoras o no"
   ]
  },
  {
   "cell_type": "markdown",
   "id": "358d2ff2-6991-40b9-9c10-f9fc90f56505",
   "metadata": {},
   "source": [
    "### 2. Explotando los datos"
   ]
  },
  {
   "cell_type": "code",
   "execution_count": 4,
   "id": "45874691-eb40-4200-8926-5557918ac909",
   "metadata": {},
   "outputs": [
    {
     "data": {
      "text/plain": [
       "(539383, 9)"
      ]
     },
     "execution_count": 4,
     "metadata": {},
     "output_type": "execute_result"
    }
   ],
   "source": [
    "# Qué tamaño tienen los datos?\n",
    "df_air.shape"
   ]
  },
  {
   "cell_type": "code",
   "execution_count": 5,
   "id": "beff6805-f185-49d1-8a6f-105f10cb9f78",
   "metadata": {},
   "outputs": [
    {
     "name": "stdout",
     "output_type": "stream",
     "text": [
      "<class 'pandas.core.frame.DataFrame'>\n",
      "RangeIndex: 539383 entries, 0 to 539382\n",
      "Data columns (total 9 columns):\n",
      " #   Column       Non-Null Count   Dtype \n",
      "---  ------       --------------   ----- \n",
      " 0   id           539383 non-null  int64 \n",
      " 1   Airline      539383 non-null  object\n",
      " 2   Flight       539383 non-null  int64 \n",
      " 3   AirportFrom  539383 non-null  object\n",
      " 4   AirportTo    539383 non-null  object\n",
      " 5   DayOfWeek    539383 non-null  int64 \n",
      " 6   Time         539383 non-null  int64 \n",
      " 7   Length       539383 non-null  int64 \n",
      " 8   Delay        539383 non-null  int64 \n",
      "dtypes: int64(6), object(3)\n",
      "memory usage: 37.0+ MB\n"
     ]
    }
   ],
   "source": [
    "# Hay valores nulos en los datos?\n",
    "df_air.info()"
   ]
  },
  {
   "cell_type": "code",
   "execution_count": 6,
   "id": "8ba3af57-4832-44b1-9889-8b997e7c70b4",
   "metadata": {},
   "outputs": [
    {
     "data": {
      "text/html": [
       "<div>\n",
       "<style scoped>\n",
       "    .dataframe tbody tr th:only-of-type {\n",
       "        vertical-align: middle;\n",
       "    }\n",
       "\n",
       "    .dataframe tbody tr th {\n",
       "        vertical-align: top;\n",
       "    }\n",
       "\n",
       "    .dataframe thead th {\n",
       "        text-align: right;\n",
       "    }\n",
       "</style>\n",
       "<table border=\"1\" class=\"dataframe\">\n",
       "  <thead>\n",
       "    <tr style=\"text-align: right;\">\n",
       "      <th></th>\n",
       "      <th>id</th>\n",
       "      <th>Flight</th>\n",
       "      <th>DayOfWeek</th>\n",
       "      <th>Time</th>\n",
       "      <th>Length</th>\n",
       "      <th>Delay</th>\n",
       "    </tr>\n",
       "  </thead>\n",
       "  <tbody>\n",
       "    <tr>\n",
       "      <th>count</th>\n",
       "      <td>539383.00000</td>\n",
       "      <td>539383.000000</td>\n",
       "      <td>539383.000000</td>\n",
       "      <td>539383.000000</td>\n",
       "      <td>539383.000000</td>\n",
       "      <td>539383.000000</td>\n",
       "    </tr>\n",
       "    <tr>\n",
       "      <th>mean</th>\n",
       "      <td>269692.00000</td>\n",
       "      <td>2427.928630</td>\n",
       "      <td>3.929668</td>\n",
       "      <td>802.728963</td>\n",
       "      <td>132.202007</td>\n",
       "      <td>0.445442</td>\n",
       "    </tr>\n",
       "    <tr>\n",
       "      <th>std</th>\n",
       "      <td>155706.60446</td>\n",
       "      <td>2067.429837</td>\n",
       "      <td>1.914664</td>\n",
       "      <td>278.045911</td>\n",
       "      <td>70.117016</td>\n",
       "      <td>0.497015</td>\n",
       "    </tr>\n",
       "    <tr>\n",
       "      <th>min</th>\n",
       "      <td>1.00000</td>\n",
       "      <td>1.000000</td>\n",
       "      <td>1.000000</td>\n",
       "      <td>10.000000</td>\n",
       "      <td>0.000000</td>\n",
       "      <td>0.000000</td>\n",
       "    </tr>\n",
       "    <tr>\n",
       "      <th>25%</th>\n",
       "      <td>134846.50000</td>\n",
       "      <td>712.000000</td>\n",
       "      <td>2.000000</td>\n",
       "      <td>565.000000</td>\n",
       "      <td>81.000000</td>\n",
       "      <td>0.000000</td>\n",
       "    </tr>\n",
       "    <tr>\n",
       "      <th>50%</th>\n",
       "      <td>269692.00000</td>\n",
       "      <td>1809.000000</td>\n",
       "      <td>4.000000</td>\n",
       "      <td>795.000000</td>\n",
       "      <td>115.000000</td>\n",
       "      <td>0.000000</td>\n",
       "    </tr>\n",
       "    <tr>\n",
       "      <th>75%</th>\n",
       "      <td>404537.50000</td>\n",
       "      <td>3745.000000</td>\n",
       "      <td>5.000000</td>\n",
       "      <td>1035.000000</td>\n",
       "      <td>162.000000</td>\n",
       "      <td>1.000000</td>\n",
       "    </tr>\n",
       "    <tr>\n",
       "      <th>max</th>\n",
       "      <td>539383.00000</td>\n",
       "      <td>7814.000000</td>\n",
       "      <td>7.000000</td>\n",
       "      <td>1439.000000</td>\n",
       "      <td>655.000000</td>\n",
       "      <td>1.000000</td>\n",
       "    </tr>\n",
       "  </tbody>\n",
       "</table>\n",
       "</div>"
      ],
      "text/plain": [
       "                 id         Flight      DayOfWeek           Time  \\\n",
       "count  539383.00000  539383.000000  539383.000000  539383.000000   \n",
       "mean   269692.00000    2427.928630       3.929668     802.728963   \n",
       "std    155706.60446    2067.429837       1.914664     278.045911   \n",
       "min         1.00000       1.000000       1.000000      10.000000   \n",
       "25%    134846.50000     712.000000       2.000000     565.000000   \n",
       "50%    269692.00000    1809.000000       4.000000     795.000000   \n",
       "75%    404537.50000    3745.000000       5.000000    1035.000000   \n",
       "max    539383.00000    7814.000000       7.000000    1439.000000   \n",
       "\n",
       "              Length          Delay  \n",
       "count  539383.000000  539383.000000  \n",
       "mean      132.202007       0.445442  \n",
       "std        70.117016       0.497015  \n",
       "min         0.000000       0.000000  \n",
       "25%        81.000000       0.000000  \n",
       "50%       115.000000       0.000000  \n",
       "75%       162.000000       1.000000  \n",
       "max       655.000000       1.000000  "
      ]
     },
     "execution_count": 6,
     "metadata": {},
     "output_type": "execute_result"
    }
   ],
   "source": [
    "# Como se distribuyen las variables numéricas\n",
    "df_air.describe()"
   ]
  },
  {
   "cell_type": "code",
   "execution_count": 7,
   "id": "c055644a-ccc9-4a3c-82f7-46d065d15904",
   "metadata": {},
   "outputs": [
    {
     "data": {
      "text/html": [
       "<div>\n",
       "<style scoped>\n",
       "    .dataframe tbody tr th:only-of-type {\n",
       "        vertical-align: middle;\n",
       "    }\n",
       "\n",
       "    .dataframe tbody tr th {\n",
       "        vertical-align: top;\n",
       "    }\n",
       "\n",
       "    .dataframe thead th {\n",
       "        text-align: right;\n",
       "    }\n",
       "</style>\n",
       "<table border=\"1\" class=\"dataframe\">\n",
       "  <thead>\n",
       "    <tr style=\"text-align: right;\">\n",
       "      <th></th>\n",
       "      <th>Airline</th>\n",
       "      <th>AirportFrom</th>\n",
       "      <th>AirportTo</th>\n",
       "    </tr>\n",
       "  </thead>\n",
       "  <tbody>\n",
       "    <tr>\n",
       "      <th>count</th>\n",
       "      <td>539383</td>\n",
       "      <td>539383</td>\n",
       "      <td>539383</td>\n",
       "    </tr>\n",
       "    <tr>\n",
       "      <th>unique</th>\n",
       "      <td>18</td>\n",
       "      <td>293</td>\n",
       "      <td>293</td>\n",
       "    </tr>\n",
       "    <tr>\n",
       "      <th>top</th>\n",
       "      <td>WN</td>\n",
       "      <td>ATL</td>\n",
       "      <td>ATL</td>\n",
       "    </tr>\n",
       "    <tr>\n",
       "      <th>freq</th>\n",
       "      <td>94097</td>\n",
       "      <td>34449</td>\n",
       "      <td>34440</td>\n",
       "    </tr>\n",
       "  </tbody>\n",
       "</table>\n",
       "</div>"
      ],
      "text/plain": [
       "       Airline AirportFrom AirportTo\n",
       "count   539383      539383    539383\n",
       "unique      18         293       293\n",
       "top         WN         ATL       ATL\n",
       "freq     94097       34449     34440"
      ]
     },
     "execution_count": 7,
     "metadata": {},
     "output_type": "execute_result"
    }
   ],
   "source": [
    "# Como se comportan las variables categóricas\n",
    "df_air.describe(include=['O'])"
   ]
  },
  {
   "cell_type": "markdown",
   "id": "30b49614-05a6-4538-93e8-9a4f2e693caf",
   "metadata": {},
   "source": [
    "*Resumen de los datos:*\n",
    "\n",
    "Los datos se relacionan con la industria de la aviación comercial estadounidese. \n",
    "Contamos con 539.383 observaciones y 6 variables.\n",
    "También resulta importante mencionar que no tenemos valores faltantes en nuestro dataset."
   ]
  },
  {
   "cell_type": "markdown",
   "id": "098c8dd6-a16d-4ff2-a1e8-e47659fad298",
   "metadata": {},
   "source": [
    "#### 2.1 Data Wrangling"
   ]
  },
  {
   "cell_type": "markdown",
   "id": "0d08b411-b1ca-4b89-93c8-a66c6fc9e35c",
   "metadata": {},
   "source": [
    "En la distribución de las variables númericas hemos identificado que existen vuelos con distancia 0 (Length = 0). Procedemos a eliminar estos registros "
   ]
  },
  {
   "cell_type": "code",
   "execution_count": 8,
   "id": "7aa3fbaf-e5b4-4ae2-a0e4-a0c92ea3dc37",
   "metadata": {},
   "outputs": [
    {
     "data": {
      "text/plain": [
       "(539379, 9)"
      ]
     },
     "execution_count": 8,
     "metadata": {},
     "output_type": "execute_result"
    }
   ],
   "source": [
    "df_air.drop(df_air[df_air.Length == 0].index, inplace=True)\n",
    "df_air.shape"
   ]
  },
  {
   "cell_type": "markdown",
   "id": "04783891-2268-4888-acf2-786df9864785",
   "metadata": {},
   "source": [
    "Creamos una nueva columna con agrupacion de los tiempos de vuelos"
   ]
  },
  {
   "cell_type": "code",
   "execution_count": 9,
   "id": "b4c6bd22-dfbc-4660-bc8f-1224d86742db",
   "metadata": {},
   "outputs": [
    {
     "data": {
      "text/html": [
       "<div>\n",
       "<style scoped>\n",
       "    .dataframe tbody tr th:only-of-type {\n",
       "        vertical-align: middle;\n",
       "    }\n",
       "\n",
       "    .dataframe tbody tr th {\n",
       "        vertical-align: top;\n",
       "    }\n",
       "\n",
       "    .dataframe thead th {\n",
       "        text-align: right;\n",
       "    }\n",
       "</style>\n",
       "<table border=\"1\" class=\"dataframe\">\n",
       "  <thead>\n",
       "    <tr style=\"text-align: right;\">\n",
       "      <th></th>\n",
       "      <th>id</th>\n",
       "      <th>Airline</th>\n",
       "      <th>Flight</th>\n",
       "      <th>AirportFrom</th>\n",
       "      <th>AirportTo</th>\n",
       "      <th>DayOfWeek</th>\n",
       "      <th>Time</th>\n",
       "      <th>Length</th>\n",
       "      <th>Delay</th>\n",
       "      <th>TimeGroups</th>\n",
       "    </tr>\n",
       "  </thead>\n",
       "  <tbody>\n",
       "    <tr>\n",
       "      <th>0</th>\n",
       "      <td>1</td>\n",
       "      <td>CO</td>\n",
       "      <td>269</td>\n",
       "      <td>SFO</td>\n",
       "      <td>IAH</td>\n",
       "      <td>3</td>\n",
       "      <td>15</td>\n",
       "      <td>205</td>\n",
       "      <td>1</td>\n",
       "      <td>&lt;= 500</td>\n",
       "    </tr>\n",
       "    <tr>\n",
       "      <th>1</th>\n",
       "      <td>2</td>\n",
       "      <td>US</td>\n",
       "      <td>1558</td>\n",
       "      <td>PHX</td>\n",
       "      <td>CLT</td>\n",
       "      <td>3</td>\n",
       "      <td>15</td>\n",
       "      <td>222</td>\n",
       "      <td>1</td>\n",
       "      <td>&lt;= 500</td>\n",
       "    </tr>\n",
       "    <tr>\n",
       "      <th>2</th>\n",
       "      <td>3</td>\n",
       "      <td>AA</td>\n",
       "      <td>2400</td>\n",
       "      <td>LAX</td>\n",
       "      <td>DFW</td>\n",
       "      <td>3</td>\n",
       "      <td>20</td>\n",
       "      <td>165</td>\n",
       "      <td>1</td>\n",
       "      <td>&lt;= 500</td>\n",
       "    </tr>\n",
       "    <tr>\n",
       "      <th>3</th>\n",
       "      <td>4</td>\n",
       "      <td>AA</td>\n",
       "      <td>2466</td>\n",
       "      <td>SFO</td>\n",
       "      <td>DFW</td>\n",
       "      <td>3</td>\n",
       "      <td>20</td>\n",
       "      <td>195</td>\n",
       "      <td>1</td>\n",
       "      <td>&lt;= 500</td>\n",
       "    </tr>\n",
       "    <tr>\n",
       "      <th>4</th>\n",
       "      <td>5</td>\n",
       "      <td>AS</td>\n",
       "      <td>108</td>\n",
       "      <td>ANC</td>\n",
       "      <td>SEA</td>\n",
       "      <td>3</td>\n",
       "      <td>30</td>\n",
       "      <td>202</td>\n",
       "      <td>0</td>\n",
       "      <td>&lt;= 500</td>\n",
       "    </tr>\n",
       "    <tr>\n",
       "      <th>...</th>\n",
       "      <td>...</td>\n",
       "      <td>...</td>\n",
       "      <td>...</td>\n",
       "      <td>...</td>\n",
       "      <td>...</td>\n",
       "      <td>...</td>\n",
       "      <td>...</td>\n",
       "      <td>...</td>\n",
       "      <td>...</td>\n",
       "      <td>...</td>\n",
       "    </tr>\n",
       "    <tr>\n",
       "      <th>539378</th>\n",
       "      <td>539379</td>\n",
       "      <td>CO</td>\n",
       "      <td>178</td>\n",
       "      <td>OGG</td>\n",
       "      <td>SNA</td>\n",
       "      <td>5</td>\n",
       "      <td>1439</td>\n",
       "      <td>326</td>\n",
       "      <td>0</td>\n",
       "      <td>&gt; 1100</td>\n",
       "    </tr>\n",
       "    <tr>\n",
       "      <th>539379</th>\n",
       "      <td>539380</td>\n",
       "      <td>FL</td>\n",
       "      <td>398</td>\n",
       "      <td>SEA</td>\n",
       "      <td>ATL</td>\n",
       "      <td>5</td>\n",
       "      <td>1439</td>\n",
       "      <td>305</td>\n",
       "      <td>0</td>\n",
       "      <td>&gt; 1100</td>\n",
       "    </tr>\n",
       "    <tr>\n",
       "      <th>539380</th>\n",
       "      <td>539381</td>\n",
       "      <td>FL</td>\n",
       "      <td>609</td>\n",
       "      <td>SFO</td>\n",
       "      <td>MKE</td>\n",
       "      <td>5</td>\n",
       "      <td>1439</td>\n",
       "      <td>255</td>\n",
       "      <td>0</td>\n",
       "      <td>&gt; 1100</td>\n",
       "    </tr>\n",
       "    <tr>\n",
       "      <th>539381</th>\n",
       "      <td>539382</td>\n",
       "      <td>UA</td>\n",
       "      <td>78</td>\n",
       "      <td>HNL</td>\n",
       "      <td>SFO</td>\n",
       "      <td>5</td>\n",
       "      <td>1439</td>\n",
       "      <td>313</td>\n",
       "      <td>1</td>\n",
       "      <td>&gt; 1100</td>\n",
       "    </tr>\n",
       "    <tr>\n",
       "      <th>539382</th>\n",
       "      <td>539383</td>\n",
       "      <td>US</td>\n",
       "      <td>1442</td>\n",
       "      <td>LAX</td>\n",
       "      <td>PHL</td>\n",
       "      <td>5</td>\n",
       "      <td>1439</td>\n",
       "      <td>301</td>\n",
       "      <td>1</td>\n",
       "      <td>&gt; 1100</td>\n",
       "    </tr>\n",
       "  </tbody>\n",
       "</table>\n",
       "<p>539379 rows × 10 columns</p>\n",
       "</div>"
      ],
      "text/plain": [
       "            id Airline  Flight AirportFrom AirportTo  DayOfWeek  Time  Length  \\\n",
       "0            1      CO     269         SFO       IAH          3    15     205   \n",
       "1            2      US    1558         PHX       CLT          3    15     222   \n",
       "2            3      AA    2400         LAX       DFW          3    20     165   \n",
       "3            4      AA    2466         SFO       DFW          3    20     195   \n",
       "4            5      AS     108         ANC       SEA          3    30     202   \n",
       "...        ...     ...     ...         ...       ...        ...   ...     ...   \n",
       "539378  539379      CO     178         OGG       SNA          5  1439     326   \n",
       "539379  539380      FL     398         SEA       ATL          5  1439     305   \n",
       "539380  539381      FL     609         SFO       MKE          5  1439     255   \n",
       "539381  539382      UA      78         HNL       SFO          5  1439     313   \n",
       "539382  539383      US    1442         LAX       PHL          5  1439     301   \n",
       "\n",
       "        Delay TimeGroups  \n",
       "0           1     <= 500  \n",
       "1           1     <= 500  \n",
       "2           1     <= 500  \n",
       "3           1     <= 500  \n",
       "4           0     <= 500  \n",
       "...       ...        ...  \n",
       "539378      0     > 1100  \n",
       "539379      0     > 1100  \n",
       "539380      0     > 1100  \n",
       "539381      1     > 1100  \n",
       "539382      1     > 1100  \n",
       "\n",
       "[539379 rows x 10 columns]"
      ]
     },
     "execution_count": 9,
     "metadata": {},
     "output_type": "execute_result"
    }
   ],
   "source": [
    "df_air.loc[df_air['Time'] <= 500, 'TimeGroups'] = '<= 500'\n",
    "df_air.loc[df_air['Time'].between(500, 801, inclusive='neither'), 'TimeGroups'] = '501 - 800'\n",
    "df_air.loc[df_air['Time'].between(800, 1101, inclusive='neither'), 'TimeGroups'] = '801 - 1100'\n",
    "df_air.loc[df_air['Time'] > 1100, 'TimeGroups'] = '> 1100'\n",
    "\n",
    "df_air"
   ]
  },
  {
   "cell_type": "markdown",
   "id": "9f168930-e81a-4fb2-9a1d-2a5f0ae5852c",
   "metadata": {},
   "source": [
    "Creamos una nueva columna con la agrupación de las distancias"
   ]
  },
  {
   "cell_type": "code",
   "execution_count": 10,
   "id": "a5c22e23-884f-4cc3-b41a-414a70184f86",
   "metadata": {},
   "outputs": [
    {
     "data": {
      "text/html": [
       "<div>\n",
       "<style scoped>\n",
       "    .dataframe tbody tr th:only-of-type {\n",
       "        vertical-align: middle;\n",
       "    }\n",
       "\n",
       "    .dataframe tbody tr th {\n",
       "        vertical-align: top;\n",
       "    }\n",
       "\n",
       "    .dataframe thead th {\n",
       "        text-align: right;\n",
       "    }\n",
       "</style>\n",
       "<table border=\"1\" class=\"dataframe\">\n",
       "  <thead>\n",
       "    <tr style=\"text-align: right;\">\n",
       "      <th></th>\n",
       "      <th>id</th>\n",
       "      <th>Airline</th>\n",
       "      <th>Flight</th>\n",
       "      <th>AirportFrom</th>\n",
       "      <th>AirportTo</th>\n",
       "      <th>DayOfWeek</th>\n",
       "      <th>Time</th>\n",
       "      <th>Length</th>\n",
       "      <th>Delay</th>\n",
       "      <th>TimeGroups</th>\n",
       "      <th>LengthGroups</th>\n",
       "    </tr>\n",
       "  </thead>\n",
       "  <tbody>\n",
       "    <tr>\n",
       "      <th>0</th>\n",
       "      <td>1</td>\n",
       "      <td>CO</td>\n",
       "      <td>269</td>\n",
       "      <td>SFO</td>\n",
       "      <td>IAH</td>\n",
       "      <td>3</td>\n",
       "      <td>15</td>\n",
       "      <td>205</td>\n",
       "      <td>1</td>\n",
       "      <td>&lt;= 500</td>\n",
       "      <td>&gt; 200</td>\n",
       "    </tr>\n",
       "    <tr>\n",
       "      <th>1</th>\n",
       "      <td>2</td>\n",
       "      <td>US</td>\n",
       "      <td>1558</td>\n",
       "      <td>PHX</td>\n",
       "      <td>CLT</td>\n",
       "      <td>3</td>\n",
       "      <td>15</td>\n",
       "      <td>222</td>\n",
       "      <td>1</td>\n",
       "      <td>&lt;= 500</td>\n",
       "      <td>&gt; 200</td>\n",
       "    </tr>\n",
       "    <tr>\n",
       "      <th>2</th>\n",
       "      <td>3</td>\n",
       "      <td>AA</td>\n",
       "      <td>2400</td>\n",
       "      <td>LAX</td>\n",
       "      <td>DFW</td>\n",
       "      <td>3</td>\n",
       "      <td>20</td>\n",
       "      <td>165</td>\n",
       "      <td>1</td>\n",
       "      <td>&lt;= 500</td>\n",
       "      <td>141 - 200</td>\n",
       "    </tr>\n",
       "    <tr>\n",
       "      <th>3</th>\n",
       "      <td>4</td>\n",
       "      <td>AA</td>\n",
       "      <td>2466</td>\n",
       "      <td>SFO</td>\n",
       "      <td>DFW</td>\n",
       "      <td>3</td>\n",
       "      <td>20</td>\n",
       "      <td>195</td>\n",
       "      <td>1</td>\n",
       "      <td>&lt;= 500</td>\n",
       "      <td>141 - 200</td>\n",
       "    </tr>\n",
       "    <tr>\n",
       "      <th>4</th>\n",
       "      <td>5</td>\n",
       "      <td>AS</td>\n",
       "      <td>108</td>\n",
       "      <td>ANC</td>\n",
       "      <td>SEA</td>\n",
       "      <td>3</td>\n",
       "      <td>30</td>\n",
       "      <td>202</td>\n",
       "      <td>0</td>\n",
       "      <td>&lt;= 500</td>\n",
       "      <td>&gt; 200</td>\n",
       "    </tr>\n",
       "    <tr>\n",
       "      <th>...</th>\n",
       "      <td>...</td>\n",
       "      <td>...</td>\n",
       "      <td>...</td>\n",
       "      <td>...</td>\n",
       "      <td>...</td>\n",
       "      <td>...</td>\n",
       "      <td>...</td>\n",
       "      <td>...</td>\n",
       "      <td>...</td>\n",
       "      <td>...</td>\n",
       "      <td>...</td>\n",
       "    </tr>\n",
       "    <tr>\n",
       "      <th>539378</th>\n",
       "      <td>539379</td>\n",
       "      <td>CO</td>\n",
       "      <td>178</td>\n",
       "      <td>OGG</td>\n",
       "      <td>SNA</td>\n",
       "      <td>5</td>\n",
       "      <td>1439</td>\n",
       "      <td>326</td>\n",
       "      <td>0</td>\n",
       "      <td>&gt; 1100</td>\n",
       "      <td>&gt; 200</td>\n",
       "    </tr>\n",
       "    <tr>\n",
       "      <th>539379</th>\n",
       "      <td>539380</td>\n",
       "      <td>FL</td>\n",
       "      <td>398</td>\n",
       "      <td>SEA</td>\n",
       "      <td>ATL</td>\n",
       "      <td>5</td>\n",
       "      <td>1439</td>\n",
       "      <td>305</td>\n",
       "      <td>0</td>\n",
       "      <td>&gt; 1100</td>\n",
       "      <td>&gt; 200</td>\n",
       "    </tr>\n",
       "    <tr>\n",
       "      <th>539380</th>\n",
       "      <td>539381</td>\n",
       "      <td>FL</td>\n",
       "      <td>609</td>\n",
       "      <td>SFO</td>\n",
       "      <td>MKE</td>\n",
       "      <td>5</td>\n",
       "      <td>1439</td>\n",
       "      <td>255</td>\n",
       "      <td>0</td>\n",
       "      <td>&gt; 1100</td>\n",
       "      <td>&gt; 200</td>\n",
       "    </tr>\n",
       "    <tr>\n",
       "      <th>539381</th>\n",
       "      <td>539382</td>\n",
       "      <td>UA</td>\n",
       "      <td>78</td>\n",
       "      <td>HNL</td>\n",
       "      <td>SFO</td>\n",
       "      <td>5</td>\n",
       "      <td>1439</td>\n",
       "      <td>313</td>\n",
       "      <td>1</td>\n",
       "      <td>&gt; 1100</td>\n",
       "      <td>&gt; 200</td>\n",
       "    </tr>\n",
       "    <tr>\n",
       "      <th>539382</th>\n",
       "      <td>539383</td>\n",
       "      <td>US</td>\n",
       "      <td>1442</td>\n",
       "      <td>LAX</td>\n",
       "      <td>PHL</td>\n",
       "      <td>5</td>\n",
       "      <td>1439</td>\n",
       "      <td>301</td>\n",
       "      <td>1</td>\n",
       "      <td>&gt; 1100</td>\n",
       "      <td>&gt; 200</td>\n",
       "    </tr>\n",
       "  </tbody>\n",
       "</table>\n",
       "<p>539379 rows × 11 columns</p>\n",
       "</div>"
      ],
      "text/plain": [
       "            id Airline  Flight AirportFrom AirportTo  DayOfWeek  Time  Length  \\\n",
       "0            1      CO     269         SFO       IAH          3    15     205   \n",
       "1            2      US    1558         PHX       CLT          3    15     222   \n",
       "2            3      AA    2400         LAX       DFW          3    20     165   \n",
       "3            4      AA    2466         SFO       DFW          3    20     195   \n",
       "4            5      AS     108         ANC       SEA          3    30     202   \n",
       "...        ...     ...     ...         ...       ...        ...   ...     ...   \n",
       "539378  539379      CO     178         OGG       SNA          5  1439     326   \n",
       "539379  539380      FL     398         SEA       ATL          5  1439     305   \n",
       "539380  539381      FL     609         SFO       MKE          5  1439     255   \n",
       "539381  539382      UA      78         HNL       SFO          5  1439     313   \n",
       "539382  539383      US    1442         LAX       PHL          5  1439     301   \n",
       "\n",
       "        Delay TimeGroups LengthGroups  \n",
       "0           1     <= 500        > 200  \n",
       "1           1     <= 500        > 200  \n",
       "2           1     <= 500    141 - 200  \n",
       "3           1     <= 500    141 - 200  \n",
       "4           0     <= 500        > 200  \n",
       "...       ...        ...          ...  \n",
       "539378      0     > 1100        > 200  \n",
       "539379      0     > 1100        > 200  \n",
       "539380      0     > 1100        > 200  \n",
       "539381      1     > 1100        > 200  \n",
       "539382      1     > 1100        > 200  \n",
       "\n",
       "[539379 rows x 11 columns]"
      ]
     },
     "execution_count": 10,
     "metadata": {},
     "output_type": "execute_result"
    }
   ],
   "source": [
    "df_air.loc[df_air['Length'] <= 80, 'LengthGroups'] = '<= 80'\n",
    "df_air.loc[df_air['Length'].between(80, 141, inclusive='neither'),  'LengthGroups'] = '81 - 140'\n",
    "df_air.loc[df_air['Length'].between(140, 201, inclusive='neither'),  'LengthGroups'] = '141 - 200'\n",
    "df_air.loc[df_air['Length'] > 200, 'LengthGroups'] = '> 200'\n",
    "df_air"
   ]
  },
  {
   "cell_type": "markdown",
   "id": "d1f5e35a-90a7-4414-96fc-07f166ba609a",
   "metadata": {},
   "source": [
    "#### 2.2 Análisis Univariado"
   ]
  },
  {
   "cell_type": "code",
   "execution_count": 11,
   "id": "a4467b53-b902-4b73-b16a-23489763eba2",
   "metadata": {},
   "outputs": [
    {
     "name": "stdout",
     "output_type": "stream",
     "text": [
      "6585\n"
     ]
    }
   ],
   "source": [
    "# Analisis de Vuelos\n",
    "un_flight = df_air['Flight'].unique()\n",
    "print(len(un_flight))"
   ]
  },
  {
   "cell_type": "markdown",
   "id": "4733eaa4-c266-46cb-8c06-3b009430d9df",
   "metadata": {},
   "source": [
    "El dataset cuenta con 6585 vuelos unicos"
   ]
  },
  {
   "cell_type": "code",
   "execution_count": 12,
   "id": "6f7a81ed-19c4-4f79-983e-aab5b056e2a3",
   "metadata": {},
   "outputs": [
    {
     "data": {
      "image/png": "[encoded data removed]",
      "text/plain": [
       "<Figure size 432x288 with 1 Axes>"
      ]
     },
     "metadata": {
      "needs_background": "light"
     },
     "output_type": "display_data"
    }
   ],
   "source": [
    "# Analisis Días de la semana\n",
    "fig, ax = plt.subplots()\n",
    "ax = sns.countplot(x='DayOfWeek', data=df_air)\n",
    "ax.set(title='Distribución de vuelos por día de la semana')\n",
    "plt.show()"
   ]
  },
  {
   "cell_type": "code",
   "execution_count": 13,
   "id": "e05ba918-b604-4280-9f8b-01075016734d",
   "metadata": {},
   "outputs": [
    {
     "data": {
      "image/png": "[encoded data removed]",
      "text/plain": [
       "<Figure size 936x288 with 1 Axes>"
      ]
     },
     "metadata": {
      "needs_background": "light"
     },
     "output_type": "display_data"
    }
   ],
   "source": [
    "# Analisis Aerolineas\n",
    "plt.figure(figsize=(13, 4))\n",
    "sns.countplot(x='Airline', data=df_air, order = df_air.Airline.value_counts().index)\n",
    "plt.title('Distribución de vuelos por Aerolineas Comerciales')\n",
    "plt.show()"
   ]
  },
  {
   "cell_type": "markdown",
   "id": "33a16c05-fb14-4394-bc7d-dde0feb821ee",
   "metadata": {},
   "source": [
    "**Diccionario de Aerolineas (según fuente de origen en KAGGLE):**\n",
    "- Alaska Airlines AS / ASA\n",
    "- American Airlines AA/AAL\n",
    "- Air Canada AC/AC\n",
    "- Aeromexico AM / AMX\n",
    "- Continental Airlines CO / COA\n",
    "- Delta Airlines DL / DAL\n",
    "- FedEx FX / FDX\n",
    "- Hawaiian Airlines HA / HAL\n",
    "- Northwest Airlines NW / NWA\n",
    "- Polar Air Cargo PO / PAC\n",
    "- Southwest Airlines SW / SWA\n",
    "- United Airlines UA / UAL\n",
    "- United Parcel (UPS) 5X / UPS\n",
    "- Virgin Atlantic VS / VIR\n",
    "- VivaAerobús VB / VIV\n",
    "- WestJet WS / WJ"
   ]
  },
  {
   "cell_type": "code",
   "execution_count": 14,
   "id": "57e22fcc-173a-4f63-a060-b6c0bf9c46e3",
   "metadata": {},
   "outputs": [
    {
     "data": {
      "text/plain": [
       "<AxesSubplot:>"
      ]
     },
     "execution_count": 14,
     "metadata": {},
     "output_type": "execute_result"
    },
    {
     "data": {
      "image/png": "[encoded data removed]",
      "text/plain": [
       "<Figure size 432x288 with 1 Axes>"
      ]
     },
     "metadata": {
      "needs_background": "light"
     },
     "output_type": "display_data"
    }
   ],
   "source": [
    "# Análisis de Distincia\n",
    "df_air['Length'].value_counts().sort_index().plot.area()"
   ]
  },
  {
   "cell_type": "code",
   "execution_count": 15,
   "id": "7c643638-31b4-4cd2-b257-520fe8a4cd24",
   "metadata": {},
   "outputs": [
    {
     "data": {
      "text/plain": [
       "<seaborn.axisgrid.FacetGrid at 0x23388069fd0>"
      ]
     },
     "execution_count": 15,
     "metadata": {},
     "output_type": "execute_result"
    },
    {
     "data": {
      "image/png": "[encoded data removed]",
      "text/plain": [
       "<Figure size 360x360 with 1 Axes>"
      ]
     },
     "metadata": {
      "needs_background": "light"
     },
     "output_type": "display_data"
    }
   ],
   "source": [
    "sns.displot(x='Length', data=df_air, kind=\"kde\")"
   ]
  },
  {
   "cell_type": "markdown",
   "id": "f9fc5dd9-8d3a-4287-978c-e587abd1bee3",
   "metadata": {},
   "source": [
    "La variable 'Length' cuenta con una distribución \"Asimétrica hacia la izquierda\".\n",
    "A su vez, evidencia que las distancias absolutas de los vuelos se concentraron entre las 50 y las 200 millas. Con un valor mínimo de 0 y un máximo de 655. En total, 4 registros contaban con una distancia igual a cero, por lo que decidimos excluirlos del análisis."
   ]
  },
  {
   "cell_type": "code",
   "execution_count": 16,
   "id": "adc55d01-fa63-472b-99a9-c282cafccc71",
   "metadata": {},
   "outputs": [
    {
     "data": {
      "image/png": "[encoded data removed]",
      "text/plain": [
       "<Figure size 432x288 with 1 Axes>"
      ]
     },
     "metadata": {},
     "output_type": "display_data"
    }
   ],
   "source": [
    "# Distribucion de agrupacion de Distancia\n",
    "lgroup = df_air['LengthGroups'].value_counts()\n",
    "plt.pie(lgroup, autopct='%1.1f%%', \n",
    "       wedgeprops={\"linewidth\": 3, \"edgecolor\": \"white\"}, \n",
    "        labels=lgroup.index)\n",
    "plt.show()"
   ]
  },
  {
   "cell_type": "code",
   "execution_count": 17,
   "id": "052bb291-e062-4546-838b-8283eb92c648",
   "metadata": {},
   "outputs": [
    {
     "data": {
      "image/png": "[encoded data removed]",
      "text/plain": [
       "<Figure size 432x288 with 1 Axes>"
      ]
     },
     "metadata": {},
     "output_type": "display_data"
    }
   ],
   "source": [
    "# Distribucion de agrupacion de Tiempos\n",
    "tgroup = df_air['TimeGroups'].value_counts()\n",
    "plt.pie(tgroup, autopct='%1.1f%%', \n",
    "       wedgeprops={\"linewidth\": 3, \"edgecolor\": \"white\"}, \n",
    "        labels=tgroup.index)\n",
    "plt.show()"
   ]
  },
  {
   "cell_type": "markdown",
   "id": "e1be1214-e690-471c-ab47-75a465bf44ab",
   "metadata": {},
   "source": [
    "#### 2.3 Correlación de variables"
   ]
  },
  {
   "cell_type": "code",
   "execution_count": 18,
   "id": "c7a027d6-f54d-41e0-8495-e36237479d8b",
   "metadata": {},
   "outputs": [
    {
     "data": {
      "text/plain": [
       "Index(['id', 'Airline', 'Flight', 'AirportFrom', 'AirportTo', 'DayOfWeek',\n",
       "       'Time', 'Length', 'Delay', 'TimeGroups', 'LengthGroups'],\n",
       "      dtype='object')"
      ]
     },
     "execution_count": 18,
     "metadata": {},
     "output_type": "execute_result"
    }
   ],
   "source": [
    "df_air.columns"
   ]
  },
  {
   "cell_type": "code",
   "execution_count": 50,
   "id": "60c42353-0300-4f3b-850e-36a64a87e895",
   "metadata": {},
   "outputs": [
    {
     "data": {
      "text/plain": [
       "<AxesSubplot:>"
      ]
     },
     "execution_count": 50,
     "metadata": {},
     "output_type": "execute_result"
    },
    {
     "data": {
      "image/png": "[encoded data removed]",
      "text/plain": [
       "<Figure size 1008x504 with 2 Axes>"
      ]
     },
     "metadata": {
      "needs_background": "light"
     },
     "output_type": "display_data"
    }
   ],
   "source": [
    "correlation = df_air.corr().round(2)\n",
    "cmap = sns.diverging_palette(220, 10, as_cmap=True)\n",
    "plt.figure(figsize = (14,7))\n",
    "sns.heatmap(correlation, annot = True, cmap=cmap, vmax=.3, center=0,\n",
    "            square=True, linewidths=.5, cbar_kws={\"shrink\": .5},fmt =\".3f\")"
   ]
  },
  {
   "cell_type": "markdown",
   "id": "c52b3d7d-d04a-432d-82b3-c9e2b51f79c0",
   "metadata": {},
   "source": [
    "#### 2.4 Estudio de la variable Target --> \"Delay\""
   ]
  },
  {
   "cell_type": "code",
   "execution_count": 20,
   "id": "af5d46cc-dfc6-45e0-819d-b05a2a73e5ff",
   "metadata": {},
   "outputs": [
    {
     "data": {
      "text/plain": [
       "Delay\n",
       "0    299116\n",
       "1    240263\n",
       "Name: id, dtype: int64"
      ]
     },
     "execution_count": 20,
     "metadata": {},
     "output_type": "execute_result"
    }
   ],
   "source": [
    "# Distribucion de Retrasos\n",
    "df_air.groupby(['Delay']).count()['id']"
   ]
  },
  {
   "cell_type": "code",
   "execution_count": 21,
   "id": "ca13afb3-ca9d-49c0-bb04-3bfa5a08710c",
   "metadata": {},
   "outputs": [
    {
     "data": {
      "image/png": "[encoded data removed]",
      "text/plain": [
       "<Figure size 432x288 with 1 Axes>"
      ]
     },
     "metadata": {},
     "output_type": "display_data"
    }
   ],
   "source": [
    "Delays = df_air['Delay'].value_counts()\n",
    "plt.pie(Delays, colors=['#BB8FCE', '#7FB3D5'], autopct='%1.1f%%', \n",
    "       wedgeprops={\"linewidth\": 3, \"edgecolor\": \"white\"}, \n",
    "        labels=Delays.index)\n",
    "plt.show()"
   ]
  },
  {
   "cell_type": "code",
   "execution_count": 22,
   "id": "826ba033-5ad8-4308-871a-6f91722f0bf6",
   "metadata": {},
   "outputs": [
    {
     "data": {
      "text/plain": [
       "Delay  Airline\n",
       "0      9E         12460\n",
       "       AA         27920\n",
       "       AS          7579\n",
       "       B6          9653\n",
       "       CO          9161\n",
       "       DL         33488\n",
       "       EV         16728\n",
       "       F9          3554\n",
       "       FL         14552\n",
       "       HA          3792\n",
       "       MQ         23863\n",
       "       OH          9128\n",
       "       OO         27494\n",
       "       UA         18673\n",
       "       US         22909\n",
       "       WN         28440\n",
       "       XE         19331\n",
       "       YV         10391\n",
       "1      9E          8226\n",
       "       AA         17736\n",
       "       AS          3892\n",
       "       B6          8458\n",
       "       CO         11957\n",
       "       DL         27452\n",
       "       EV         11255\n",
       "       F9          2899\n",
       "       FL          6275\n",
       "       HA          1786\n",
       "       MQ         12742\n",
       "       OH          3502\n",
       "       OO         22760\n",
       "       UA          8946\n",
       "       US         11591\n",
       "       WN         65657\n",
       "       XE         11795\n",
       "       YV          3334\n",
       "Name: id, dtype: int64"
      ]
     },
     "execution_count": 22,
     "metadata": {},
     "output_type": "execute_result"
    }
   ],
   "source": [
    "# Delay vs Airline\n",
    "df_air.groupby(['Delay','Airline']).count()['id']"
   ]
  },
  {
   "cell_type": "code",
   "execution_count": 53,
   "id": "7b795e31-271d-4b7a-929f-b3939ea77169",
   "metadata": {},
   "outputs": [
    {
     "data": {
      "image/png": "[encoded data removed]",
      "text/plain": [
       "<Figure size 864x432 with 1 Axes>"
      ]
     },
     "metadata": {
      "needs_background": "light"
     },
     "output_type": "display_data"
    }
   ],
   "source": [
    "plt.figure(figsize = (12,6))\n",
    "sns.histplot(data=df_air, x = df_air['Airline'], hue=df_air['Delay'], multiple=\"dodge\", shrink=.8) \n",
    "plt.title('Cantidad de vuelos Con/Sin Retrasos por Aerolineas', fontsize = 14)\n",
    "plt.show()"
   ]
  },
  {
   "cell_type": "code",
   "execution_count": 25,
   "id": "5cf70327-e248-488e-8383-ce99e63f25af",
   "metadata": {},
   "outputs": [
    {
     "data": {
      "text/plain": [
       "Airline  Delay\n",
       "9E       0        60.23\n",
       "         1        39.77\n",
       "AA       0        61.15\n",
       "         1        38.85\n",
       "AS       0        66.07\n",
       "         1        33.93\n",
       "B6       0        53.30\n",
       "         1        46.70\n",
       "CO       0        43.38\n",
       "         1        56.62\n",
       "DL       0        54.95\n",
       "         1        45.05\n",
       "EV       0        59.78\n",
       "         1        40.22\n",
       "F9       0        55.08\n",
       "         1        44.92\n",
       "FL       0        69.87\n",
       "         1        30.13\n",
       "HA       0        67.98\n",
       "         1        32.02\n",
       "MQ       0        65.19\n",
       "         1        34.81\n",
       "OH       0        72.27\n",
       "         1        27.73\n",
       "OO       0        54.71\n",
       "         1        45.29\n",
       "UA       0        67.61\n",
       "         1        32.39\n",
       "US       0        66.40\n",
       "         1        33.60\n",
       "WN       0        30.22\n",
       "         1        69.78\n",
       "XE       0        62.11\n",
       "         1        37.89\n",
       "YV       0        75.71\n",
       "         1        24.29\n",
       "Name: %Delay_Airline, dtype: float64"
      ]
     },
     "execution_count": 25,
     "metadata": {},
     "output_type": "execute_result"
    }
   ],
   "source": [
    "df_aux = df_air.groupby(['Airline', 'Delay'])['id'].count().rename('%Delay_Airline').groupby(level = 0).transform(lambda x: (x/x.sum())*100).round(2)\n",
    "df_aux"
   ]
  },
  {
   "cell_type": "markdown",
   "id": "49056eaa-22ad-49e8-a9a4-95053e4eb251",
   "metadata": {},
   "source": [
    "En 16 de las 18 aerolíneas la cantidad de vuelos sin retrasos es superior a la cantidad de vuelos con retrasos. Llamativamente, encontramos la situación inversa en WN, la aerolínea con mayor cantidad de vuelos, y en CO, una de las aerolíneas con menor cantidad de vuelos registrados."
   ]
  },
  {
   "cell_type": "code",
   "execution_count": 26,
   "id": "f9067e50-1aa7-47e3-bd11-9a43ca7d21ec",
   "metadata": {},
   "outputs": [
    {
     "data": {
      "text/plain": [
       "Delay  DayOfWeek\n",
       "0      1            38739\n",
       "       2            39427\n",
       "       3            47492\n",
       "       4            50201\n",
       "       5            49733\n",
       "       6            35339\n",
       "       7            38185\n",
       "1      1            34030\n",
       "       2            31913\n",
       "       3            42254\n",
       "       4            41244\n",
       "       5            35515\n",
       "       6            23615\n",
       "       7            31692\n",
       "Name: id, dtype: int64"
      ]
     },
     "execution_count": 26,
     "metadata": {},
     "output_type": "execute_result"
    }
   ],
   "source": [
    "# Delay vs DayOfWeek\n",
    "df_air.groupby(['Delay','DayOfWeek']).count()['id']"
   ]
  },
  {
   "cell_type": "code",
   "execution_count": 27,
   "id": "e7c2ca8d-64fe-44a7-a2ed-ef37561743f4",
   "metadata": {},
   "outputs": [
    {
     "data": {
      "image/png": "[encoded data removed]",
      "text/plain": [
       "<Figure size 432x288 with 1 Axes>"
      ]
     },
     "metadata": {
      "needs_background": "light"
     },
     "output_type": "display_data"
    }
   ],
   "source": [
    "group_day = df_air.groupby(['Delay','DayOfWeek']).count()['id']\n",
    "(group_day.unstack(level=0).plot.bar())\n",
    "plt.show()"
   ]
  },
  {
   "cell_type": "code",
   "execution_count": 51,
   "id": "ea6ebc49-f036-4585-aa9e-33ff385e80ae",
   "metadata": {},
   "outputs": [
    {
     "data": {
      "image/png": "[encoded data removed]",
      "text/plain": [
       "<Figure size 432x288 with 1 Axes>"
      ]
     },
     "metadata": {
      "needs_background": "light"
     },
     "output_type": "display_data"
    }
   ],
   "source": [
    "# Delay vs Time\n",
    "#plt.figure(figsize = (8,6))\n",
    "sns.boxplot( x=df_air['Delay'], y=df_air['Time'], palette = 'viridis')\n",
    "plt.title('Relación entre Time y Delay', fontsize = 14)\n",
    "plt.show()"
   ]
  },
  {
   "cell_type": "code",
   "execution_count": 55,
   "id": "ee3b77e1-4deb-4872-b495-39deaafc7b05",
   "metadata": {},
   "outputs": [
    {
     "data": {
      "image/png": "[encoded data removed]",
      "text/plain": [
       "<Figure size 432x288 with 1 Axes>"
      ]
     },
     "metadata": {
      "needs_background": "light"
     },
     "output_type": "display_data"
    }
   ],
   "source": [
    "# Delay vs TimeGroups\n",
    "sns.histplot(data=df_air, x = df_air['TimeGroups'], hue=df_air['Delay'], multiple=\"dodge\", shrink=.8) \n",
    "plt.show()"
   ]
  },
  {
   "cell_type": "code",
   "execution_count": 56,
   "id": "9b5057ba-b7c8-4791-a87c-eaab7d22f0f7",
   "metadata": {},
   "outputs": [
    {
     "data": {
      "image/png": "[encoded data removed]",
      "text/plain": [
       "<Figure size 432x288 with 1 Axes>"
      ]
     },
     "metadata": {
      "needs_background": "light"
     },
     "output_type": "display_data"
    }
   ],
   "source": [
    "# Delay vs LengthGroups \n",
    "sns.histplot(data=df_air, x = df_air['LengthGroups'], hue=df_air['Delay'], multiple=\"dodge\", shrink=.8) \n",
    "plt.show()"
   ]
  },
  {
   "cell_type": "markdown",
   "id": "04ac4957-bdb4-43a5-9457-a71ceeda80d2",
   "metadata": {},
   "source": [
    "#### 2.5 Análisis Multivariado"
   ]
  },
  {
   "cell_type": "code",
   "execution_count": 31,
   "id": "7ab5e1a4-55d0-4539-a6b8-15b7d21ddb79",
   "metadata": {},
   "outputs": [
    {
     "data": {
      "image/png": "[encoded data removed]",
      "text/plain": [
       "<Figure size 1008x504 with 1 Axes>"
      ]
     },
     "metadata": {
      "needs_background": "light"
     },
     "output_type": "display_data"
    }
   ],
   "source": [
    "%matplotlib inline\n",
    "plt.figure(figsize = (14,7))\n",
    "sns.barplot(x = df_air['Airline'], y = df_air['Length'], hue=df_air['Delay']) \n",
    "plt.title('Distancia promedio de vuelos para cada Aerolinea diferenciando si tuvieron o no retraso')\n",
    "plt.show()"
   ]
  },
  {
   "cell_type": "markdown",
   "id": "fddce900-8e3e-44d0-af93-2eb6a01e3319",
   "metadata": {},
   "source": [
    "El gráfico de barra calcula el promedio de campo \"Length\" por aerolinea diferenciando aquellos que presentaron retrasos versus aquellos que no."
   ]
  },
  {
   "cell_type": "code",
   "execution_count": 32,
   "id": "98d2a9ec-22b7-4f58-85db-c6d617a840ed",
   "metadata": {},
   "outputs": [
    {
     "data": {
      "image/png": "[encoded data removed]",
      "text/plain": [
       "<Figure size 1008x504 with 1 Axes>"
      ]
     },
     "metadata": {
      "needs_background": "light"
     },
     "output_type": "display_data"
    }
   ],
   "source": [
    "plt.figure(figsize = (14,7))\n",
    "sns.boxplot( x=df_air['DayOfWeek'], y=df_air['Time'], hue=df_air['Delay'], palette = 'viridis')\n",
    "plt.title('Relación entre Día de la semana y Retrasos', fontsize = 14)\n",
    "plt.show()"
   ]
  },
  {
   "cell_type": "markdown",
   "id": "79246ee5-e9ea-4a64-ba00-1ce9e82273b7",
   "metadata": {},
   "source": [
    "El boxplot anterior muestra la relación entre días de la semana, el tiempo y la existencia (o inexistencia) de retrasos. Decidimos hacer este análisis partiendo de la base del desafío anterior (análisis bivariado de tiempo y retrasos) para detectar posibles variaciones entre los días de la semana."
   ]
  },
  {
   "cell_type": "code",
   "execution_count": null,
   "id": "59828d24-b7f2-42aa-822d-583a72375567",
   "metadata": {},
   "outputs": [],
   "source": []
  }
 ],
 "metadata": {
  "kernelspec": {
   "display_name": "Python 3 (ipykernel)",
   "language": "python",
   "name": "python3"
  },
  "language_info": {
   "codemirror_mode": {
    "name": "ipython",
    "version": 3
   },
   "file_extension": ".py",
   "mimetype": "text/x-python",
   "name": "python",
   "nbconvert_exporter": "python",
   "pygments_lexer": "ipython3",
   "version": "3.9.12"
  }
 },
 "nbformat": 4,
 "nbformat_minor": 5
}
